{
  "cells": [
    {
      "cell_type": "code",
      "execution_count": 2,
      "metadata": {
        "id": "wGL8P8FbR6QJ"
      },
      "outputs": [],
      "source": [
        "import pandas as pd\n",
        "import numpy as np\n",
        "import matplotlib.pyplot as plt\n",
        "import seaborn as sns\n",
        "from scipy import stats\n",
        "from sklearn.metrics import mean_squared_error, mean_absolute_error\n",
        "from datetime import datetime"
      ]
    },
    {
      "cell_type": "markdown",
      "metadata": {},
      "source": [
        "### test"
      ]
    },
    {
      "cell_type": "code",
      "execution_count": 11,
      "metadata": {},
      "outputs": [],
      "source": [
        "irri_2 = pd.read_csv(\"dataset/Irrigation_2.csv\", sep = ';', encoding='ISO-8859-1', index_col=False)\n",
        "irri_3 = pd.read_csv(\"dataset/Irrigation_3.csv\", sep = ';', encoding='ISO-8859-1', index_col=False)\n",
        "irri_4 = pd.read_csv(\"dataset/Irrigation_4.csv\", sep = ';', encoding='ISO-8859-1', index_col=False)\n",
        "irri_5 = pd.read_csv(\"dataset/Irrigation_5.csv\", sep = ';', encoding='ISO-8859-1', index_col=False)\n",
        "irri_6 = pd.read_csv(\"dataset/Irrigation_6.csv\", sep = ';', encoding='ISO-8859-1', index_col=False)\n",
        "irri_7 = pd.read_csv(\"dataset/Irrigation_7.csv\", sep = ';', encoding='ISO-8859-1', index_col=False)\n",
        "irri_8 = pd.read_csv(\"dataset/Irrigation_8.csv\", sep = ';', encoding='ISO-8859-1', index_col=False)\n",
        "irri_9 = pd.read_csv(\"dataset/Irrigation_9.csv\", sep = ';', encoding='ISO-8859-1', index_col=False)"
      ]
    },
    {
      "cell_type": "code",
      "execution_count": 20,
      "metadata": {},
      "outputs": [
        {
          "name": "stdout",
          "output_type": "stream",
          "text": [
            "['Campagne', 'Region', 'Site', 'Famille', 'Variete', 'Num Parcelle', 'Code Traçabilité', 'Date', 'Qté eau (m3)']\n"
          ]
        }
      ],
      "source": [
        "column_names = irri_4.columns.tolist()\n",
        "print(column_names)"
      ]
    },
    {
      "cell_type": "code",
      "execution_count": 17,
      "metadata": {},
      "outputs": [
        {
          "name": "stdout",
          "output_type": "stream",
          "text": [
            "Campagne            object\n",
            "Region              object\n",
            "Site                object\n",
            "Famille             object\n",
            "Variete             object\n",
            "Num Parcelle        object\n",
            "Code Traçabilité    object\n",
            "Date                object\n",
            "Qté eau (m3)        object\n",
            "dtype: object\n"
          ]
        }
      ],
      "source": [
        "print(irri_2.dtypes)"
      ]
    },
    {
      "cell_type": "code",
      "execution_count": 13,
      "metadata": {},
      "outputs": [
        {
          "data": {
            "text/html": [
              "<div>\n",
              "<style scoped>\n",
              "    .dataframe tbody tr th:only-of-type {\n",
              "        vertical-align: middle;\n",
              "    }\n",
              "\n",
              "    .dataframe tbody tr th {\n",
              "        vertical-align: top;\n",
              "    }\n",
              "\n",
              "    .dataframe thead th {\n",
              "        text-align: right;\n",
              "    }\n",
              "</style>\n",
              "<table border=\"1\" class=\"dataframe\">\n",
              "  <thead>\n",
              "    <tr style=\"text-align: right;\">\n",
              "      <th></th>\n",
              "      <th>Campagne</th>\n",
              "      <th>Region</th>\n",
              "      <th>Site</th>\n",
              "      <th>Famille</th>\n",
              "      <th>Variete</th>\n",
              "      <th>Num Parcelle</th>\n",
              "      <th>Code Traçabilité</th>\n",
              "      <th>Date</th>\n",
              "      <th>Qté eau (m3)</th>\n",
              "    </tr>\n",
              "  </thead>\n",
              "  <tbody>\n",
              "    <tr>\n",
              "      <th>0</th>\n",
              "      <td>20/21</td>\n",
              "      <td>GHARB</td>\n",
              "      <td>Douar Oued Mahdouma</td>\n",
              "      <td>AF</td>\n",
              "      <td>AF1</td>\n",
              "      <td>11011</td>\n",
              "      <td>TR11011</td>\n",
              "      <td>01/10/20</td>\n",
              "      <td>185,4000</td>\n",
              "    </tr>\n",
              "    <tr>\n",
              "      <th>1</th>\n",
              "      <td>20/21</td>\n",
              "      <td>GHARB</td>\n",
              "      <td>Douar Oued Mahdouma</td>\n",
              "      <td>AF</td>\n",
              "      <td>AF1</td>\n",
              "      <td>11011</td>\n",
              "      <td>TR11011</td>\n",
              "      <td>02/10/20</td>\n",
              "      <td>186,6000</td>\n",
              "    </tr>\n",
              "    <tr>\n",
              "      <th>2</th>\n",
              "      <td>20/21</td>\n",
              "      <td>GHARB</td>\n",
              "      <td>Douar Oued Mahdouma</td>\n",
              "      <td>AF</td>\n",
              "      <td>AF1</td>\n",
              "      <td>11011</td>\n",
              "      <td>TR11011</td>\n",
              "      <td>04/10/20</td>\n",
              "      <td>184,2000</td>\n",
              "    </tr>\n",
              "    <tr>\n",
              "      <th>3</th>\n",
              "      <td>20/21</td>\n",
              "      <td>GHARB</td>\n",
              "      <td>Douar Oued Mahdouma</td>\n",
              "      <td>AF</td>\n",
              "      <td>AF1</td>\n",
              "      <td>11011</td>\n",
              "      <td>TR11011</td>\n",
              "      <td>05/10/20</td>\n",
              "      <td>183,6000</td>\n",
              "    </tr>\n",
              "    <tr>\n",
              "      <th>4</th>\n",
              "      <td>20/21</td>\n",
              "      <td>GHARB</td>\n",
              "      <td>Douar Oued Mahdouma</td>\n",
              "      <td>AF</td>\n",
              "      <td>AF1</td>\n",
              "      <td>11011</td>\n",
              "      <td>TR11011</td>\n",
              "      <td>06/10/20</td>\n",
              "      <td>180,9000</td>\n",
              "    </tr>\n",
              "  </tbody>\n",
              "</table>\n",
              "</div>"
            ],
            "text/plain": [
              "  Campagne Region                 Site Famille Variete Num Parcelle  \\\n",
              "0    20/21  GHARB  Douar Oued Mahdouma      AF     AF1        11011   \n",
              "1    20/21  GHARB  Douar Oued Mahdouma      AF     AF1        11011   \n",
              "2    20/21  GHARB  Douar Oued Mahdouma      AF     AF1        11011   \n",
              "3    20/21  GHARB  Douar Oued Mahdouma      AF     AF1        11011   \n",
              "4    20/21  GHARB  Douar Oued Mahdouma      AF     AF1        11011   \n",
              "\n",
              "  Code Traçabilité      Date Qté eau (m3)  \n",
              "0          TR11011  01/10/20     185,4000  \n",
              "1          TR11011  02/10/20     186,6000  \n",
              "2          TR11011  04/10/20     184,2000  \n",
              "3          TR11011  05/10/20     183,6000  \n",
              "4          TR11011  06/10/20     180,9000  "
            ]
          },
          "execution_count": 13,
          "metadata": {},
          "output_type": "execute_result"
        }
      ],
      "source": [
        "irri_2.head()"
      ]
    },
    {
      "cell_type": "code",
      "execution_count": 29,
      "metadata": {},
      "outputs": [
        {
          "name": "stdout",
          "output_type": "stream",
          "text": [
            "Traitement de l'ensemble de données 2\n",
            "Nombre de valeurs uniques pour chaque clé dans l'ensemble de données 2 :\n",
            "Site                  7\n",
            "Variete              33\n",
            "Num Parcelle        243\n",
            "Code Traçabilité    125\n",
            "dtype: int64\n"
          ]
        },
        {
          "ename": "ValueError",
          "evalue": "The truth value of a DataFrame is ambiguous. Use a.empty, a.bool(), a.item(), a.any() or a.all().",
          "output_type": "error",
          "traceback": [
            "\u001b[1;31m---------------------------------------------------------------------------\u001b[0m",
            "\u001b[1;31mValueError\u001b[0m                                Traceback (most recent call last)",
            "\u001b[1;32m~\\AppData\\Local\\Temp\\ipykernel_51388\\4209977147.py\u001b[0m in \u001b[0;36m?\u001b[1;34m()\u001b[0m\n\u001b[0;32m     17\u001b[0m     \u001b[1;31m# Display data types and unique value counts\u001b[0m\u001b[1;33m\u001b[0m\u001b[1;33m\u001b[0m\u001b[0m\n\u001b[0;32m     18\u001b[0m     \u001b[0mprint\u001b[0m\u001b[1;33m(\u001b[0m\u001b[1;34mf\"Nombre de valeurs uniques pour chaque clé dans l'ensemble de données {i} :\\n{dataset[key_columns].nunique()}\"\u001b[0m\u001b[1;33m)\u001b[0m\u001b[1;33m\u001b[0m\u001b[1;33m\u001b[0m\u001b[0m\n\u001b[0;32m     19\u001b[0m \u001b[1;33m\u001b[0m\u001b[0m\n\u001b[0;32m     20\u001b[0m     \u001b[1;31m# Check for duplicates\u001b[0m\u001b[1;33m\u001b[0m\u001b[1;33m\u001b[0m\u001b[0m\n\u001b[1;32m---> 21\u001b[1;33m     \u001b[1;32mif\u001b[0m \u001b[0mdataset\u001b[0m\u001b[1;33m[\u001b[0m\u001b[0mdataset\u001b[0m\u001b[1;33m.\u001b[0m\u001b[0mduplicated\u001b[0m\u001b[1;33m(\u001b[0m\u001b[1;33m)\u001b[0m\u001b[1;33m]\u001b[0m \u001b[1;33m!=\u001b[0m \u001b[1;36m0\u001b[0m\u001b[1;33m:\u001b[0m\u001b[1;33m\u001b[0m\u001b[1;33m\u001b[0m\u001b[0m\n\u001b[0m\u001b[0;32m     22\u001b[0m         \u001b[0mdataset\u001b[0m\u001b[1;33m.\u001b[0m\u001b[0mdrop_duplicates\u001b[0m\u001b[1;33m(\u001b[0m\u001b[1;33m)\u001b[0m\u001b[1;33m\u001b[0m\u001b[1;33m\u001b[0m\u001b[0m\n\u001b[0;32m     23\u001b[0m         \u001b[0mdataset\u001b[0m\u001b[1;33m.\u001b[0m\u001b[0mreset_index\u001b[0m\u001b[1;33m(\u001b[0m\u001b[0mdrop\u001b[0m\u001b[1;33m=\u001b[0m\u001b[1;32mTrue\u001b[0m\u001b[1;33m)\u001b[0m\u001b[1;33m\u001b[0m\u001b[1;33m\u001b[0m\u001b[0m\n\u001b[0;32m     24\u001b[0m         \u001b[0mprint\u001b[0m\u001b[1;33m(\u001b[0m\u001b[1;34mf\"Des doublons ont été trouvés dans l'ensemble de données {i} pour les clés de fusion.\"\u001b[0m\u001b[1;33m)\u001b[0m\u001b[1;33m\u001b[0m\u001b[1;33m\u001b[0m\u001b[0m\n",
            "\u001b[1;32mc:\\Users\\DataScience\\Desktop\\kaggle's competition\\AgrumeProdPred\\venvagrument\\lib\\site-packages\\pandas\\core\\generic.py\u001b[0m in \u001b[0;36m?\u001b[1;34m(self)\u001b[0m\n\u001b[0;32m   1517\u001b[0m     \u001b[1;33m@\u001b[0m\u001b[0mfinal\u001b[0m\u001b[1;33m\u001b[0m\u001b[1;33m\u001b[0m\u001b[0m\n\u001b[0;32m   1518\u001b[0m     \u001b[1;32mdef\u001b[0m \u001b[0m__nonzero__\u001b[0m\u001b[1;33m(\u001b[0m\u001b[0mself\u001b[0m\u001b[1;33m)\u001b[0m \u001b[1;33m->\u001b[0m \u001b[0mNoReturn\u001b[0m\u001b[1;33m:\u001b[0m\u001b[1;33m\u001b[0m\u001b[1;33m\u001b[0m\u001b[0m\n\u001b[1;32m-> 1519\u001b[1;33m         raise ValueError(\n\u001b[0m\u001b[0;32m   1520\u001b[0m             \u001b[1;34mf\"The truth value of a {type(self).__name__} is ambiguous. \"\u001b[0m\u001b[1;33m\u001b[0m\u001b[1;33m\u001b[0m\u001b[0m\n\u001b[0;32m   1521\u001b[0m             \u001b[1;34m\"Use a.empty, a.bool(), a.item(), a.any() or a.all().\"\u001b[0m\u001b[1;33m\u001b[0m\u001b[1;33m\u001b[0m\u001b[0m\n\u001b[0;32m   1522\u001b[0m         )\n",
            "\u001b[1;31mValueError\u001b[0m: The truth value of a DataFrame is ambiguous. Use a.empty, a.bool(), a.item(), a.any() or a.all()."
          ]
        }
      ],
      "source": [
        "import pandas as pd\n",
        "\n",
        "key_columns = ['Site', 'Variete', 'Num Parcelle', 'Code Traçabilité']\n",
        "\n",
        "# Assuming your datasets are named sequentially as irri_2, irri_3, ..., irri_9\n",
        "for i in range(2, 10):  # 2 to 9\n",
        "    dataset = globals()[f'irri_{i}']  # Dynamically get the dataset\n",
        "    \n",
        "    print(f\"Traitement de l'ensemble de données {i}\")\n",
        "    \n",
        "    # Convert multiple columns to string in one go\n",
        "    dataset[key_columns] = dataset[key_columns].astype(str)\n",
        "    \n",
        "    # Convert 'Date' column to datetime\n",
        "    dataset['Date'] = pd.to_datetime(dataset['Date'])\n",
        "\n",
        "    # Display data types and unique value counts\n",
        "    print(f\"Nombre de valeurs uniques pour chaque clé dans l'ensemble de données {i} :\\n{dataset[key_columns].nunique()}\")\n",
        "\n",
        "    # Check for duplicates\n",
        "    if dataset[dataset.duplicated()] != 0:\n",
        "        dataset.drop_duplicates()\n",
        "        dataset.reset_index(drop=True)\n",
        "        print(f\"Des doublons ont été trouvés dans l'ensemble de données {i} pour les clés de fusion.\")\n",
        "    else:\n",
        "        print(f\"Aucun doublon trouvé dans l'ensemble de données {i} pour les clés de fusion.\")"
      ]
    },
    {
      "cell_type": "markdown",
      "metadata": {},
      "source": [
        "### Code"
      ]
    },
    {
      "cell_type": "code",
      "execution_count": 39,
      "metadata": {
        "id": "3HlNWeeuSOVv"
      },
      "outputs": [],
      "source": [
        "train = pd.read_csv(\"dataset/train.csv\", sep = ';', index_col=False)"
      ]
    },
    {
      "cell_type": "markdown",
      "metadata": {},
      "source": [
        "## EDA"
      ]
    },
    {
      "cell_type": "code",
      "execution_count": 9,
      "metadata": {
        "colab": {
          "base_uri": "https://localhost:8080/",
          "height": 330
        },
        "id": "PFO44KWZTqAL",
        "outputId": "674a50d8-de59-44cd-aec9-99669742a884"
      },
      "outputs": [
        {
          "data": {
            "text/html": [
              "<div>\n",
              "<style scoped>\n",
              "    .dataframe tbody tr th:only-of-type {\n",
              "        vertical-align: middle;\n",
              "    }\n",
              "\n",
              "    .dataframe tbody tr th {\n",
              "        vertical-align: top;\n",
              "    }\n",
              "\n",
              "    .dataframe thead th {\n",
              "        text-align: right;\n",
              "    }\n",
              "</style>\n",
              "<table border=\"1\" class=\"dataframe\">\n",
              "  <thead>\n",
              "    <tr style=\"text-align: right;\">\n",
              "      <th></th>\n",
              "      <th>Id</th>\n",
              "      <th>Campagne</th>\n",
              "      <th>Region</th>\n",
              "      <th>Site</th>\n",
              "      <th>Famille</th>\n",
              "      <th>Variete</th>\n",
              "      <th>Num Parcelle</th>\n",
              "      <th>CodeTracabilite</th>\n",
              "      <th>Date</th>\n",
              "      <th>Tonnage</th>\n",
              "    </tr>\n",
              "  </thead>\n",
              "  <tbody>\n",
              "    <tr>\n",
              "      <th>0</th>\n",
              "      <td>1</td>\n",
              "      <td>20/21</td>\n",
              "      <td>GHARB</td>\n",
              "      <td>Chorf Laghouazi</td>\n",
              "      <td>CLA</td>\n",
              "      <td>CLA1</td>\n",
              "      <td>13030</td>\n",
              "      <td>TR11130</td>\n",
              "      <td>01/10/2020</td>\n",
              "      <td>269,855</td>\n",
              "    </tr>\n",
              "    <tr>\n",
              "      <th>1</th>\n",
              "      <td>2</td>\n",
              "      <td>20/21</td>\n",
              "      <td>GHARB</td>\n",
              "      <td>Chorf Laghouazi</td>\n",
              "      <td>CLA</td>\n",
              "      <td>CLA6</td>\n",
              "      <td>18030</td>\n",
              "      <td>TR11140</td>\n",
              "      <td>01/10/2020</td>\n",
              "      <td>101605,9951</td>\n",
              "    </tr>\n",
              "    <tr>\n",
              "      <th>2</th>\n",
              "      <td>3</td>\n",
              "      <td>20/21</td>\n",
              "      <td>GHARB</td>\n",
              "      <td>Chorf Laghouazi</td>\n",
              "      <td>CLA</td>\n",
              "      <td>CLA12</td>\n",
              "      <td>13010</td>\n",
              "      <td>TR11120</td>\n",
              "      <td>01/10/2020</td>\n",
              "      <td>170,354</td>\n",
              "    </tr>\n",
              "    <tr>\n",
              "      <th>3</th>\n",
              "      <td>4</td>\n",
              "      <td>20/21</td>\n",
              "      <td>GHARB</td>\n",
              "      <td>Chorf Laghouazi</td>\n",
              "      <td>CLA</td>\n",
              "      <td>CLA14</td>\n",
              "      <td>12010</td>\n",
              "      <td>TR11090</td>\n",
              "      <td>01/10/2020</td>\n",
              "      <td>37891,08567</td>\n",
              "    </tr>\n",
              "    <tr>\n",
              "      <th>4</th>\n",
              "      <td>5</td>\n",
              "      <td>20/21</td>\n",
              "      <td>GHARB</td>\n",
              "      <td>Chorf Laghouazi</td>\n",
              "      <td>CLA</td>\n",
              "      <td>CLA14</td>\n",
              "      <td>12020</td>\n",
              "      <td>TR11100</td>\n",
              "      <td>01/10/2020</td>\n",
              "      <td>45197,56034</td>\n",
              "    </tr>\n",
              "  </tbody>\n",
              "</table>\n",
              "</div>"
            ],
            "text/plain": [
              "   Id Campagne Region             Site Famille Variete Num Parcelle  \\\n",
              "0   1    20/21  GHARB  Chorf Laghouazi     CLA    CLA1        13030   \n",
              "1   2    20/21  GHARB  Chorf Laghouazi     CLA    CLA6        18030   \n",
              "2   3    20/21  GHARB  Chorf Laghouazi     CLA   CLA12        13010   \n",
              "3   4    20/21  GHARB  Chorf Laghouazi     CLA   CLA14        12010   \n",
              "4   5    20/21  GHARB  Chorf Laghouazi     CLA   CLA14        12020   \n",
              "\n",
              "  CodeTracabilite        Date      Tonnage  \n",
              "0         TR11130  01/10/2020      269,855  \n",
              "1         TR11140  01/10/2020  101605,9951  \n",
              "2         TR11120  01/10/2020      170,354  \n",
              "3         TR11090  01/10/2020  37891,08567  \n",
              "4         TR11100  01/10/2020  45197,56034  "
            ]
          },
          "execution_count": 9,
          "metadata": {},
          "output_type": "execute_result"
        }
      ],
      "source": [
        "train.head()"
      ]
    },
    {
      "cell_type": "code",
      "execution_count": 20,
      "metadata": {
        "colab": {
          "base_uri": "https://localhost:8080/"
        },
        "id": "cDol6y-DTALZ",
        "outputId": "a50b8c09-f8e7-4879-bd9a-c47e5cd07d5a"
      },
      "outputs": [
        {
          "data": {
            "text/plain": [
              "(3119, 10)"
            ]
          },
          "execution_count": 20,
          "metadata": {},
          "output_type": "execute_result"
        }
      ],
      "source": [
        "train.shape"
      ]
    },
    {
      "cell_type": "code",
      "execution_count": 35,
      "metadata": {},
      "outputs": [
        {
          "name": "stdout",
          "output_type": "stream",
          "text": [
            "<class 'pandas.core.frame.DataFrame'>\n",
            "RangeIndex: 3119 entries, 0 to 3118\n",
            "Data columns (total 8 columns):\n",
            " #   Column           Non-Null Count  Dtype         \n",
            "---  ------           --------------  -----         \n",
            " 0   Campagne         3119 non-null   object        \n",
            " 1   Region           3119 non-null   object        \n",
            " 2   Site             3119 non-null   object        \n",
            " 3   Famille          3119 non-null   object        \n",
            " 4   Variete          3119 non-null   object        \n",
            " 5   CodeTracabilite  3119 non-null   object        \n",
            " 6   Date             3119 non-null   datetime64[ns]\n",
            " 7   Tonnage          3119 non-null   object        \n",
            "dtypes: datetime64[ns](1), object(7)\n",
            "memory usage: 195.1+ KB\n"
          ]
        }
      ],
      "source": [
        "train.info()"
      ]
    },
    {
      "cell_type": "code",
      "execution_count": 49,
      "metadata": {
        "id": "_y-oxdNlT1rD"
      },
      "outputs": [],
      "source": [
        "train = train.drop(columns=['Id', 'Num Parcelle'])\n",
        "train[\"Date\"] = pd.to_datetime(train[\"Date\"])\n",
        "train['Tonnage'] = train['Tonnage'].str.replace(',', '.').astype(float)"
      ]
    },
    {
      "cell_type": "code",
      "execution_count": 108,
      "metadata": {},
      "outputs": [
        {
          "data": {
            "text/html": [
              "<div>\n",
              "<style scoped>\n",
              "    .dataframe tbody tr th:only-of-type {\n",
              "        vertical-align: middle;\n",
              "    }\n",
              "\n",
              "    .dataframe tbody tr th {\n",
              "        vertical-align: top;\n",
              "    }\n",
              "\n",
              "    .dataframe thead th {\n",
              "        text-align: right;\n",
              "    }\n",
              "</style>\n",
              "<table border=\"1\" class=\"dataframe\">\n",
              "  <thead>\n",
              "    <tr style=\"text-align: right;\">\n",
              "      <th></th>\n",
              "      <th>Date</th>\n",
              "      <th>Tonnage</th>\n",
              "    </tr>\n",
              "  </thead>\n",
              "  <tbody>\n",
              "    <tr>\n",
              "      <th>count</th>\n",
              "      <td>3119</td>\n",
              "      <td>3119.000000</td>\n",
              "    </tr>\n",
              "    <tr>\n",
              "      <th>mean</th>\n",
              "      <td>2021-04-05 23:50:45.976274688</td>\n",
              "      <td>20812.885034</td>\n",
              "    </tr>\n",
              "    <tr>\n",
              "      <th>min</th>\n",
              "      <td>2020-01-10 00:00:00</td>\n",
              "      <td>65.300000</td>\n",
              "    </tr>\n",
              "    <tr>\n",
              "      <th>25%</th>\n",
              "      <td>2021-01-01 00:00:00</td>\n",
              "      <td>2715.800000</td>\n",
              "    </tr>\n",
              "    <tr>\n",
              "      <th>50%</th>\n",
              "      <td>2021-01-11 00:00:00</td>\n",
              "      <td>9226.100000</td>\n",
              "    </tr>\n",
              "    <tr>\n",
              "      <th>75%</th>\n",
              "      <td>2022-01-02 00:00:00</td>\n",
              "      <td>23098.665185</td>\n",
              "    </tr>\n",
              "    <tr>\n",
              "      <th>max</th>\n",
              "      <td>2022-01-12 00:00:00</td>\n",
              "      <td>805816.229000</td>\n",
              "    </tr>\n",
              "    <tr>\n",
              "      <th>std</th>\n",
              "      <td>NaN</td>\n",
              "      <td>38966.136193</td>\n",
              "    </tr>\n",
              "  </tbody>\n",
              "</table>\n",
              "</div>"
            ],
            "text/plain": [
              "                                Date        Tonnage\n",
              "count                           3119    3119.000000\n",
              "mean   2021-04-05 23:50:45.976274688   20812.885034\n",
              "min              2020-01-10 00:00:00      65.300000\n",
              "25%              2021-01-01 00:00:00    2715.800000\n",
              "50%              2021-01-11 00:00:00    9226.100000\n",
              "75%              2022-01-02 00:00:00   23098.665185\n",
              "max              2022-01-12 00:00:00  805816.229000\n",
              "std                              NaN   38966.136193"
            ]
          },
          "execution_count": 108,
          "metadata": {},
          "output_type": "execute_result"
        }
      ],
      "source": [
        "train.describe()"
      ]
    },
    {
      "cell_type": "code",
      "execution_count": 50,
      "metadata": {},
      "outputs": [
        {
          "name": "stdout",
          "output_type": "stream",
          "text": [
            "<class 'pandas.core.frame.DataFrame'>\n",
            "RangeIndex: 3119 entries, 0 to 3118\n",
            "Data columns (total 8 columns):\n",
            " #   Column           Non-Null Count  Dtype         \n",
            "---  ------           --------------  -----         \n",
            " 0   Campagne         3119 non-null   object        \n",
            " 1   Region           3119 non-null   object        \n",
            " 2   Site             3119 non-null   object        \n",
            " 3   Famille          3119 non-null   object        \n",
            " 4   Variete          3119 non-null   object        \n",
            " 5   CodeTracabilite  3119 non-null   object        \n",
            " 6   Date             3119 non-null   datetime64[ns]\n",
            " 7   Tonnage          3119 non-null   float64       \n",
            "dtypes: datetime64[ns](1), float64(1), object(6)\n",
            "memory usage: 195.1+ KB\n"
          ]
        }
      ],
      "source": [
        "train.info()"
      ]
    },
    {
      "cell_type": "markdown",
      "metadata": {},
      "source": [
        "### Spot anomalies"
      ]
    },
    {
      "cell_type": "code",
      "execution_count": 41,
      "metadata": {},
      "outputs": [
        {
          "data": {
            "text/html": [
              "<div>\n",
              "<style scoped>\n",
              "    .dataframe tbody tr th:only-of-type {\n",
              "        vertical-align: middle;\n",
              "    }\n",
              "\n",
              "    .dataframe tbody tr th {\n",
              "        vertical-align: top;\n",
              "    }\n",
              "\n",
              "    .dataframe thead th {\n",
              "        text-align: right;\n",
              "    }\n",
              "</style>\n",
              "<table border=\"1\" class=\"dataframe\">\n",
              "  <thead>\n",
              "    <tr style=\"text-align: right;\">\n",
              "      <th></th>\n",
              "      <th>Id</th>\n",
              "      <th>Campagne</th>\n",
              "      <th>Region</th>\n",
              "      <th>Site</th>\n",
              "      <th>Famille</th>\n",
              "      <th>Variete</th>\n",
              "      <th>Num Parcelle</th>\n",
              "      <th>CodeTracabilite</th>\n",
              "      <th>Date</th>\n",
              "      <th>Tonnage</th>\n",
              "    </tr>\n",
              "  </thead>\n",
              "  <tbody>\n",
              "  </tbody>\n",
              "</table>\n",
              "</div>"
            ],
            "text/plain": [
              "Empty DataFrame\n",
              "Columns: [Id, Campagne, Region, Site, Famille, Variete, Num Parcelle, CodeTracabilite, Date, Tonnage]\n",
              "Index: []"
            ]
          },
          "execution_count": 41,
          "metadata": {},
          "output_type": "execute_result"
        }
      ],
      "source": [
        "# Detecting duplicates\n",
        "duplicates = train[train.duplicated()]\n",
        "duplicates"
      ]
    },
    {
      "cell_type": "code",
      "execution_count": 115,
      "metadata": {},
      "outputs": [],
      "source": [
        "cleaned_train = train.drop_duplicates()"
      ]
    },
    {
      "cell_type": "code",
      "execution_count": 116,
      "metadata": {},
      "outputs": [],
      "source": [
        "cleaned_train = cleaned_train.reset_index(drop=True)"
      ]
    },
    {
      "cell_type": "code",
      "execution_count": 117,
      "metadata": {},
      "outputs": [
        {
          "data": {
            "text/html": [
              "<div>\n",
              "<style scoped>\n",
              "    .dataframe tbody tr th:only-of-type {\n",
              "        vertical-align: middle;\n",
              "    }\n",
              "\n",
              "    .dataframe tbody tr th {\n",
              "        vertical-align: top;\n",
              "    }\n",
              "\n",
              "    .dataframe thead th {\n",
              "        text-align: right;\n",
              "    }\n",
              "</style>\n",
              "<table border=\"1\" class=\"dataframe\">\n",
              "  <thead>\n",
              "    <tr style=\"text-align: right;\">\n",
              "      <th></th>\n",
              "      <th>Campagne</th>\n",
              "      <th>Region</th>\n",
              "      <th>Site</th>\n",
              "      <th>Famille</th>\n",
              "      <th>Variete</th>\n",
              "      <th>CodeTracabilite</th>\n",
              "      <th>Date</th>\n",
              "      <th>Tonnage</th>\n",
              "    </tr>\n",
              "  </thead>\n",
              "  <tbody>\n",
              "    <tr>\n",
              "      <th>0</th>\n",
              "      <td>20/21</td>\n",
              "      <td>GHARB</td>\n",
              "      <td>Chorf Laghouazi</td>\n",
              "      <td>CLA</td>\n",
              "      <td>CLA1</td>\n",
              "      <td>TR11130</td>\n",
              "      <td>2020-01-10</td>\n",
              "      <td>269.85500</td>\n",
              "    </tr>\n",
              "    <tr>\n",
              "      <th>1</th>\n",
              "      <td>20/21</td>\n",
              "      <td>GHARB</td>\n",
              "      <td>Chorf Laghouazi</td>\n",
              "      <td>CLA</td>\n",
              "      <td>CLA6</td>\n",
              "      <td>TR11140</td>\n",
              "      <td>2020-01-10</td>\n",
              "      <td>101605.99510</td>\n",
              "    </tr>\n",
              "    <tr>\n",
              "      <th>2</th>\n",
              "      <td>20/21</td>\n",
              "      <td>GHARB</td>\n",
              "      <td>Chorf Laghouazi</td>\n",
              "      <td>CLA</td>\n",
              "      <td>CLA12</td>\n",
              "      <td>TR11120</td>\n",
              "      <td>2020-01-10</td>\n",
              "      <td>170.35400</td>\n",
              "    </tr>\n",
              "    <tr>\n",
              "      <th>3</th>\n",
              "      <td>20/21</td>\n",
              "      <td>GHARB</td>\n",
              "      <td>Chorf Laghouazi</td>\n",
              "      <td>CLA</td>\n",
              "      <td>CLA14</td>\n",
              "      <td>TR11090</td>\n",
              "      <td>2020-01-10</td>\n",
              "      <td>37891.08567</td>\n",
              "    </tr>\n",
              "    <tr>\n",
              "      <th>4</th>\n",
              "      <td>20/21</td>\n",
              "      <td>GHARB</td>\n",
              "      <td>Chorf Laghouazi</td>\n",
              "      <td>CLA</td>\n",
              "      <td>CLA14</td>\n",
              "      <td>TR11100</td>\n",
              "      <td>2020-01-10</td>\n",
              "      <td>45197.56034</td>\n",
              "    </tr>\n",
              "  </tbody>\n",
              "</table>\n",
              "</div>"
            ],
            "text/plain": [
              "  Campagne Region             Site Famille Variete CodeTracabilite       Date  \\\n",
              "0    20/21  GHARB  Chorf Laghouazi     CLA    CLA1         TR11130 2020-01-10   \n",
              "1    20/21  GHARB  Chorf Laghouazi     CLA    CLA6         TR11140 2020-01-10   \n",
              "2    20/21  GHARB  Chorf Laghouazi     CLA   CLA12         TR11120 2020-01-10   \n",
              "3    20/21  GHARB  Chorf Laghouazi     CLA   CLA14         TR11090 2020-01-10   \n",
              "4    20/21  GHARB  Chorf Laghouazi     CLA   CLA14         TR11100 2020-01-10   \n",
              "\n",
              "        Tonnage  \n",
              "0     269.85500  \n",
              "1  101605.99510  \n",
              "2     170.35400  \n",
              "3   37891.08567  \n",
              "4   45197.56034  "
            ]
          },
          "execution_count": 117,
          "metadata": {},
          "output_type": "execute_result"
        }
      ],
      "source": [
        "cleaned_train.head()"
      ]
    },
    {
      "cell_type": "code",
      "execution_count": 120,
      "metadata": {},
      "outputs": [
        {
          "name": "stdout",
          "output_type": "stream",
          "text": [
            "0        CLA1\n",
            "1        CLA6\n",
            "2       CLA12\n",
            "3       CLA14\n",
            "4       CLA14\n",
            "        ...  \n",
            "3110     ORA4\n",
            "3111     ORA4\n",
            "3112     ORA4\n",
            "3113     ORA4\n",
            "3114     ORA4\n",
            "Name: Variete, Length: 3115, dtype: object\n"
          ]
        }
      ],
      "source": [
        "print(cleaned_train['Variete'])\n"
      ]
    },
    {
      "cell_type": "code",
      "execution_count": 71,
      "metadata": {
        "colab": {
          "base_uri": "https://localhost:8080/"
        },
        "id": "GHXi7J3QV1kO",
        "outputId": "7774dfce-2be2-4bd5-c66d-030f0680e355"
      },
      "outputs": [
        {
          "data": {
            "text/plain": [
              "Campagne           0\n",
              "Region             0\n",
              "Site               0\n",
              "Famille            0\n",
              "Variete            0\n",
              "CodeTracabilite    0\n",
              "Date               0\n",
              "Tonnage            0\n",
              "dtype: int64"
            ]
          },
          "execution_count": 71,
          "metadata": {},
          "output_type": "execute_result"
        }
      ],
      "source": [
        "cleaned_train.isnull().sum()  ##none null value"
      ]
    },
    {
      "cell_type": "code",
      "execution_count": 72,
      "metadata": {},
      "outputs": [
        {
          "data": {
            "text/plain": [
              "<Axes: ylabel='Tonnage'>"
            ]
          },
          "execution_count": 72,
          "metadata": {},
          "output_type": "execute_result"
        },
        {
          "data": {
            "image/png": "[encoded data removed]",
            "text/plain": [
              "<Figure size 500x300 with 1 Axes>"
            ]
          },
          "metadata": {},
          "output_type": "display_data"
        }
      ],
      "source": [
        "plt.figure(figsize=(5, 3))\n",
        "sns.boxplot(data=cleaned_train['Tonnage'])"
      ]
    },
    {
      "cell_type": "code",
      "execution_count": 94,
      "metadata": {},
      "outputs": [],
      "source": [
        "# Set 'Date' as the index of the DataFrame for plotting\n",
        "cleaned_train.set_index('Date', inplace=True)\n",
        "\n",
        "# Sort the DataFrame by the index (Date) if it's not already sorted\n",
        "cleaned_train.sort_index(inplace=True)"
      ]
    },
    {
      "cell_type": "code",
      "execution_count": 107,
      "metadata": {},
      "outputs": [
        {
          "data": {
            "image/png": "[encoded data removed]",
            "text/plain": [
              "<Figure size 1000x700 with 1 Axes>"
            ]
          },
          "metadata": {},
          "output_type": "display_data"
        }
      ],
      "source": [
        "grouped = cleaned_train.groupby(['Date', 'Famille']).agg({'Tonnage': 'sum'}).reset_index()\n",
        "\n",
        "# Create a scatter plot for each 'Famille'\n",
        "plt.figure(figsize=(10, 7))\n",
        "\n",
        "# Get unique families for coloring\n",
        "families = grouped['Famille'].unique()\n",
        "\n",
        "# Assign a color to each famille\n",
        "colors = plt.cm.rainbow(np.linspace(0, 1, len(families)))\n",
        "famille_color = dict(zip(families, colors))\n",
        "\n",
        "# Plot each famille's data with a different color and label\n",
        "for famille, color in famille_color.items():\n",
        "    famille_data = grouped[grouped['Famille'] == famille]\n",
        "    plt.scatter(famille_data['Date'], famille_data['Tonnage'], color=color, label=famille, alpha=0.6)\n",
        "\n",
        "plt.title('Scatter Plot of Total Tonnage of Each Famille per Day')\n",
        "plt.xlabel('Date')\n",
        "plt.ylabel('Tonnage')\n",
        "plt.legend(title='Famille')\n",
        "plt.grid(True)\n",
        "plt.tight_layout()\n",
        "plt.show()"
      ]
    },
    {
      "cell_type": "code",
      "execution_count": 111,
      "metadata": {},
      "outputs": [
        {
          "data": {
            "image/png": "[encoded data removed]",
            "text/plain": [
              "<Figure size 1000x700 with 1 Axes>"
            ]
          },
          "metadata": {},
          "output_type": "display_data"
        }
      ],
      "source": [
        "# Create a new column for year-month\n",
        "cleaned_train['YearMonth'] = cleaned_train['Date'].dt.to_period('Y')\n",
        "\n",
        "# Group by 'YearMonth' and 'Famille' and sum 'Tonnage'\n",
        "grouped = cleaned_train.groupby(['YearMonth', 'Famille']).agg({'Tonnage': 'sum'}).reset_index()\n",
        "\n",
        "# Plotting code remains largely the same, replace 'Date' with 'YearMonth'\n",
        "plt.figure(figsize=(10, 7))\n",
        "\n",
        "# Get unique families for coloring\n",
        "families = grouped['Famille'].unique()\n",
        "\n",
        "# Assign a color to each famille\n",
        "colors = plt.cm.rainbow(np.linspace(0, 1, len(families)))\n",
        "famille_color = dict(zip(families, colors))\n",
        "\n",
        "# Plot each famille's data with a different color and label\n",
        "for famille, color in famille_color.items():\n",
        "    famille_data = grouped[grouped['Famille'] == famille]\n",
        "    plt.scatter(famille_data['YearMonth'].dt.to_timestamp(), famille_data['Tonnage'], color=color, label=famille, alpha=0.6)\n",
        "\n",
        "plt.title('Scatter Plot of Total Monthly Tonnage of Each Famille')\n",
        "plt.xlabel('Month')\n",
        "plt.ylabel('Tonnage')\n",
        "plt.legend(title='Famille')\n",
        "plt.grid(True)\n",
        "plt.tight_layout()\n",
        "plt.show()"
      ]
    },
    {
      "cell_type": "code",
      "execution_count": null,
      "metadata": {},
      "outputs": [],
      "source": [
        "# Save the cleaned dataframe to a new file\n",
        "# df.to_csv('cleaned_data.csv', index=False)"
      ]
    },
    {
      "cell_type": "markdown",
      "metadata": {},
      "source": [
        "### Others"
      ]
    },
    {
      "cell_type": "code",
      "execution_count": null,
      "metadata": {
        "id": "R5UMkCa5Yqtk"
      },
      "outputs": [],
      "source": [
        "train_trans = train.set_index(['Campagne', 'Region', 'Site', 'Famille', 'Variete', 'Num Parcelle', 'CodeTracabilite', 'Date']).sort_index()"
      ]
    },
    {
      "cell_type": "code",
      "execution_count": null,
      "metadata": {
        "colab": {
          "base_uri": "https://localhost:8080/",
          "height": 237
        },
        "id": "FoBr-tPgZAxY",
        "outputId": "f2745129-8a8c-4fd5-e0ce-a766abbe7b1d"
      },
      "outputs": [
        {
          "data": {
            "text/html": [
              "\n",
              "  <div id=\"df-c72a1794-9084-4feb-967e-28dc368e4e8d\" class=\"colab-df-container\">\n",
              "    <div>\n",
              "<style scoped>\n",
              "    .dataframe tbody tr th:only-of-type {\n",
              "        vertical-align: middle;\n",
              "    }\n",
              "\n",
              "    .dataframe tbody tr th {\n",
              "        vertical-align: top;\n",
              "    }\n",
              "\n",
              "    .dataframe thead th {\n",
              "        text-align: right;\n",
              "    }\n",
              "</style>\n",
              "<table border=\"1\" class=\"dataframe\">\n",
              "  <thead>\n",
              "    <tr style=\"text-align: right;\">\n",
              "      <th></th>\n",
              "      <th></th>\n",
              "      <th></th>\n",
              "      <th></th>\n",
              "      <th></th>\n",
              "      <th></th>\n",
              "      <th></th>\n",
              "      <th></th>\n",
              "      <th>Tonnage</th>\n",
              "    </tr>\n",
              "    <tr>\n",
              "      <th>Campagne</th>\n",
              "      <th>Region</th>\n",
              "      <th>Site</th>\n",
              "      <th>Famille</th>\n",
              "      <th>Variete</th>\n",
              "      <th>Num Parcelle</th>\n",
              "      <th>CodeTracabilite</th>\n",
              "      <th>Date</th>\n",
              "      <th></th>\n",
              "    </tr>\n",
              "  </thead>\n",
              "  <tbody>\n",
              "    <tr>\n",
              "      <th rowspan=\"5\" valign=\"top\">20/21</th>\n",
              "      <th rowspan=\"5\" valign=\"top\">GHARB</th>\n",
              "      <th rowspan=\"5\" valign=\"top\">Ben Mansour</th>\n",
              "      <th rowspan=\"2\" valign=\"top\">AF</th>\n",
              "      <th rowspan=\"2\" valign=\"top\">AF1</th>\n",
              "      <th rowspan=\"2\" valign=\"top\">11240</th>\n",
              "      <th rowspan=\"2\" valign=\"top\">TR11240</th>\n",
              "      <th>2020-01-12</th>\n",
              "      <td>161</td>\n",
              "    </tr>\n",
              "    <tr>\n",
              "      <th>2021-01-02</th>\n",
              "      <td>22747,5905</td>\n",
              "    </tr>\n",
              "    <tr>\n",
              "      <th rowspan=\"3\" valign=\"top\">CLA</th>\n",
              "      <th rowspan=\"2\" valign=\"top\">CLA13</th>\n",
              "      <th>11130</th>\n",
              "      <th>TR11130</th>\n",
              "      <th>2020-01-10</th>\n",
              "      <td>36082,22357</td>\n",
              "    </tr>\n",
              "    <tr>\n",
              "      <th>11212</th>\n",
              "      <th>TR11212</th>\n",
              "      <th>2020-01-10</th>\n",
              "      <td>48051,99275</td>\n",
              "    </tr>\n",
              "    <tr>\n",
              "      <th>CLA14</th>\n",
              "      <th>11211</th>\n",
              "      <th>TR11211</th>\n",
              "      <th>2020-01-10</th>\n",
              "      <td>24892,98368</td>\n",
              "    </tr>\n",
              "  </tbody>\n",
              "</table>\n",
              "</div>\n",
              "    <div class=\"colab-df-buttons\">\n",
              "\n",
              "  <div class=\"colab-df-container\">\n",
              "    <button class=\"colab-df-convert\" onclick=\"convertToInteractive('df-c72a1794-9084-4feb-967e-28dc368e4e8d')\"\n",
              "            title=\"Convert this dataframe to an interactive table.\"\n",
              "            style=\"display:none;\">\n",
              "\n",
              "  <svg xmlns=\"http://www.w3.org/2000/svg\" height=\"24px\" viewBox=\"0 -960 960 960\">\n",
              "    <path d=\"M120-120v-720h720v720H120Zm60-500h600v-160H180v160Zm220 220h160v-160H400v160Zm0 220h160v-160H400v160ZM180-400h160v-160H180v160Zm440 0h160v-160H620v160ZM180-180h160v-160H180v160Zm440 0h160v-160H620v160Z\"/>\n",
              "  </svg>\n",
              "    </button>\n",
              "\n",
              "  <style>\n",
              "    .colab-df-container {\n",
              "      display:flex;\n",
              "      gap: 12px;\n",
              "    }\n",
              "\n",
              "    .colab-df-convert {\n",
              "      background-color: #E8F0FE;\n",
              "      border: none;\n",
              "      border-radius: 50%;\n",
              "      cursor: pointer;\n",
              "      display: none;\n",
              "      fill: #1967D2;\n",
              "      height: 32px;\n",
              "      padding: 0 0 0 0;\n",
              "      width: 32px;\n",
              "    }\n",
              "\n",
              "    .colab-df-convert:hover {\n",
              "      background-color: #E2EBFA;\n",
              "      box-shadow: 0px 1px 2px rgba(60, 64, 67, 0.3), 0px 1px 3px 1px rgba(60, 64, 67, 0.15);\n",
              "      fill: #174EA6;\n",
              "    }\n",
              "\n",
              "    .colab-df-buttons div {\n",
              "      margin-bottom: 4px;\n",
              "    }\n",
              "\n",
              "    [theme=dark] .colab-df-convert {\n",
              "      background-color: #3B4455;\n",
              "      fill: #D2E3FC;\n",
              "    }\n",
              "\n",
              "    [theme=dark] .colab-df-convert:hover {\n",
              "      background-color: #434B5C;\n",
              "      box-shadow: 0px 1px 3px 1px rgba(0, 0, 0, 0.15);\n",
              "      filter: drop-shadow(0px 1px 2px rgba(0, 0, 0, 0.3));\n",
              "      fill: #FFFFFF;\n",
              "    }\n",
              "  </style>\n",
              "\n",
              "    <script>\n",
              "      const buttonEl =\n",
              "        document.querySelector('#df-c72a1794-9084-4feb-967e-28dc368e4e8d button.colab-df-convert');\n",
              "      buttonEl.style.display =\n",
              "        google.colab.kernel.accessAllowed ? 'block' : 'none';\n",
              "\n",
              "      async function convertToInteractive(key) {\n",
              "        const element = document.querySelector('#df-c72a1794-9084-4feb-967e-28dc368e4e8d');\n",
              "        const dataTable =\n",
              "          await google.colab.kernel.invokeFunction('convertToInteractive',\n",
              "                                                    [key], {});\n",
              "        if (!dataTable) return;\n",
              "\n",
              "        const docLinkHtml = 'Like what you see? Visit the ' +\n",
              "          '<a target=\"_blank\" href=https://colab.research.google.com/notebooks/data_table.ipynb>data table notebook</a>'\n",
              "          + ' to learn more about interactive tables.';\n",
              "        element.innerHTML = '';\n",
              "        dataTable['output_type'] = 'display_data';\n",
              "        await google.colab.output.renderOutput(dataTable, element);\n",
              "        const docLink = document.createElement('div');\n",
              "        docLink.innerHTML = docLinkHtml;\n",
              "        element.appendChild(docLink);\n",
              "      }\n",
              "    </script>\n",
              "  </div>\n",
              "\n",
              "\n",
              "<div id=\"df-ce4ec718-de19-41dd-8445-7b8e11729136\">\n",
              "  <button class=\"colab-df-quickchart\" onclick=\"quickchart('df-ce4ec718-de19-41dd-8445-7b8e11729136')\"\n",
              "            title=\"Suggest charts\"\n",
              "            style=\"display:none;\">\n",
              "\n",
              "<svg xmlns=\"http://www.w3.org/2000/svg\" height=\"24px\"viewBox=\"0 0 24 24\"\n",
              "     width=\"24px\">\n",
              "    <g>\n",
              "        <path d=\"M19 3H5c-1.1 0-2 .9-2 2v14c0 1.1.9 2 2 2h14c1.1 0 2-.9 2-2V5c0-1.1-.9-2-2-2zM9 17H7v-7h2v7zm4 0h-2V7h2v10zm4 0h-2v-4h2v4z\"/>\n",
              "    </g>\n",
              "</svg>\n",
              "  </button>\n",
              "\n",
              "<style>\n",
              "  .colab-df-quickchart {\n",
              "      --bg-color: #E8F0FE;\n",
              "      --fill-color: #1967D2;\n",
              "      --hover-bg-color: #E2EBFA;\n",
              "      --hover-fill-color: #174EA6;\n",
              "      --disabled-fill-color: #AAA;\n",
              "      --disabled-bg-color: #DDD;\n",
              "  }\n",
              "\n",
              "  [theme=dark] .colab-df-quickchart {\n",
              "      --bg-color: #3B4455;\n",
              "      --fill-color: #D2E3FC;\n",
              "      --hover-bg-color: #434B5C;\n",
              "      --hover-fill-color: #FFFFFF;\n",
              "      --disabled-bg-color: #3B4455;\n",
              "      --disabled-fill-color: #666;\n",
              "  }\n",
              "\n",
              "  .colab-df-quickchart {\n",
              "    background-color: var(--bg-color);\n",
              "    border: none;\n",
              "    border-radius: 50%;\n",
              "    cursor: pointer;\n",
              "    display: none;\n",
              "    fill: var(--fill-color);\n",
              "    height: 32px;\n",
              "    padding: 0;\n",
              "    width: 32px;\n",
              "  }\n",
              "\n",
              "  .colab-df-quickchart:hover {\n",
              "    background-color: var(--hover-bg-color);\n",
              "    box-shadow: 0 1px 2px rgba(60, 64, 67, 0.3), 0 1px 3px 1px rgba(60, 64, 67, 0.15);\n",
              "    fill: var(--button-hover-fill-color);\n",
              "  }\n",
              "\n",
              "  .colab-df-quickchart-complete:disabled,\n",
              "  .colab-df-quickchart-complete:disabled:hover {\n",
              "    background-color: var(--disabled-bg-color);\n",
              "    fill: var(--disabled-fill-color);\n",
              "    box-shadow: none;\n",
              "  }\n",
              "\n",
              "  .colab-df-spinner {\n",
              "    border: 2px solid var(--fill-color);\n",
              "    border-color: transparent;\n",
              "    border-bottom-color: var(--fill-color);\n",
              "    animation:\n",
              "      spin 1s steps(1) infinite;\n",
              "  }\n",
              "\n",
              "  @keyframes spin {\n",
              "    0% {\n",
              "      border-color: transparent;\n",
              "      border-bottom-color: var(--fill-color);\n",
              "      border-left-color: var(--fill-color);\n",
              "    }\n",
              "    20% {\n",
              "      border-color: transparent;\n",
              "      border-left-color: var(--fill-color);\n",
              "      border-top-color: var(--fill-color);\n",
              "    }\n",
              "    30% {\n",
              "      border-color: transparent;\n",
              "      border-left-color: var(--fill-color);\n",
              "      border-top-color: var(--fill-color);\n",
              "      border-right-color: var(--fill-color);\n",
              "    }\n",
              "    40% {\n",
              "      border-color: transparent;\n",
              "      border-right-color: var(--fill-color);\n",
              "      border-top-color: var(--fill-color);\n",
              "    }\n",
              "    60% {\n",
              "      border-color: transparent;\n",
              "      border-right-color: var(--fill-color);\n",
              "    }\n",
              "    80% {\n",
              "      border-color: transparent;\n",
              "      border-right-color: var(--fill-color);\n",
              "      border-bottom-color: var(--fill-color);\n",
              "    }\n",
              "    90% {\n",
              "      border-color: transparent;\n",
              "      border-bottom-color: var(--fill-color);\n",
              "    }\n",
              "  }\n",
              "</style>\n",
              "\n",
              "  <script>\n",
              "    async function quickchart(key) {\n",
              "      const quickchartButtonEl =\n",
              "        document.querySelector('#' + key + ' button');\n",
              "      quickchartButtonEl.disabled = true;  // To prevent multiple clicks.\n",
              "      quickchartButtonEl.classList.add('colab-df-spinner');\n",
              "      try {\n",
              "        const charts = await google.colab.kernel.invokeFunction(\n",
              "            'suggestCharts', [key], {});\n",
              "      } catch (error) {\n",
              "        console.error('Error during call to suggestCharts:', error);\n",
              "      }\n",
              "      quickchartButtonEl.classList.remove('colab-df-spinner');\n",
              "      quickchartButtonEl.classList.add('colab-df-quickchart-complete');\n",
              "    }\n",
              "    (() => {\n",
              "      let quickchartButtonEl =\n",
              "        document.querySelector('#df-ce4ec718-de19-41dd-8445-7b8e11729136 button');\n",
              "      quickchartButtonEl.style.display =\n",
              "        google.colab.kernel.accessAllowed ? 'block' : 'none';\n",
              "    })();\n",
              "  </script>\n",
              "</div>\n",
              "\n",
              "    </div>\n",
              "  </div>\n"
            ],
            "text/plain": [
              "                                                                                         Tonnage\n",
              "Campagne Region Site        Famille Variete Num Parcelle CodeTracabilite Date                   \n",
              "20/21    GHARB  Ben Mansour AF      AF1     11240        TR11240         2020-01-12          161\n",
              "                                                                         2021-01-02   22747,5905\n",
              "                            CLA     CLA13   11130        TR11130         2020-01-10  36082,22357\n",
              "                                            11212        TR11212         2020-01-10  48051,99275\n",
              "                                    CLA14   11211        TR11211         2020-01-10  24892,98368"
            ]
          },
          "execution_count": 44,
          "metadata": {},
          "output_type": "execute_result"
        }
      ],
      "source": [
        "train_trans.head()"
      ]
    },
    {
      "cell_type": "code",
      "execution_count": null,
      "metadata": {
        "colab": {
          "base_uri": "https://localhost:8080/",
          "height": 811
        },
        "id": "WLofrp3QWTPY",
        "outputId": "59c26361-4844-4dd0-c90b-6a1d7f966997"
      },
      "outputs": [
        {
          "name": "stdout",
          "output_type": "stream",
          "text": [
            "▶️311\n"
          ]
        },
        {
          "data": {
            "image/png": "[encoded data removed]",
            "text/plain": [
              "<Figure size 1400x800 with 1 Axes>"
            ]
          },
          "metadata": {},
          "output_type": "display_data"
        }
      ],
      "source": [
        "## Observations non uniformes!\n",
        "\n",
        "CodeTracabilite = len(train[\"CodeTracabilite\"].value_counts().index)\n",
        "\n",
        "print(f'▶️{CodeTracabilite}')\n",
        "top_n = 50  # Number of top codes to display\n",
        "top_codes = train['CodeTracabilite'].value_counts().head(top_n)\n",
        "\n",
        "plt.figure(figsize=(14, 8))  # Adjust the size as needed\n",
        "sns.barplot(x=top_codes.index, y=top_codes.values, palette='viridis')\n",
        "plt.xlabel('Code', fontsize=12)\n",
        "plt.ylabel('Frequency', fontsize=12)\n",
        "plt.xticks(rotation=45, ha='right', fontsize=10)  # Adjust rotation and alignment\n",
        "plt.yticks(fontsize=10)\n",
        "plt.title('Frequency of Codes', fontsize=16)\n",
        "plt.grid(axis='y', linestyle='--', alpha=0.7)\n",
        "plt.tight_layout()  # Adjust layout to make room for the x-axis labels\n",
        "plt.show()"
      ]
    }
  ],
  "metadata": {
    "colab": {
      "provenance": []
    },
    "kernelspec": {
      "display_name": "Python 3",
      "name": "python3"
    },
    "language_info": {
      "codemirror_mode": {
        "name": "ipython",
        "version": 3
      },
      "file_extension": ".py",
      "mimetype": "text/x-python",
      "name": "python",
      "nbconvert_exporter": "python",
      "pygments_lexer": "ipython3",
      "version": "3.10.0"
    }
  },
  "nbformat": 4,
  "nbformat_minor": 0
}
