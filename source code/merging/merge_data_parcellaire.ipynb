{
 "cells": [
  {
   "cell_type": "code",
   "execution_count": 245,
   "metadata": {},
   "outputs": [],
   "source": [
    "import pandas as pd\n",
    "import numpy as np\n",
    "\n",
    "df_path = \"../processing_2/train_test_merged_monthly.csv\"\n",
    "df = pd.read_csv(df_path, parse_dates=[\"Date\"])\n",
    "df['Id'] = range(1, len(df) + 1)"
   ]
  },
  {
   "cell_type": "code",
   "execution_count": 246,
   "metadata": {},
   "outputs": [
    {
     "data": {
      "text/plain": [
       "Index(['Campagne', 'Region', 'Site', 'Famille', 'Variete', 'Num Parcelle',\n",
       "       'CodeTracabilite', 'Date', 'Tonnage', 'is_train', 'Recolte',\n",
       "       'irrigation_cumulee_1', 'irrigation_cumulee_2', 'irrigation_cumulee_3',\n",
       "       'irrigation_cumulee_4', 'irrigation_cumulee_5', 'irrigation_cumulee_6',\n",
       "       'irrigation_cumulee_7', 'irrigation_cumulee_8', 'irrigation_cumulee_9',\n",
       "       'irrigation_cumulee_10', 'irrigation_cumulee_11',\n",
       "       'irrigation_cumulee_12', 'N_cumulee_1', 'P_cumulee_1', 'K_cumulee_1',\n",
       "       'N_cumulee_2', 'P_cumulee_2', 'K_cumulee_2', 'N_cumulee_3',\n",
       "       'P_cumulee_3', 'K_cumulee_3', 'N_cumulee_4', 'P_cumulee_4',\n",
       "       'K_cumulee_4', 'N_cumulee_5', 'P_cumulee_5', 'K_cumulee_5',\n",
       "       'N_cumulee_6', 'P_cumulee_6', 'K_cumulee_6', 'N_cumulee_7',\n",
       "       'P_cumulee_7', 'K_cumulee_7', 'N_cumulee_8', 'P_cumulee_8',\n",
       "       'K_cumulee_8', 'N_cumulee_9', 'P_cumulee_9', 'K_cumulee_9',\n",
       "       'N_cumulee_10', 'P_cumulee_10', 'K_cumulee_10', 'N_cumulee_11',\n",
       "       'P_cumulee_11', 'K_cumulee_11', 'N_cumulee_12', 'P_cumulee_12',\n",
       "       'K_cumulee_12', 'Id'],\n",
       "      dtype='object')"
      ]
     },
     "execution_count": 246,
     "metadata": {},
     "output_type": "execute_result"
    }
   ],
   "source": [
    "df.columns"
   ]
  },
  {
   "cell_type": "code",
   "execution_count": 247,
   "metadata": {},
   "outputs": [
    {
     "name": "stderr",
     "output_type": "stream",
     "text": [
      "C:\\Users\\DataScience\\AppData\\Local\\Temp\\ipykernel_7456\\755999619.py:2: UserWarning: Could not infer format, so each element will be parsed individually, falling back to `dateutil`. To ensure parsing is consistent and as-expected, please specify a format.\n",
      "  df_parcel = pd.read_csv(parcellaire_path, parse_dates=[\n",
      "C:\\Users\\DataScience\\AppData\\Local\\Temp\\ipykernel_7456\\755999619.py:2: UserWarning: Could not infer format, so each element will be parsed individually, falling back to `dateutil`. To ensure parsing is consistent and as-expected, please specify a format.\n",
      "  df_parcel = pd.read_csv(parcellaire_path, parse_dates=[\n"
     ]
    }
   ],
   "source": [
    "parcellaire_path = \"../dataset/Parcellaire_1.csv\"\n",
    "df_parcel = pd.read_csv(parcellaire_path, parse_dates=[\n",
    "                        \"Date Plantation\", \"Date Arrachage\"], delimiter=\";\", decimal=\",\", encoding=\"ISO-8859-1\")"
   ]
  },
  {
   "cell_type": "code",
   "execution_count": 248,
   "metadata": {},
   "outputs": [],
   "source": [
    "cols_parcel = df_parcel.columns\n",
    "named_cols = [col for col in cols_parcel if not col.startswith('Unnamed')]\n",
    "df_parcel = df_parcel[named_cols]"
   ]
  },
  {
   "cell_type": "code",
   "execution_count": 249,
   "metadata": {},
   "outputs": [
    {
     "data": {
      "text/html": [
       "<div>\n",
       "<style scoped>\n",
       "    .dataframe tbody tr th:only-of-type {\n",
       "        vertical-align: middle;\n",
       "    }\n",
       "\n",
       "    .dataframe tbody tr th {\n",
       "        vertical-align: top;\n",
       "    }\n",
       "\n",
       "    .dataframe thead th {\n",
       "        text-align: right;\n",
       "    }\n",
       "</style>\n",
       "<table border=\"1\" class=\"dataframe\">\n",
       "  <thead>\n",
       "    <tr style=\"text-align: right;\">\n",
       "      <th></th>\n",
       "      <th>Campagne</th>\n",
       "      <th>Region</th>\n",
       "      <th>Site</th>\n",
       "      <th>Famille</th>\n",
       "      <th>Variete</th>\n",
       "      <th>Num Parcelle</th>\n",
       "      <th>CodeTracabilite</th>\n",
       "      <th>Date Plantation</th>\n",
       "      <th>Date Arrachage</th>\n",
       "      <th>Porte Greffe</th>\n",
       "      <th>Sup Debut Camp</th>\n",
       "      <th>Sup Plantee</th>\n",
       "      <th>Sup Arrachee</th>\n",
       "      <th>Sup Fin Camp</th>\n",
       "    </tr>\n",
       "  </thead>\n",
       "  <tbody>\n",
       "    <tr>\n",
       "      <th>0</th>\n",
       "      <td>20/21</td>\n",
       "      <td>GHARB</td>\n",
       "      <td>Douar Oued Mahdouma</td>\n",
       "      <td>AF</td>\n",
       "      <td>AF1</td>\n",
       "      <td>11011</td>\n",
       "      <td>TR11011</td>\n",
       "      <td>2005-01-07</td>\n",
       "      <td>NaT</td>\n",
       "      <td>PG1</td>\n",
       "      <td>5.3219</td>\n",
       "      <td>0.0</td>\n",
       "      <td>0.0</td>\n",
       "      <td>5.3219</td>\n",
       "    </tr>\n",
       "    <tr>\n",
       "      <th>1</th>\n",
       "      <td>20/21</td>\n",
       "      <td>GHARB</td>\n",
       "      <td>Douar Oued Mahdouma</td>\n",
       "      <td>AF</td>\n",
       "      <td>AF1</td>\n",
       "      <td>12010</td>\n",
       "      <td>TR12010</td>\n",
       "      <td>2005-01-07</td>\n",
       "      <td>NaT</td>\n",
       "      <td>PG2</td>\n",
       "      <td>3.1979</td>\n",
       "      <td>0.0</td>\n",
       "      <td>0.0</td>\n",
       "      <td>3.1979</td>\n",
       "    </tr>\n",
       "    <tr>\n",
       "      <th>2</th>\n",
       "      <td>20/21</td>\n",
       "      <td>GHARB</td>\n",
       "      <td>Douar Oued Mahdouma</td>\n",
       "      <td>AF</td>\n",
       "      <td>AF1</td>\n",
       "      <td>12020</td>\n",
       "      <td>TR12020</td>\n",
       "      <td>2005-01-07</td>\n",
       "      <td>NaT</td>\n",
       "      <td>PG2</td>\n",
       "      <td>7.3516</td>\n",
       "      <td>0.0</td>\n",
       "      <td>0.0</td>\n",
       "      <td>7.3516</td>\n",
       "    </tr>\n",
       "    <tr>\n",
       "      <th>3</th>\n",
       "      <td>20/21</td>\n",
       "      <td>GHARB</td>\n",
       "      <td>Douar Oued Mahdouma</td>\n",
       "      <td>AF</td>\n",
       "      <td>AF1</td>\n",
       "      <td>12050</td>\n",
       "      <td>TR12050</td>\n",
       "      <td>2009-02-07</td>\n",
       "      <td>NaT</td>\n",
       "      <td>PG3</td>\n",
       "      <td>2.0610</td>\n",
       "      <td>0.0</td>\n",
       "      <td>0.0</td>\n",
       "      <td>2.0610</td>\n",
       "    </tr>\n",
       "    <tr>\n",
       "      <th>4</th>\n",
       "      <td>20/21</td>\n",
       "      <td>GHARB</td>\n",
       "      <td>Douar Oued Mahdouma</td>\n",
       "      <td>AF</td>\n",
       "      <td>AF1</td>\n",
       "      <td>13010</td>\n",
       "      <td>TR13010</td>\n",
       "      <td>2014-04-06</td>\n",
       "      <td>NaT</td>\n",
       "      <td>PG2</td>\n",
       "      <td>5.6639</td>\n",
       "      <td>0.0</td>\n",
       "      <td>0.0</td>\n",
       "      <td>5.6639</td>\n",
       "    </tr>\n",
       "    <tr>\n",
       "      <th>...</th>\n",
       "      <td>...</td>\n",
       "      <td>...</td>\n",
       "      <td>...</td>\n",
       "      <td>...</td>\n",
       "      <td>...</td>\n",
       "      <td>...</td>\n",
       "      <td>...</td>\n",
       "      <td>...</td>\n",
       "      <td>...</td>\n",
       "      <td>...</td>\n",
       "      <td>...</td>\n",
       "      <td>...</td>\n",
       "      <td>...</td>\n",
       "      <td>...</td>\n",
       "    </tr>\n",
       "    <tr>\n",
       "      <th>2253</th>\n",
       "      <td>22/23</td>\n",
       "      <td>TADLA</td>\n",
       "      <td>Beni Mellal</td>\n",
       "      <td>ORA</td>\n",
       "      <td>ORA11</td>\n",
       "      <td>20021</td>\n",
       "      <td>TR20100</td>\n",
       "      <td>2018-01-08</td>\n",
       "      <td>NaT</td>\n",
       "      <td>PG5</td>\n",
       "      <td>2.7160</td>\n",
       "      <td>0.0</td>\n",
       "      <td>0.0</td>\n",
       "      <td>2.7160</td>\n",
       "    </tr>\n",
       "    <tr>\n",
       "      <th>2254</th>\n",
       "      <td>22/23</td>\n",
       "      <td>TADLA</td>\n",
       "      <td>Beni Mellal</td>\n",
       "      <td>ORA</td>\n",
       "      <td>ORA11</td>\n",
       "      <td>20050</td>\n",
       "      <td>TR20100</td>\n",
       "      <td>2018-01-08</td>\n",
       "      <td>NaT</td>\n",
       "      <td>PG5</td>\n",
       "      <td>3.8409</td>\n",
       "      <td>0.0</td>\n",
       "      <td>0.0</td>\n",
       "      <td>3.8409</td>\n",
       "    </tr>\n",
       "    <tr>\n",
       "      <th>2255</th>\n",
       "      <td>22/23</td>\n",
       "      <td>TADLA</td>\n",
       "      <td>Beni Mellal</td>\n",
       "      <td>SPA</td>\n",
       "      <td>SPA1</td>\n",
       "      <td>10013</td>\n",
       "      <td>TR10013</td>\n",
       "      <td>2018-01-08</td>\n",
       "      <td>2030-04-09</td>\n",
       "      <td>PG13</td>\n",
       "      <td>1.5610</td>\n",
       "      <td>0.0</td>\n",
       "      <td>0.0</td>\n",
       "      <td>1.5610</td>\n",
       "    </tr>\n",
       "    <tr>\n",
       "      <th>2256</th>\n",
       "      <td>22/23</td>\n",
       "      <td>TADLA</td>\n",
       "      <td>Beni Mellal</td>\n",
       "      <td>SPA</td>\n",
       "      <td>SPA1</td>\n",
       "      <td>40010</td>\n",
       "      <td>TR40010</td>\n",
       "      <td>2018-01-08</td>\n",
       "      <td>2030-04-09</td>\n",
       "      <td>PG4</td>\n",
       "      <td>0.7230</td>\n",
       "      <td>0.0</td>\n",
       "      <td>0.0</td>\n",
       "      <td>0.7230</td>\n",
       "    </tr>\n",
       "    <tr>\n",
       "      <th>2257</th>\n",
       "      <td>22/23</td>\n",
       "      <td>TADLA</td>\n",
       "      <td>Beni Mellal</td>\n",
       "      <td>SPA</td>\n",
       "      <td>SPA1</td>\n",
       "      <td>40020</td>\n",
       "      <td>TR40020</td>\n",
       "      <td>2020-01-07</td>\n",
       "      <td>2026-09-30</td>\n",
       "      <td>PG13</td>\n",
       "      <td>0.9640</td>\n",
       "      <td>0.0</td>\n",
       "      <td>0.0</td>\n",
       "      <td>0.9640</td>\n",
       "    </tr>\n",
       "  </tbody>\n",
       "</table>\n",
       "<p>2258 rows × 14 columns</p>\n",
       "</div>"
      ],
      "text/plain": [
       "     Campagne Region                 Site Famille Variete Num Parcelle  \\\n",
       "0       20/21  GHARB  Douar Oued Mahdouma      AF     AF1        11011   \n",
       "1       20/21  GHARB  Douar Oued Mahdouma      AF     AF1        12010   \n",
       "2       20/21  GHARB  Douar Oued Mahdouma      AF     AF1        12020   \n",
       "3       20/21  GHARB  Douar Oued Mahdouma      AF     AF1        12050   \n",
       "4       20/21  GHARB  Douar Oued Mahdouma      AF     AF1        13010   \n",
       "...       ...    ...                  ...     ...     ...          ...   \n",
       "2253    22/23  TADLA          Beni Mellal     ORA   ORA11        20021   \n",
       "2254    22/23  TADLA          Beni Mellal     ORA   ORA11        20050   \n",
       "2255    22/23  TADLA          Beni Mellal     SPA    SPA1        10013   \n",
       "2256    22/23  TADLA          Beni Mellal     SPA    SPA1        40010   \n",
       "2257    22/23  TADLA          Beni Mellal     SPA    SPA1        40020   \n",
       "\n",
       "     CodeTracabilite Date Plantation Date Arrachage Porte Greffe  \\\n",
       "0            TR11011      2005-01-07            NaT          PG1   \n",
       "1            TR12010      2005-01-07            NaT          PG2   \n",
       "2            TR12020      2005-01-07            NaT          PG2   \n",
       "3            TR12050      2009-02-07            NaT          PG3   \n",
       "4            TR13010      2014-04-06            NaT          PG2   \n",
       "...              ...             ...            ...          ...   \n",
       "2253         TR20100      2018-01-08            NaT          PG5   \n",
       "2254         TR20100      2018-01-08            NaT          PG5   \n",
       "2255         TR10013      2018-01-08     2030-04-09         PG13   \n",
       "2256         TR40010      2018-01-08     2030-04-09          PG4   \n",
       "2257         TR40020      2020-01-07     2026-09-30         PG13   \n",
       "\n",
       "      Sup Debut Camp  Sup Plantee  Sup Arrachee  Sup Fin Camp  \n",
       "0             5.3219          0.0           0.0        5.3219  \n",
       "1             3.1979          0.0           0.0        3.1979  \n",
       "2             7.3516          0.0           0.0        7.3516  \n",
       "3             2.0610          0.0           0.0        2.0610  \n",
       "4             5.6639          0.0           0.0        5.6639  \n",
       "...              ...          ...           ...           ...  \n",
       "2253          2.7160          0.0           0.0        2.7160  \n",
       "2254          3.8409          0.0           0.0        3.8409  \n",
       "2255          1.5610          0.0           0.0        1.5610  \n",
       "2256          0.7230          0.0           0.0        0.7230  \n",
       "2257          0.9640          0.0           0.0        0.9640  \n",
       "\n",
       "[2258 rows x 14 columns]"
      ]
     },
     "execution_count": 249,
     "metadata": {},
     "output_type": "execute_result"
    }
   ],
   "source": [
    "df_parcel"
   ]
  },
  {
   "cell_type": "code",
   "execution_count": 250,
   "metadata": {},
   "outputs": [
    {
     "name": "stdout",
     "output_type": "stream",
     "text": [
      "\n",
      "['PG1' 'PG2' 'PG3' 'PG4' 'PG5' 'PG6' 'PG7' 'PG8' 'PG9' 'PG10' 'PG11'\n",
      " 'PG12' 'PG13']\n",
      "0\n",
      "\n"
     ]
    }
   ],
   "source": [
    "print(f'''\n",
    "{df_parcel['Porte Greffe'].unique()}\n",
    "{df_parcel['Porte Greffe'].isna().sum()}\n",
    "''')"
   ]
  },
  {
   "cell_type": "code",
   "execution_count": 251,
   "metadata": {},
   "outputs": [
    {
     "data": {
      "text/plain": [
       "['CodeTracabilite', 'Num Parcelle', 'Campagne']"
      ]
     },
     "execution_count": 251,
     "metadata": {},
     "output_type": "execute_result"
    }
   ],
   "source": [
    "['CodeTracabilite', 'Num Parcelle', 'Campagne']"
   ]
  },
  {
   "cell_type": "code",
   "execution_count": 252,
   "metadata": {},
   "outputs": [
    {
     "data": {
      "text/html": [
       "<div>\n",
       "<style scoped>\n",
       "    .dataframe tbody tr th:only-of-type {\n",
       "        vertical-align: middle;\n",
       "    }\n",
       "\n",
       "    .dataframe tbody tr th {\n",
       "        vertical-align: top;\n",
       "    }\n",
       "\n",
       "    .dataframe thead th {\n",
       "        text-align: right;\n",
       "    }\n",
       "</style>\n",
       "<table border=\"1\" class=\"dataframe\">\n",
       "  <thead>\n",
       "    <tr style=\"text-align: right;\">\n",
       "      <th></th>\n",
       "      <th>Campagne</th>\n",
       "      <th>Region</th>\n",
       "      <th>Site</th>\n",
       "      <th>Famille</th>\n",
       "      <th>Variete</th>\n",
       "      <th>Num Parcelle</th>\n",
       "      <th>CodeTracabilite</th>\n",
       "      <th>Date</th>\n",
       "      <th>Tonnage</th>\n",
       "      <th>is_train</th>\n",
       "      <th>...</th>\n",
       "      <th>N_cumulee_10</th>\n",
       "      <th>P_cumulee_10</th>\n",
       "      <th>K_cumulee_10</th>\n",
       "      <th>N_cumulee_11</th>\n",
       "      <th>P_cumulee_11</th>\n",
       "      <th>K_cumulee_11</th>\n",
       "      <th>N_cumulee_12</th>\n",
       "      <th>P_cumulee_12</th>\n",
       "      <th>K_cumulee_12</th>\n",
       "      <th>Id</th>\n",
       "    </tr>\n",
       "  </thead>\n",
       "  <tbody>\n",
       "    <tr>\n",
       "      <th>256</th>\n",
       "      <td>20/21</td>\n",
       "      <td>GHARB</td>\n",
       "      <td>Douar Oued Mahdouma</td>\n",
       "      <td>AF</td>\n",
       "      <td>AF1</td>\n",
       "      <td>11011</td>\n",
       "      <td>TR11011</td>\n",
       "      <td>2020-12-01</td>\n",
       "      <td>978,8</td>\n",
       "      <td>True</td>\n",
       "      <td>...</td>\n",
       "      <td>0.0</td>\n",
       "      <td>0.0</td>\n",
       "      <td>0.0</td>\n",
       "      <td>0.0</td>\n",
       "      <td>0.0</td>\n",
       "      <td>0.0</td>\n",
       "      <td>0.0</td>\n",
       "      <td>0.0</td>\n",
       "      <td>0.0</td>\n",
       "      <td>257</td>\n",
       "    </tr>\n",
       "    <tr>\n",
       "      <th>798</th>\n",
       "      <td>20/21</td>\n",
       "      <td>GHARB</td>\n",
       "      <td>Douar Oued Mahdouma</td>\n",
       "      <td>AF</td>\n",
       "      <td>AF1</td>\n",
       "      <td>11011</td>\n",
       "      <td>TR11011</td>\n",
       "      <td>2021-02-01</td>\n",
       "      <td>24547,23188</td>\n",
       "      <td>True</td>\n",
       "      <td>...</td>\n",
       "      <td>0.0</td>\n",
       "      <td>0.0</td>\n",
       "      <td>0.0</td>\n",
       "      <td>0.0</td>\n",
       "      <td>0.0</td>\n",
       "      <td>0.0</td>\n",
       "      <td>0.0</td>\n",
       "      <td>0.0</td>\n",
       "      <td>0.0</td>\n",
       "      <td>799</td>\n",
       "    </tr>\n",
       "  </tbody>\n",
       "</table>\n",
       "<p>2 rows × 60 columns</p>\n",
       "</div>"
      ],
      "text/plain": [
       "    Campagne Region                 Site Famille Variete Num Parcelle  \\\n",
       "256    20/21  GHARB  Douar Oued Mahdouma      AF     AF1        11011   \n",
       "798    20/21  GHARB  Douar Oued Mahdouma      AF     AF1        11011   \n",
       "\n",
       "    CodeTracabilite       Date      Tonnage  is_train  ...  N_cumulee_10  \\\n",
       "256         TR11011 2020-12-01        978,8      True  ...           0.0   \n",
       "798         TR11011 2021-02-01  24547,23188      True  ...           0.0   \n",
       "\n",
       "     P_cumulee_10  K_cumulee_10  N_cumulee_11  P_cumulee_11  K_cumulee_11  \\\n",
       "256           0.0           0.0           0.0           0.0           0.0   \n",
       "798           0.0           0.0           0.0           0.0           0.0   \n",
       "\n",
       "     N_cumulee_12  P_cumulee_12  K_cumulee_12   Id  \n",
       "256           0.0           0.0           0.0  257  \n",
       "798           0.0           0.0           0.0  799  \n",
       "\n",
       "[2 rows x 60 columns]"
      ]
     },
     "execution_count": 252,
     "metadata": {},
     "output_type": "execute_result"
    }
   ],
   "source": [
    "df[(df['CodeTracabilite'] == \"TR11011\") & (df['Num Parcelle'] == \"11011\") & (df['Campagne'] == \"20/21\")]"
   ]
  },
  {
   "cell_type": "code",
   "execution_count": 253,
   "metadata": {},
   "outputs": [
    {
     "data": {
      "text/html": [
       "<div>\n",
       "<style scoped>\n",
       "    .dataframe tbody tr th:only-of-type {\n",
       "        vertical-align: middle;\n",
       "    }\n",
       "\n",
       "    .dataframe tbody tr th {\n",
       "        vertical-align: top;\n",
       "    }\n",
       "\n",
       "    .dataframe thead th {\n",
       "        text-align: right;\n",
       "    }\n",
       "</style>\n",
       "<table border=\"1\" class=\"dataframe\">\n",
       "  <thead>\n",
       "    <tr style=\"text-align: right;\">\n",
       "      <th></th>\n",
       "      <th>Campagne</th>\n",
       "      <th>Region</th>\n",
       "      <th>Site</th>\n",
       "      <th>Famille</th>\n",
       "      <th>Variete</th>\n",
       "      <th>Num Parcelle</th>\n",
       "      <th>CodeTracabilite</th>\n",
       "      <th>Date Plantation</th>\n",
       "      <th>Date Arrachage</th>\n",
       "      <th>Porte Greffe</th>\n",
       "      <th>Sup Debut Camp</th>\n",
       "      <th>Sup Plantee</th>\n",
       "      <th>Sup Arrachee</th>\n",
       "      <th>Sup Fin Camp</th>\n",
       "    </tr>\n",
       "  </thead>\n",
       "  <tbody>\n",
       "  </tbody>\n",
       "</table>\n",
       "</div>"
      ],
      "text/plain": [
       "Empty DataFrame\n",
       "Columns: [Campagne, Region, Site, Famille, Variete, Num Parcelle, CodeTracabilite, Date Plantation, Date Arrachage, Porte Greffe, Sup Debut Camp, Sup Plantee, Sup Arrachee, Sup Fin Camp]\n",
       "Index: []"
      ]
     },
     "execution_count": 253,
     "metadata": {},
     "output_type": "execute_result"
    }
   ],
   "source": [
    "df_parcel[(df_parcel['CodeTracabilite'] == \"TR10000\") & (df_parcel['Num Parcelle'] == \"10127\") & (df_parcel['Campagne'] == \"21/22\")]"
   ]
  },
  {
   "cell_type": "code",
   "execution_count": 254,
   "metadata": {},
   "outputs": [
    {
     "data": {
      "text/plain": [
       "array(['AF1', 'ORA2', 'ORA4', 'CLA18', 'SPA10', 'CLA1', 'CLA6', 'CLA12',\n",
       "       'CLA14', 'ORA5', 'ORA6', 'ORA9', 'ORA10', 'ORA11', 'ORA14', 'SPA1',\n",
       "       'SPA11', 'CLA7', 'CLA15', 'CLA16', 'CLA13', 'CLA3', 'ORA1', 'ORA7',\n",
       "       'ORA12', 'ORA13', 'AF2', 'ORA3', 'MAD3', 'NOA1', 'CLA8', 'MAD2',\n",
       "       'CLA10', 'ORA8', 'SPA7', 'CLA17', 'CLA11', 'SPA2', 'CLA5', 'MAD1',\n",
       "       'CLA4', 'CLA9', 'SPA3', 'SPA4', 'SPA5', 'SPA6', 'SPA8', 'SPA9',\n",
       "       'MAD4', 'AF3'], dtype=object)"
      ]
     },
     "execution_count": 254,
     "metadata": {},
     "output_type": "execute_result"
    }
   ],
   "source": [
    "df_parcel['Variete'].unique()"
   ]
  },
  {
   "cell_type": "code",
   "execution_count": 255,
   "metadata": {},
   "outputs": [],
   "source": [
    "# df_parcel = df_parcel.drop(columns=['Famille', 'Variete'])"
   ]
  },
  {
   "cell_type": "code",
   "execution_count": 256,
   "metadata": {},
   "outputs": [
    {
     "data": {
      "text/plain": [
       "Index(['Campagne', 'Region', 'Site', 'Famille', 'Variete', 'Num Parcelle',\n",
       "       'CodeTracabilite', 'Date Plantation', 'Date Arrachage', 'Porte Greffe',\n",
       "       'Sup Debut Camp', 'Sup Plantee', 'Sup Arrachee', 'Sup Fin Camp'],\n",
       "      dtype='object')"
      ]
     },
     "execution_count": 256,
     "metadata": {},
     "output_type": "execute_result"
    }
   ],
   "source": [
    "df_parcel.columns"
   ]
  },
  {
   "cell_type": "code",
   "execution_count": 257,
   "metadata": {},
   "outputs": [
    {
     "data": {
      "text/plain": [
       "Index(['Campagne', 'Region', 'Site', 'Famille', 'Variete', 'Num Parcelle',\n",
       "       'CodeTracabilite', 'Date', 'Tonnage', 'is_train', 'Recolte',\n",
       "       'irrigation_cumulee_1', 'irrigation_cumulee_2', 'irrigation_cumulee_3',\n",
       "       'irrigation_cumulee_4', 'irrigation_cumulee_5', 'irrigation_cumulee_6',\n",
       "       'irrigation_cumulee_7', 'irrigation_cumulee_8', 'irrigation_cumulee_9',\n",
       "       'irrigation_cumulee_10', 'irrigation_cumulee_11',\n",
       "       'irrigation_cumulee_12', 'N_cumulee_1', 'P_cumulee_1', 'K_cumulee_1',\n",
       "       'N_cumulee_2', 'P_cumulee_2', 'K_cumulee_2', 'N_cumulee_3',\n",
       "       'P_cumulee_3', 'K_cumulee_3', 'N_cumulee_4', 'P_cumulee_4',\n",
       "       'K_cumulee_4', 'N_cumulee_5', 'P_cumulee_5', 'K_cumulee_5',\n",
       "       'N_cumulee_6', 'P_cumulee_6', 'K_cumulee_6', 'N_cumulee_7',\n",
       "       'P_cumulee_7', 'K_cumulee_7', 'N_cumulee_8', 'P_cumulee_8',\n",
       "       'K_cumulee_8', 'N_cumulee_9', 'P_cumulee_9', 'K_cumulee_9',\n",
       "       'N_cumulee_10', 'P_cumulee_10', 'K_cumulee_10', 'N_cumulee_11',\n",
       "       'P_cumulee_11', 'K_cumulee_11', 'N_cumulee_12', 'P_cumulee_12',\n",
       "       'K_cumulee_12', 'Id'],\n",
       "      dtype='object')"
      ]
     },
     "execution_count": 257,
     "metadata": {},
     "output_type": "execute_result"
    }
   ],
   "source": [
    "df.columns"
   ]
  },
  {
   "cell_type": "code",
   "execution_count": 258,
   "metadata": {},
   "outputs": [],
   "source": [
    "# Perform the left merge\n",
    "merged_df = pd.merge(df, df_parcel, on=['Famille', 'Variete', 'CodeTracabilite', 'Num Parcelle', 'Campagne', 'Region', 'Site'], how='left')\n"
   ]
  },
  {
   "cell_type": "code",
   "execution_count": 259,
   "metadata": {},
   "outputs": [
    {
     "data": {
      "text/plain": [
       "43"
      ]
     },
     "execution_count": 259,
     "metadata": {},
     "output_type": "execute_result"
    }
   ],
   "source": [
    "(merged_df.shape[0] - df.shape[0])"
   ]
  },
  {
   "cell_type": "code",
   "execution_count": 260,
   "metadata": {},
   "outputs": [],
   "source": [
    "visible_cols = ['Id','Campagne', 'Region', 'Site', 'Famille', 'Variete', 'Num Parcelle',\n",
    "                'CodeTracabilite', 'Date', 'Date Plantation', 'Date Arrachage', 'Porte Greffe', 'Tonnage', 'is_train', 'Recolte',\n",
    "                'Sup Debut Camp', 'Sup Plantee', 'Sup Arrachee', 'Sup Fin Camp']"
   ]
  },
  {
   "cell_type": "code",
   "execution_count": 261,
   "metadata": {},
   "outputs": [
    {
     "data": {
      "text/plain": [
       "781"
      ]
     },
     "execution_count": 261,
     "metadata": {},
     "output_type": "execute_result"
    }
   ],
   "source": [
    "len(merged_df[~merged_df[\"is_train\"]])"
   ]
  },
  {
   "cell_type": "code",
   "execution_count": 262,
   "metadata": {},
   "outputs": [
    {
     "data": {
      "text/html": [
       "<div>\n",
       "<style scoped>\n",
       "    .dataframe tbody tr th:only-of-type {\n",
       "        vertical-align: middle;\n",
       "    }\n",
       "\n",
       "    .dataframe tbody tr th {\n",
       "        vertical-align: top;\n",
       "    }\n",
       "\n",
       "    .dataframe thead th {\n",
       "        text-align: right;\n",
       "    }\n",
       "</style>\n",
       "<table border=\"1\" class=\"dataframe\">\n",
       "  <thead>\n",
       "    <tr style=\"text-align: right;\">\n",
       "      <th></th>\n",
       "      <th>Id</th>\n",
       "      <th>Campagne</th>\n",
       "      <th>Region</th>\n",
       "      <th>Site</th>\n",
       "      <th>Famille</th>\n",
       "      <th>Variete</th>\n",
       "      <th>Num Parcelle</th>\n",
       "      <th>CodeTracabilite</th>\n",
       "      <th>Date</th>\n",
       "      <th>Date Plantation</th>\n",
       "      <th>Date Arrachage</th>\n",
       "      <th>Porte Greffe</th>\n",
       "      <th>Tonnage</th>\n",
       "      <th>is_train</th>\n",
       "      <th>Recolte</th>\n",
       "      <th>Sup Debut Camp</th>\n",
       "      <th>Sup Plantee</th>\n",
       "      <th>Sup Arrachee</th>\n",
       "      <th>Sup Fin Camp</th>\n",
       "    </tr>\n",
       "  </thead>\n",
       "  <tbody>\n",
       "  </tbody>\n",
       "</table>\n",
       "</div>"
      ],
      "text/plain": [
       "Empty DataFrame\n",
       "Columns: [Id, Campagne, Region, Site, Famille, Variete, Num Parcelle, CodeTracabilite, Date, Date Plantation, Date Arrachage, Porte Greffe, Tonnage, is_train, Recolte, Sup Debut Camp, Sup Plantee, Sup Arrachee, Sup Fin Camp]\n",
       "Index: []"
      ]
     },
     "execution_count": 262,
     "metadata": {},
     "output_type": "execute_result"
    }
   ],
   "source": [
    "merged_df[(merged_df.duplicated('Id', keep=False) & (~merged_df[\"is_train\"]))][visible_cols]"
   ]
  },
  {
   "cell_type": "code",
   "execution_count": 263,
   "metadata": {},
   "outputs": [
    {
     "data": {
      "text/plain": [
       "Index(['Campagne', 'Region', 'Site', 'Famille', 'Variete', 'Num Parcelle',\n",
       "       'CodeTracabilite', 'Date', 'Tonnage', 'is_train', 'Recolte',\n",
       "       'irrigation_cumulee_1', 'irrigation_cumulee_2', 'irrigation_cumulee_3',\n",
       "       'irrigation_cumulee_4', 'irrigation_cumulee_5', 'irrigation_cumulee_6',\n",
       "       'irrigation_cumulee_7', 'irrigation_cumulee_8', 'irrigation_cumulee_9',\n",
       "       'irrigation_cumulee_10', 'irrigation_cumulee_11',\n",
       "       'irrigation_cumulee_12', 'N_cumulee_1', 'P_cumulee_1', 'K_cumulee_1',\n",
       "       'N_cumulee_2', 'P_cumulee_2', 'K_cumulee_2', 'N_cumulee_3',\n",
       "       'P_cumulee_3', 'K_cumulee_3', 'N_cumulee_4', 'P_cumulee_4',\n",
       "       'K_cumulee_4', 'N_cumulee_5', 'P_cumulee_5', 'K_cumulee_5',\n",
       "       'N_cumulee_6', 'P_cumulee_6', 'K_cumulee_6', 'N_cumulee_7',\n",
       "       'P_cumulee_7', 'K_cumulee_7', 'N_cumulee_8', 'P_cumulee_8',\n",
       "       'K_cumulee_8', 'N_cumulee_9', 'P_cumulee_9', 'K_cumulee_9',\n",
       "       'N_cumulee_10', 'P_cumulee_10', 'K_cumulee_10', 'N_cumulee_11',\n",
       "       'P_cumulee_11', 'K_cumulee_11', 'N_cumulee_12', 'P_cumulee_12',\n",
       "       'K_cumulee_12', 'Id', 'Date Plantation', 'Date Arrachage',\n",
       "       'Porte Greffe', 'Sup Debut Camp', 'Sup Plantee', 'Sup Arrachee',\n",
       "       'Sup Fin Camp'],\n",
       "      dtype='object')"
      ]
     },
     "execution_count": 263,
     "metadata": {},
     "output_type": "execute_result"
    }
   ],
   "source": [
    "merged_df.columns"
   ]
  },
  {
   "cell_type": "code",
   "execution_count": 264,
   "metadata": {},
   "outputs": [],
   "source": [
    "# add tree age column\n",
    "merged_df['Tree Age'] = (merged_df['Date'] - merged_df['Date Plantation']).dt.days\n",
    "\n",
    "# add days to arrachage\n",
    "merged_df['Days to Arrachage'] = (merged_df['Date Arrachage'] - merged_df['Date']).dt.days"
   ]
  },
  {
   "cell_type": "code",
   "execution_count": 265,
   "metadata": {},
   "outputs": [
    {
     "data": {
      "text/html": [
       "<div>\n",
       "<style scoped>\n",
       "    .dataframe tbody tr th:only-of-type {\n",
       "        vertical-align: middle;\n",
       "    }\n",
       "\n",
       "    .dataframe tbody tr th {\n",
       "        vertical-align: top;\n",
       "    }\n",
       "\n",
       "    .dataframe thead th {\n",
       "        text-align: right;\n",
       "    }\n",
       "</style>\n",
       "<table border=\"1\" class=\"dataframe\">\n",
       "  <thead>\n",
       "    <tr style=\"text-align: right;\">\n",
       "      <th></th>\n",
       "      <th>Campagne</th>\n",
       "      <th>Region</th>\n",
       "      <th>Site</th>\n",
       "      <th>Famille</th>\n",
       "      <th>Variete</th>\n",
       "      <th>Num Parcelle</th>\n",
       "      <th>CodeTracabilite</th>\n",
       "      <th>Date Plantation</th>\n",
       "      <th>Date Arrachage</th>\n",
       "      <th>Porte Greffe</th>\n",
       "      <th>Sup Debut Camp</th>\n",
       "      <th>Sup Plantee</th>\n",
       "      <th>Sup Arrachee</th>\n",
       "      <th>Sup Fin Camp</th>\n",
       "    </tr>\n",
       "  </thead>\n",
       "  <tbody>\n",
       "    <tr>\n",
       "      <th>304</th>\n",
       "      <td>20/21</td>\n",
       "      <td>HAOUZ</td>\n",
       "      <td>Douar Ahl quadi</td>\n",
       "      <td>ORA</td>\n",
       "      <td>ORA2</td>\n",
       "      <td>21062</td>\n",
       "      <td>TR21062</td>\n",
       "      <td>2073-06-30</td>\n",
       "      <td>NaT</td>\n",
       "      <td>PG5</td>\n",
       "      <td>0.8854</td>\n",
       "      <td>0.0</td>\n",
       "      <td>0.0</td>\n",
       "      <td>0.8854</td>\n",
       "    </tr>\n",
       "  </tbody>\n",
       "</table>\n",
       "</div>"
      ],
      "text/plain": [
       "    Campagne Region             Site Famille Variete Num Parcelle  \\\n",
       "304    20/21  HAOUZ  Douar Ahl quadi     ORA    ORA2        21062   \n",
       "\n",
       "    CodeTracabilite Date Plantation Date Arrachage Porte Greffe  \\\n",
       "304         TR21062      2073-06-30            NaT          PG5   \n",
       "\n",
       "     Sup Debut Camp  Sup Plantee  Sup Arrachee  Sup Fin Camp  \n",
       "304          0.8854          0.0           0.0        0.8854  "
      ]
     },
     "execution_count": 265,
     "metadata": {},
     "output_type": "execute_result"
    }
   ],
   "source": [
    "df_parcel[(df_parcel['CodeTracabilite'] == \"TR21062\") & (df_parcel['Num Parcelle'] == \"21062\") & (df_parcel['Campagne'] == \"20/21\")]"
   ]
  },
  {
   "cell_type": "code",
   "execution_count": 266,
   "metadata": {},
   "outputs": [
    {
     "data": {
      "text/html": [
       "<div>\n",
       "<style scoped>\n",
       "    .dataframe tbody tr th:only-of-type {\n",
       "        vertical-align: middle;\n",
       "    }\n",
       "\n",
       "    .dataframe tbody tr th {\n",
       "        vertical-align: top;\n",
       "    }\n",
       "\n",
       "    .dataframe thead th {\n",
       "        text-align: right;\n",
       "    }\n",
       "</style>\n",
       "<table border=\"1\" class=\"dataframe\">\n",
       "  <thead>\n",
       "    <tr style=\"text-align: right;\">\n",
       "      <th></th>\n",
       "      <th>Id</th>\n",
       "      <th>Campagne</th>\n",
       "      <th>Region</th>\n",
       "      <th>Site</th>\n",
       "      <th>Famille</th>\n",
       "      <th>Variete</th>\n",
       "      <th>Num Parcelle</th>\n",
       "      <th>CodeTracabilite</th>\n",
       "      <th>Date</th>\n",
       "      <th>Date Plantation</th>\n",
       "      <th>Date Arrachage</th>\n",
       "      <th>Porte Greffe</th>\n",
       "      <th>Tonnage</th>\n",
       "      <th>is_train</th>\n",
       "      <th>Recolte</th>\n",
       "      <th>Sup Debut Camp</th>\n",
       "      <th>Sup Plantee</th>\n",
       "      <th>Sup Arrachee</th>\n",
       "      <th>Sup Fin Camp</th>\n",
       "    </tr>\n",
       "  </thead>\n",
       "  <tbody>\n",
       "    <tr>\n",
       "      <th>884</th>\n",
       "      <td>868</td>\n",
       "      <td>20/21</td>\n",
       "      <td>HAOUZ</td>\n",
       "      <td>Douar Ahl quadi</td>\n",
       "      <td>ORA</td>\n",
       "      <td>ORA2</td>\n",
       "      <td>21062</td>\n",
       "      <td>TR21062</td>\n",
       "      <td>2021-02-01</td>\n",
       "      <td>2073-06-30</td>\n",
       "      <td>NaT</td>\n",
       "      <td>PG5</td>\n",
       "      <td>11518,65359</td>\n",
       "      <td>True</td>\n",
       "      <td>0</td>\n",
       "      <td>0.8854</td>\n",
       "      <td>0.0</td>\n",
       "      <td>0.0</td>\n",
       "      <td>0.8854</td>\n",
       "    </tr>\n",
       "    <tr>\n",
       "      <th>1115</th>\n",
       "      <td>1096</td>\n",
       "      <td>20/21</td>\n",
       "      <td>HAOUZ</td>\n",
       "      <td>Douar Ahl quadi</td>\n",
       "      <td>ORA</td>\n",
       "      <td>ORA2</td>\n",
       "      <td>21062</td>\n",
       "      <td>TR21062</td>\n",
       "      <td>2021-03-01</td>\n",
       "      <td>2073-06-30</td>\n",
       "      <td>NaT</td>\n",
       "      <td>PG5</td>\n",
       "      <td>2465</td>\n",
       "      <td>True</td>\n",
       "      <td>1</td>\n",
       "      <td>0.8854</td>\n",
       "      <td>0.0</td>\n",
       "      <td>0.0</td>\n",
       "      <td>0.8854</td>\n",
       "    </tr>\n",
       "  </tbody>\n",
       "</table>\n",
       "</div>"
      ],
      "text/plain": [
       "        Id Campagne Region             Site Famille Variete Num Parcelle  \\\n",
       "884    868    20/21  HAOUZ  Douar Ahl quadi     ORA    ORA2        21062   \n",
       "1115  1096    20/21  HAOUZ  Douar Ahl quadi     ORA    ORA2        21062   \n",
       "\n",
       "     CodeTracabilite       Date Date Plantation Date Arrachage Porte Greffe  \\\n",
       "884          TR21062 2021-02-01      2073-06-30            NaT          PG5   \n",
       "1115         TR21062 2021-03-01      2073-06-30            NaT          PG5   \n",
       "\n",
       "          Tonnage  is_train  Recolte  Sup Debut Camp  Sup Plantee  \\\n",
       "884   11518,65359      True        0          0.8854          0.0   \n",
       "1115         2465      True        1          0.8854          0.0   \n",
       "\n",
       "      Sup Arrachee  Sup Fin Camp  \n",
       "884            0.0        0.8854  \n",
       "1115           0.0        0.8854  "
      ]
     },
     "execution_count": 266,
     "metadata": {},
     "output_type": "execute_result"
    }
   ],
   "source": [
    "merged_df[(merged_df['CodeTracabilite'] == \"TR21062\") & (merged_df['Num Parcelle'] == \"21062\") & (merged_df['Campagne'] == \"20/21\")][visible_cols]"
   ]
  },
  {
   "cell_type": "code",
   "execution_count": 267,
   "metadata": {},
   "outputs": [
    {
     "name": "stderr",
     "output_type": "stream",
     "text": [
      "C:\\Users\\DataScience\\AppData\\Local\\Temp\\ipykernel_7456\\4248208008.py:1: SettingWithCopyWarning: \n",
      "A value is trying to be set on a copy of a slice from a DataFrame.\n",
      "Try using .loc[row_indexer,col_indexer] = value instead\n",
      "\n",
      "See the caveats in the documentation: https://pandas.pydata.org/pandas-docs/stable/user_guide/indexing.html#returning-a-view-versus-a-copy\n",
      "  merged_df[(merged_df['Tree Age'] <= 0) & (merged_df['Date Plantation'] != pd.NaT)]['Tree Age'] = np.nan\n"
     ]
    }
   ],
   "source": [
    "merged_df[(merged_df['Tree Age'] <= 0) & (merged_df['Date Plantation'] != pd.NaT)]['Tree Age'] = np.nan"
   ]
  },
  {
   "cell_type": "code",
   "execution_count": 268,
   "metadata": {},
   "outputs": [],
   "source": [
    "mask = (merged_df['Tree Age'] <= 0) & (merged_df['Date Plantation'] != pd.NaT)\n",
    "merged_df.loc[mask, 'Tree Age'] = np.nan"
   ]
  },
  {
   "cell_type": "code",
   "execution_count": 269,
   "metadata": {},
   "outputs": [],
   "source": [
    "mask = (merged_df['Days to Arrachage'] <= 0) & (merged_df['Date Arrachage'] != pd.NaT)\n",
    "merged_df.loc[mask, 'Days to Arrachage'] = np.nan"
   ]
  },
  {
   "cell_type": "code",
   "execution_count": 270,
   "metadata": {},
   "outputs": [
    {
     "data": {
      "text/html": [
       "<div>\n",
       "<style scoped>\n",
       "    .dataframe tbody tr th:only-of-type {\n",
       "        vertical-align: middle;\n",
       "    }\n",
       "\n",
       "    .dataframe tbody tr th {\n",
       "        vertical-align: top;\n",
       "    }\n",
       "\n",
       "    .dataframe thead th {\n",
       "        text-align: right;\n",
       "    }\n",
       "</style>\n",
       "<table border=\"1\" class=\"dataframe\">\n",
       "  <thead>\n",
       "    <tr style=\"text-align: right;\">\n",
       "      <th></th>\n",
       "      <th>Sup Debut Camp</th>\n",
       "      <th>Sup Plantee</th>\n",
       "      <th>Sup Arrachee</th>\n",
       "      <th>Sup Fin Camp</th>\n",
       "    </tr>\n",
       "  </thead>\n",
       "  <tbody>\n",
       "    <tr>\n",
       "      <th>count</th>\n",
       "      <td>3578.000000</td>\n",
       "      <td>3578.000000</td>\n",
       "      <td>3578.000000</td>\n",
       "      <td>3578.000000</td>\n",
       "    </tr>\n",
       "    <tr>\n",
       "      <th>mean</th>\n",
       "      <td>2.159454</td>\n",
       "      <td>0.010619</td>\n",
       "      <td>0.132955</td>\n",
       "      <td>2.066072</td>\n",
       "    </tr>\n",
       "    <tr>\n",
       "      <th>std</th>\n",
       "      <td>2.327337</td>\n",
       "      <td>0.197279</td>\n",
       "      <td>0.597297</td>\n",
       "      <td>2.342514</td>\n",
       "    </tr>\n",
       "    <tr>\n",
       "      <th>min</th>\n",
       "      <td>0.400000</td>\n",
       "      <td>0.000000</td>\n",
       "      <td>0.000000</td>\n",
       "      <td>0.400000</td>\n",
       "    </tr>\n",
       "    <tr>\n",
       "      <th>25%</th>\n",
       "      <td>1.048425</td>\n",
       "      <td>0.000000</td>\n",
       "      <td>0.000000</td>\n",
       "      <td>1.000000</td>\n",
       "    </tr>\n",
       "    <tr>\n",
       "      <th>50%</th>\n",
       "      <td>1.335700</td>\n",
       "      <td>0.000000</td>\n",
       "      <td>0.000000</td>\n",
       "      <td>1.234000</td>\n",
       "    </tr>\n",
       "    <tr>\n",
       "      <th>75%</th>\n",
       "      <td>2.156800</td>\n",
       "      <td>0.000000</td>\n",
       "      <td>0.000000</td>\n",
       "      <td>2.007550</td>\n",
       "    </tr>\n",
       "    <tr>\n",
       "      <th>max</th>\n",
       "      <td>15.991000</td>\n",
       "      <td>5.008000</td>\n",
       "      <td>7.606000</td>\n",
       "      <td>15.991000</td>\n",
       "    </tr>\n",
       "  </tbody>\n",
       "</table>\n",
       "</div>"
      ],
      "text/plain": [
       "       Sup Debut Camp  Sup Plantee  Sup Arrachee  Sup Fin Camp\n",
       "count     3578.000000  3578.000000   3578.000000   3578.000000\n",
       "mean         2.159454     0.010619      0.132955      2.066072\n",
       "std          2.327337     0.197279      0.597297      2.342514\n",
       "min          0.400000     0.000000      0.000000      0.400000\n",
       "25%          1.048425     0.000000      0.000000      1.000000\n",
       "50%          1.335700     0.000000      0.000000      1.234000\n",
       "75%          2.156800     0.000000      0.000000      2.007550\n",
       "max         15.991000     5.008000      7.606000     15.991000"
      ]
     },
     "execution_count": 270,
     "metadata": {},
     "output_type": "execute_result"
    }
   ],
   "source": [
    "data = merged_df[[\"Sup Debut Camp\", \"Sup Plantee\",\n",
    "                 \"Sup Arrachee\", \"Sup Fin Camp\"]]\n",
    "data.describe()"
   ]
  },
  {
   "cell_type": "code",
   "execution_count": 271,
   "metadata": {},
   "outputs": [
    {
     "data": {
      "text/plain": [
       "781"
      ]
     },
     "execution_count": 271,
     "metadata": {},
     "output_type": "execute_result"
    }
   ],
   "source": [
    "len(merged_df[~merged_df[\"is_train\"]])"
   ]
  },
  {
   "cell_type": "code",
   "execution_count": 272,
   "metadata": {},
   "outputs": [],
   "source": [
    "import os\n",
    "\n",
    "folder_path2 = \"../processing_2\"\n",
    "\n",
    "# Ensure the folder exists\n",
    "if not os.path.exists(folder_path2):\n",
    "    os.makedirs(folder_path2)\n",
    "\n",
    "# Specify the full file path (folder path + file name)\n",
    "file_path = os.path.join(folder_path2, 'data_all.csv')\n",
    "\n",
    "# Save the DataFrame to a CSV file\n",
    "merged_df.to_csv(file_path, index=False)"
   ]
  }
 ],
 "metadata": {
  "kernelspec": {
   "display_name": "base",
   "language": "python",
   "name": "python3"
  },
  "language_info": {
   "codemirror_mode": {
    "name": "ipython",
    "version": 3
   },
   "file_extension": ".py",
   "mimetype": "text/x-python",
   "name": "python",
   "nbconvert_exporter": "python",
   "pygments_lexer": "ipython3",
   "version": "3.10.0"
  }
 },
 "nbformat": 4,
 "nbformat_minor": 2
}
