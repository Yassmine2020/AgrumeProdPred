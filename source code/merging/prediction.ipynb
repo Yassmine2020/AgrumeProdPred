{
 "cells": [
  {
   "cell_type": "code",
   "execution_count": 81,
   "metadata": {},
   "outputs": [],
   "source": [
    "import pandas as pd\n",
    "import numpy as np\n",
    "import matplotlib.pyplot as plt\n",
    "from sklearn.pipeline import make_pipeline\n",
    "from sklearn.impute import SimpleImputer\n",
    "from sklearn.preprocessing import OneHotEncoder\n",
    "from sklearn.compose import ColumnTransformer\n",
    "from sklearn.impute import KNNImputer\n",
    "from sklearn.ensemble import RandomForestRegressor  # or RandomForestClassifier\n",
    "from sklearn.metrics import mean_squared_error\n",
    "from sklearn.model_selection import train_test_split\n",
    "from sklearn.compose import ColumnTransformer, make_column_selector, make_column_transformer\n",
    "from sklearn.pipeline import Pipeline\n",
    "from sklearn.base import BaseEstimator, TransformerMixin\n",
    "from sklearn.pipeline import Pipeline\n",
    "from sklearn.impute import KNNImputer\n",
    "from sklearn.compose import ColumnTransformer"
   ]
  },
  {
   "cell_type": "code",
   "execution_count": 82,
   "metadata": {},
   "outputs": [],
   "source": [
    "# lOADING\n",
    "train_test = pd.read_csv(\"../processing_2/data_all.csv\", parse_dates=['Date'])"
   ]
  },
  {
   "cell_type": "code",
   "execution_count": 83,
   "metadata": {},
   "outputs": [
    {
     "data": {
      "text/html": [
       "<div>\n",
       "<style scoped>\n",
       "    .dataframe tbody tr th:only-of-type {\n",
       "        vertical-align: middle;\n",
       "    }\n",
       "\n",
       "    .dataframe tbody tr th {\n",
       "        vertical-align: top;\n",
       "    }\n",
       "\n",
       "    .dataframe thead th {\n",
       "        text-align: right;\n",
       "    }\n",
       "</style>\n",
       "<table border=\"1\" class=\"dataframe\">\n",
       "  <thead>\n",
       "    <tr style=\"text-align: right;\">\n",
       "      <th></th>\n",
       "      <th>Campagne</th>\n",
       "      <th>Region</th>\n",
       "      <th>Site</th>\n",
       "      <th>Famille</th>\n",
       "      <th>Variete</th>\n",
       "      <th>Num Parcelle</th>\n",
       "      <th>CodeTracabilite</th>\n",
       "      <th>Date</th>\n",
       "      <th>Tonnage</th>\n",
       "      <th>is_train</th>\n",
       "      <th>...</th>\n",
       "      <th>Id</th>\n",
       "      <th>Date Plantation</th>\n",
       "      <th>Date Arrachage</th>\n",
       "      <th>Porte Greffe</th>\n",
       "      <th>Sup Debut Camp</th>\n",
       "      <th>Sup Plantee</th>\n",
       "      <th>Sup Arrachee</th>\n",
       "      <th>Sup Fin Camp</th>\n",
       "      <th>Tree Age</th>\n",
       "      <th>Days to Arrachage</th>\n",
       "    </tr>\n",
       "  </thead>\n",
       "  <tbody>\n",
       "    <tr>\n",
       "      <th>0</th>\n",
       "      <td>20/21</td>\n",
       "      <td>GHARB</td>\n",
       "      <td>Chorf Laghouazi</td>\n",
       "      <td>CLA</td>\n",
       "      <td>CLA1</td>\n",
       "      <td>13030</td>\n",
       "      <td>TR11130</td>\n",
       "      <td>2020-10-01</td>\n",
       "      <td>269,855</td>\n",
       "      <td>True</td>\n",
       "      <td>...</td>\n",
       "      <td>1</td>\n",
       "      <td>2015-01-09</td>\n",
       "      <td>2060-09-30</td>\n",
       "      <td>PG6</td>\n",
       "      <td>1.7499</td>\n",
       "      <td>0.0</td>\n",
       "      <td>0.0</td>\n",
       "      <td>1.7499</td>\n",
       "      <td>2092.0</td>\n",
       "      <td>14609.0</td>\n",
       "    </tr>\n",
       "    <tr>\n",
       "      <th>1</th>\n",
       "      <td>20/21</td>\n",
       "      <td>GHARB</td>\n",
       "      <td>Chorf Laghouazi</td>\n",
       "      <td>CLA</td>\n",
       "      <td>CLA6</td>\n",
       "      <td>18030</td>\n",
       "      <td>TR11140</td>\n",
       "      <td>2020-10-01</td>\n",
       "      <td>101605,9951</td>\n",
       "      <td>True</td>\n",
       "      <td>...</td>\n",
       "      <td>2</td>\n",
       "      <td>2017-05-20</td>\n",
       "      <td>NaN</td>\n",
       "      <td>PG6</td>\n",
       "      <td>1.0930</td>\n",
       "      <td>0.0</td>\n",
       "      <td>0.0</td>\n",
       "      <td>1.0930</td>\n",
       "      <td>1230.0</td>\n",
       "      <td>NaN</td>\n",
       "    </tr>\n",
       "    <tr>\n",
       "      <th>2</th>\n",
       "      <td>20/21</td>\n",
       "      <td>GHARB</td>\n",
       "      <td>Chorf Laghouazi</td>\n",
       "      <td>CLA</td>\n",
       "      <td>CLA12</td>\n",
       "      <td>13010</td>\n",
       "      <td>TR11120</td>\n",
       "      <td>2020-10-01</td>\n",
       "      <td>170,354</td>\n",
       "      <td>True</td>\n",
       "      <td>...</td>\n",
       "      <td>3</td>\n",
       "      <td>2015-01-08</td>\n",
       "      <td>2021-01-11</td>\n",
       "      <td>PG6</td>\n",
       "      <td>2.3674</td>\n",
       "      <td>0.0</td>\n",
       "      <td>0.0</td>\n",
       "      <td>2.3674</td>\n",
       "      <td>2093.0</td>\n",
       "      <td>102.0</td>\n",
       "    </tr>\n",
       "    <tr>\n",
       "      <th>3</th>\n",
       "      <td>20/21</td>\n",
       "      <td>GHARB</td>\n",
       "      <td>Chorf Laghouazi</td>\n",
       "      <td>CLA</td>\n",
       "      <td>CLA14</td>\n",
       "      <td>12010</td>\n",
       "      <td>TR11090</td>\n",
       "      <td>2020-10-01</td>\n",
       "      <td>37891,08567</td>\n",
       "      <td>True</td>\n",
       "      <td>...</td>\n",
       "      <td>4</td>\n",
       "      <td>2009-07-30</td>\n",
       "      <td>NaN</td>\n",
       "      <td>PG6</td>\n",
       "      <td>3.5341</td>\n",
       "      <td>0.0</td>\n",
       "      <td>0.0</td>\n",
       "      <td>3.5341</td>\n",
       "      <td>4081.0</td>\n",
       "      <td>NaN</td>\n",
       "    </tr>\n",
       "    <tr>\n",
       "      <th>4</th>\n",
       "      <td>20/21</td>\n",
       "      <td>GHARB</td>\n",
       "      <td>Chorf Laghouazi</td>\n",
       "      <td>CLA</td>\n",
       "      <td>CLA14</td>\n",
       "      <td>12020</td>\n",
       "      <td>TR11100</td>\n",
       "      <td>2020-10-01</td>\n",
       "      <td>45197,56034</td>\n",
       "      <td>True</td>\n",
       "      <td>...</td>\n",
       "      <td>5</td>\n",
       "      <td>2009-07-30</td>\n",
       "      <td>NaN</td>\n",
       "      <td>PG7</td>\n",
       "      <td>1.6688</td>\n",
       "      <td>0.0</td>\n",
       "      <td>0.0</td>\n",
       "      <td>1.6688</td>\n",
       "      <td>4081.0</td>\n",
       "      <td>NaN</td>\n",
       "    </tr>\n",
       "    <tr>\n",
       "      <th>...</th>\n",
       "      <td>...</td>\n",
       "      <td>...</td>\n",
       "      <td>...</td>\n",
       "      <td>...</td>\n",
       "      <td>...</td>\n",
       "      <td>...</td>\n",
       "      <td>...</td>\n",
       "      <td>...</td>\n",
       "      <td>...</td>\n",
       "      <td>...</td>\n",
       "      <td>...</td>\n",
       "      <td>...</td>\n",
       "      <td>...</td>\n",
       "      <td>...</td>\n",
       "      <td>...</td>\n",
       "      <td>...</td>\n",
       "      <td>...</td>\n",
       "      <td>...</td>\n",
       "      <td>...</td>\n",
       "      <td>...</td>\n",
       "      <td>...</td>\n",
       "    </tr>\n",
       "    <tr>\n",
       "      <th>3938</th>\n",
       "      <td>22/23</td>\n",
       "      <td>SOUSS</td>\n",
       "      <td>Ouled Abbou</td>\n",
       "      <td>SPA</td>\n",
       "      <td>SPA4</td>\n",
       "      <td>21071</td>\n",
       "      <td>TR21071</td>\n",
       "      <td>2023-09-01</td>\n",
       "      <td>NaN</td>\n",
       "      <td>False</td>\n",
       "      <td>...</td>\n",
       "      <td>3896</td>\n",
       "      <td>2018-04-25</td>\n",
       "      <td>NaN</td>\n",
       "      <td>PG7</td>\n",
       "      <td>1.6000</td>\n",
       "      <td>0.0</td>\n",
       "      <td>0.0</td>\n",
       "      <td>1.6000</td>\n",
       "      <td>1955.0</td>\n",
       "      <td>NaN</td>\n",
       "    </tr>\n",
       "    <tr>\n",
       "      <th>3939</th>\n",
       "      <td>22/23</td>\n",
       "      <td>SOUSS</td>\n",
       "      <td>Ouled Abbou</td>\n",
       "      <td>SPA</td>\n",
       "      <td>SPA5</td>\n",
       "      <td>21021</td>\n",
       "      <td>TR21021</td>\n",
       "      <td>2023-09-01</td>\n",
       "      <td>NaN</td>\n",
       "      <td>False</td>\n",
       "      <td>...</td>\n",
       "      <td>3897</td>\n",
       "      <td>2017-07-23</td>\n",
       "      <td>2050-07-23</td>\n",
       "      <td>PG7</td>\n",
       "      <td>1.1572</td>\n",
       "      <td>0.0</td>\n",
       "      <td>0.0</td>\n",
       "      <td>1.1572</td>\n",
       "      <td>2231.0</td>\n",
       "      <td>9822.0</td>\n",
       "    </tr>\n",
       "    <tr>\n",
       "      <th>3940</th>\n",
       "      <td>22/23</td>\n",
       "      <td>SOUSS</td>\n",
       "      <td>Ouled Abbou</td>\n",
       "      <td>SPA</td>\n",
       "      <td>SPA6</td>\n",
       "      <td>21121</td>\n",
       "      <td>TR21121</td>\n",
       "      <td>2023-09-01</td>\n",
       "      <td>NaN</td>\n",
       "      <td>False</td>\n",
       "      <td>...</td>\n",
       "      <td>3898</td>\n",
       "      <td>2019-03-16</td>\n",
       "      <td>NaN</td>\n",
       "      <td>PG7</td>\n",
       "      <td>0.6973</td>\n",
       "      <td>0.0</td>\n",
       "      <td>0.0</td>\n",
       "      <td>0.6973</td>\n",
       "      <td>1630.0</td>\n",
       "      <td>NaN</td>\n",
       "    </tr>\n",
       "    <tr>\n",
       "      <th>3941</th>\n",
       "      <td>22/23</td>\n",
       "      <td>SOUSS</td>\n",
       "      <td>Ouled Abbou</td>\n",
       "      <td>SPA</td>\n",
       "      <td>SPA7</td>\n",
       "      <td>21081</td>\n",
       "      <td>TR21081</td>\n",
       "      <td>2023-09-01</td>\n",
       "      <td>NaN</td>\n",
       "      <td>False</td>\n",
       "      <td>...</td>\n",
       "      <td>3899</td>\n",
       "      <td>2018-04-16</td>\n",
       "      <td>NaN</td>\n",
       "      <td>PG7</td>\n",
       "      <td>3.4000</td>\n",
       "      <td>0.0</td>\n",
       "      <td>0.0</td>\n",
       "      <td>3.4000</td>\n",
       "      <td>1964.0</td>\n",
       "      <td>NaN</td>\n",
       "    </tr>\n",
       "    <tr>\n",
       "      <th>3942</th>\n",
       "      <td>22/23</td>\n",
       "      <td>SOUSS</td>\n",
       "      <td>Ouled Abbou</td>\n",
       "      <td>SPA</td>\n",
       "      <td>SPA11</td>\n",
       "      <td>21011</td>\n",
       "      <td>TR21011</td>\n",
       "      <td>2023-09-01</td>\n",
       "      <td>NaN</td>\n",
       "      <td>False</td>\n",
       "      <td>...</td>\n",
       "      <td>3900</td>\n",
       "      <td>2017-07-20</td>\n",
       "      <td>2050-01-05</td>\n",
       "      <td>PG5</td>\n",
       "      <td>1.8670</td>\n",
       "      <td>0.0</td>\n",
       "      <td>0.0</td>\n",
       "      <td>1.8670</td>\n",
       "      <td>2234.0</td>\n",
       "      <td>9623.0</td>\n",
       "    </tr>\n",
       "  </tbody>\n",
       "</table>\n",
       "<p>3943 rows × 69 columns</p>\n",
       "</div>"
      ],
      "text/plain": [
       "     Campagne Region             Site Famille Variete Num Parcelle  \\\n",
       "0       20/21  GHARB  Chorf Laghouazi     CLA    CLA1        13030   \n",
       "1       20/21  GHARB  Chorf Laghouazi     CLA    CLA6        18030   \n",
       "2       20/21  GHARB  Chorf Laghouazi     CLA   CLA12        13010   \n",
       "3       20/21  GHARB  Chorf Laghouazi     CLA   CLA14        12010   \n",
       "4       20/21  GHARB  Chorf Laghouazi     CLA   CLA14        12020   \n",
       "...       ...    ...              ...     ...     ...          ...   \n",
       "3938    22/23  SOUSS      Ouled Abbou     SPA    SPA4        21071   \n",
       "3939    22/23  SOUSS      Ouled Abbou     SPA    SPA5        21021   \n",
       "3940    22/23  SOUSS      Ouled Abbou     SPA    SPA6        21121   \n",
       "3941    22/23  SOUSS      Ouled Abbou     SPA    SPA7        21081   \n",
       "3942    22/23  SOUSS      Ouled Abbou     SPA   SPA11        21011   \n",
       "\n",
       "     CodeTracabilite       Date      Tonnage  is_train  ...    Id  \\\n",
       "0            TR11130 2020-10-01      269,855      True  ...     1   \n",
       "1            TR11140 2020-10-01  101605,9951      True  ...     2   \n",
       "2            TR11120 2020-10-01      170,354      True  ...     3   \n",
       "3            TR11090 2020-10-01  37891,08567      True  ...     4   \n",
       "4            TR11100 2020-10-01  45197,56034      True  ...     5   \n",
       "...              ...        ...          ...       ...  ...   ...   \n",
       "3938         TR21071 2023-09-01          NaN     False  ...  3896   \n",
       "3939         TR21021 2023-09-01          NaN     False  ...  3897   \n",
       "3940         TR21121 2023-09-01          NaN     False  ...  3898   \n",
       "3941         TR21081 2023-09-01          NaN     False  ...  3899   \n",
       "3942         TR21011 2023-09-01          NaN     False  ...  3900   \n",
       "\n",
       "      Date Plantation  Date Arrachage  Porte Greffe  Sup Debut Camp  \\\n",
       "0          2015-01-09      2060-09-30           PG6          1.7499   \n",
       "1          2017-05-20             NaN           PG6          1.0930   \n",
       "2          2015-01-08      2021-01-11           PG6          2.3674   \n",
       "3          2009-07-30             NaN           PG6          3.5341   \n",
       "4          2009-07-30             NaN           PG7          1.6688   \n",
       "...               ...             ...           ...             ...   \n",
       "3938       2018-04-25             NaN           PG7          1.6000   \n",
       "3939       2017-07-23      2050-07-23           PG7          1.1572   \n",
       "3940       2019-03-16             NaN           PG7          0.6973   \n",
       "3941       2018-04-16             NaN           PG7          3.4000   \n",
       "3942       2017-07-20      2050-01-05           PG5          1.8670   \n",
       "\n",
       "      Sup Plantee  Sup Arrachee  Sup Fin Camp  Tree Age  Days to Arrachage  \n",
       "0             0.0           0.0        1.7499    2092.0            14609.0  \n",
       "1             0.0           0.0        1.0930    1230.0                NaN  \n",
       "2             0.0           0.0        2.3674    2093.0              102.0  \n",
       "3             0.0           0.0        3.5341    4081.0                NaN  \n",
       "4             0.0           0.0        1.6688    4081.0                NaN  \n",
       "...           ...           ...           ...       ...                ...  \n",
       "3938          0.0           0.0        1.6000    1955.0                NaN  \n",
       "3939          0.0           0.0        1.1572    2231.0             9822.0  \n",
       "3940          0.0           0.0        0.6973    1630.0                NaN  \n",
       "3941          0.0           0.0        3.4000    1964.0                NaN  \n",
       "3942          0.0           0.0        1.8670    2234.0             9623.0  \n",
       "\n",
       "[3943 rows x 69 columns]"
      ]
     },
     "execution_count": 83,
     "metadata": {},
     "output_type": "execute_result"
    }
   ],
   "source": [
    "train_test"
   ]
  },
  {
   "cell_type": "code",
   "execution_count": 84,
   "metadata": {},
   "outputs": [
    {
     "data": {
      "text/plain": [
       "3943"
      ]
     },
     "execution_count": 84,
     "metadata": {},
     "output_type": "execute_result"
    }
   ],
   "source": [
    "len(train_test)"
   ]
  },
  {
   "cell_type": "code",
   "execution_count": 85,
   "metadata": {},
   "outputs": [],
   "source": [
    "# Tonnage to float\n",
    "train_test['Tonnage'] = train_test['Tonnage'].str.replace(',', '.').astype(float)\n",
    "\n",
    "# Split the date\n",
    "train_test['Year'] = train_test['Date'].dt.year\n",
    "train_test['Month'] = train_test['Date'].dt.month\n",
    "train_test['Day'] = train_test['Date'].dt.day\n",
    "\n",
    "\n",
    "duplicates = train_test.duplicated(['CodeTracabilite', 'Num Parcelle', 'Campagne', 'Region', 'Site', 'Famille', 'Variete', 'Recolte'], keep=False)\n",
    "\n",
    "# Then, apply the condition\n",
    "condition = (train_test['Sup Debut Camp'] + train_test['Sup Plantee'] != train_test['Sup Arrachee'] + train_test['Sup Fin Camp'])\n",
    "\n",
    "# Combine both conditions\n",
    "to_drop = duplicates & condition\n",
    "\n",
    "# Drop the rows that satisfy both conditions\n",
    "train_test = train_test[~to_drop]"
   ]
  },
  {
   "cell_type": "code",
   "execution_count": 86,
   "metadata": {},
   "outputs": [
    {
     "name": "stderr",
     "output_type": "stream",
     "text": [
      "C:\\Users\\DataScience\\AppData\\Local\\Temp\\ipykernel_77364\\1869749954.py:2: SettingWithCopyWarning: \n",
      "A value is trying to be set on a copy of a slice from a DataFrame.\n",
      "Try using .loc[row_indexer,col_indexer] = value instead\n",
      "\n",
      "See the caveats in the documentation: https://pandas.pydata.org/pandas-docs/stable/user_guide/indexing.html#returning-a-view-versus-a-copy\n",
      "  train_test[f'irrigation_cumulee_{month_index + 1}'] = train_test[f'irrigation_cumulee_{month_index + 1}'].replace(0, np.nan)\n"
     ]
    }
   ],
   "source": [
    "for month_index in range(12):\n",
    "    train_test[f'irrigation_cumulee_{month_index + 1}'] = train_test[f'irrigation_cumulee_{month_index + 1}'].replace(0, np.nan)\n",
    "    # train_test[f'N_cumulee_{month_index + 1}'] = train_test[f'N_cumulee_{month_index + 1}'].replace(0, np.nan)\n",
    "    # train_test[f'P_cumulee_{month_index + 1}'] = train_test[f'P_cumulee_{month_index + 1}'].replace(0, np.nan)\n",
    "    # train_test[f'K_cumulee_{month_index + 1}'] = train_test[f'K_cumulee_{month_index + 1}'].replace(0, np.nan)"
   ]
  },
  {
   "cell_type": "code",
   "execution_count": 87,
   "metadata": {},
   "outputs": [],
   "source": [
    "# train_test[train_test['N_cumulee_1'].isna()]"
   ]
  },
  {
   "cell_type": "code",
   "execution_count": 88,
   "metadata": {},
   "outputs": [],
   "source": [
    "# for month_index in range(12):\n",
    "#     # print(f'Len irrigation {month_index + 1}:', len(train_test[train_test[f'irrigation_cumulee_{month_index + 1}'] == 0]))\n",
    "#     print(f'Len irrigation {month_index + 1}:', len(train_test[train_test[f'irrigation_cumulee_{month_index + 1}'].isna()]))"
   ]
  },
  {
   "cell_type": "code",
   "execution_count": 89,
   "metadata": {},
   "outputs": [
    {
     "name": "stderr",
     "output_type": "stream",
     "text": [
      "C:\\Users\\DataScience\\AppData\\Local\\Temp\\ipykernel_77364\\3993060754.py:8: SettingWithCopyWarning: \n",
      "A value is trying to be set on a copy of a slice from a DataFrame.\n",
      "Try using .loc[row_indexer,col_indexer] = value instead\n",
      "\n",
      "See the caveats in the documentation: https://pandas.pydata.org/pandas-docs/stable/user_guide/indexing.html#returning-a-view-versus-a-copy\n",
      "  train_test[col] = train_test[col].fillna(row_medians)\n"
     ]
    }
   ],
   "source": [
    "irrigation_columns = [f'irrigation_cumulee_{i}' for i in range(1, 13)]\n",
    "\n",
    "# Calculate the median for these columns in each row\n",
    "row_medians = train_test[irrigation_columns].mean(axis=1)\n",
    "\n",
    "# Replace NaN values in each column with the row median\n",
    "for col in irrigation_columns:\n",
    "    train_test[col] = train_test[col].fillna(row_medians)"
   ]
  },
  {
   "cell_type": "code",
   "execution_count": 90,
   "metadata": {},
   "outputs": [],
   "source": [
    "# for index in range(12):\n",
    "#     print('na irrigation', index + 1, len(train_test[train_test[f'irrigation_cumulee_{index + 1}'].isna()]))\n",
    "#     print('na N_cummulee', index + 1, len(train_test[train_test[f'N_cumulee_{index + 1}'].isna()]))\n",
    "#     print('na N_cumulee ', index + 1, len(train_test[train_test[f'P_cumulee_{index + 1}'].isna()]))\n",
    "#     print('na K_cumulee', index + 1, len(train_test[train_test[f'K_cumulee_{index + 1}'].isna()]))\n",
    "#     print(\"➖➖➖➖➖➖➖➖\")"
   ]
  },
  {
   "cell_type": "code",
   "execution_count": 91,
   "metadata": {},
   "outputs": [],
   "source": [
    "# cat_cols = ['Variete', 'Year', 'Region', 'Site', 'Porte Greffe', 'Month']\n",
    "cat_cols = ['Variete', 'Porte Greffe']\n",
    "\n",
    "num_cols = ['Sup Debut Camp', 'Tree Age', 'Days to Arrachage', 'Recolte']\n",
    "\n",
    "for index in range(12):\n",
    "    num_cols.append(f'irrigation_cumulee_{index + 1}')\n",
    "    num_cols.append(f'N_cumulee_{index + 1}')\n",
    "    num_cols.append(f'P_cumulee_{index + 1}')\n",
    "    num_cols.append(f'K_cumulee_{index + 1}')\n",
    "\n",
    "target_col = ['Tonnage']\n",
    "\n",
    "all_feature_cols = num_cols + cat_cols"
   ]
  },
  {
   "cell_type": "code",
   "execution_count": 92,
   "metadata": {},
   "outputs": [
    {
     "name": "stdout",
     "output_type": "stream",
     "text": [
      "\n",
      "      ▶️ Len nan sup debut camp      : 365\n",
      "      ▶️ Len nan Sup Plantee         : 365\n",
      "      ▶️ Len nan Sup Arrachee        : 365\n",
      "      ▶️ Len nan Sup Fin Camp        : 365\n",
      "      ▶️ Len nan Days to Arrachage   : 2595\n",
      "      ▶️ Len nan Tree Age            : 467\n",
      "\n"
     ]
    }
   ],
   "source": [
    "print(f'''\n",
    "      ▶️ Len nan sup debut camp      : {len(train_test[train_test['Sup Debut Camp'].isna()])}\n",
    "      ▶️ Len nan Sup Plantee         : {len(train_test[train_test['Sup Plantee'].isna()])}\n",
    "      ▶️ Len nan Sup Arrachee        : {len(train_test[train_test['Sup Arrachee'].isna()])}\n",
    "      ▶️ Len nan Sup Fin Camp        : {len(train_test[train_test['Sup Fin Camp'].isna()])}\n",
    "      ▶️ Len nan Days to Arrachage   : {len(train_test[train_test['Days to Arrachage'].isna()])}\n",
    "      ▶️ Len nan Tree Age            : {len(train_test[train_test['Tree Age'].isna()])}\n",
    "''')"
   ]
  },
  {
   "cell_type": "markdown",
   "metadata": {},
   "source": [
    "for day to arachage, i'll apply the median \n",
    "for others i need to see the distribution of these nan values, then decide"
   ]
  },
  {
   "cell_type": "markdown",
   "metadata": {},
   "source": [
    "\n",
    "Pour sup debut camp:365\n",
    "- these are the regions of nan values: ['HAOUZ', 'SOUSS', 'TADLA', 'ORIENTAL']\n",
    "    - HAOUZ: 300\n",
    "        - these NaN are in these 3 Site: ['Marrakech', 'Ait Ourir', 'Ouled Moussa']\n",
    "            - Marrakech: 62\n",
    "            - Ait Ourir: 1\n",
    "            - Ouled Moussa: 237  (whereas 225 others are not NaN)\n",
    "    - SOUSS: 17\n",
    "    - Tadla: 47\n",
    "    - ORENTAL: 1\n",
    "\n",
    "    ▶️ I'll use KNN "
   ]
  },
  {
   "cell_type": "markdown",
   "metadata": {},
   "source": [
    "conclusion: les nan values de Sup Fin Camp, Sup Arrachee, Sup Plantee, Sup debut comp se coincide\n",
    "\n",
    "    ▶️ I'll use for all of them KNN"
   ]
  },
  {
   "cell_type": "markdown",
   "metadata": {},
   "source": [
    "- Tadla: 47 sameas sup debut camp\n",
    "- Oriental: 1  sameas sup debut camp\n",
    "- Gharb: 1\n",
    "- SOUSS: 29   Not too uch compared with the none nan vals\n",
    "- HAOUZ: 390\n",
    "    - Ouled Moussa: 237 (same thing)\n",
    "    - Lalla Takerkoust: 4\n",
    "    - Douar Ahl quadi: 41\n",
    "    - Marrakech: 107\n",
    "    - Ait Ourir: 1\n",
    "\n",
    "▶️ KNN"
   ]
  },
  {
   "cell_type": "markdown",
   "metadata": {},
   "source": [
    "## Pipeline"
   ]
  },
  {
   "cell_type": "markdown",
   "metadata": {},
   "source": [
    "Preprocessing"
   ]
  },
  {
   "cell_type": "code",
   "execution_count": 93,
   "metadata": {},
   "outputs": [],
   "source": [
    "cols_to_impute_knn = ['Sup Debut Camp']\n",
    "cols_to_impute_median = ['Days to Arrachage', 'Tree Age']\n",
    "\n",
    "for index in range(12):\n",
    "    cols_to_impute_median += [f'irrigation_cumulee_{index + 1}']"
   ]
  },
  {
   "cell_type": "code",
   "execution_count": 94,
   "metadata": {},
   "outputs": [
    {
     "data": {
      "text/plain": [
       "3298"
      ]
     },
     "execution_count": 94,
     "metadata": {},
     "output_type": "execute_result"
    }
   ],
   "source": [
    "len(train_test[train_test['Sup Arrachee'] == 0])"
   ]
  },
  {
   "cell_type": "code",
   "execution_count": 95,
   "metadata": {},
   "outputs": [],
   "source": [
    "# Define the transformer\n",
    "cat_transformer = OneHotEncoder(sparse=False, handle_unknown='ignore')\n",
    "\n",
    "median_imputer = SimpleImputer(strategy='median')\n",
    "\n",
    "# KNNImputer for numerical features\n",
    "knn_imputer = KNNImputer(n_neighbors=5)\n",
    "\n",
    "# Combine preprocessing steps\n",
    "preprocessor = ColumnTransformer(\n",
    "    transformers=[\n",
    "        ('cat', cat_transformer, cat_cols),\n",
    "        ('impute_median', median_imputer, cols_to_impute_median),\n",
    "        ('impute_knn', knn_imputer, cols_to_impute_knn)\n",
    "    ],\n",
    "    remainder='passthrough'\n",
    ")\n",
    "\n",
    "\n",
    "train = train_test[train_test['is_train']]\n",
    "test = train_test[~train_test['is_train']]\n",
    "\n",
    "X = train[all_feature_cols]\n",
    "y = train[target_col]\n",
    "\n",
    "X_train, X_val, y_train, y_val = train_test_split(X, y, test_size=0.2, random_state=42)\n",
    "\n",
    "X_test = test[all_feature_cols]"
   ]
  },
  {
   "cell_type": "code",
   "execution_count": 96,
   "metadata": {},
   "outputs": [
    {
     "data": {
      "text/plain": [
       "Campagne                0\n",
       "Region                  0\n",
       "Site                    0\n",
       "Famille                 0\n",
       "Variete                 0\n",
       "                     ... \n",
       "Tree Age              467\n",
       "Days to Arrachage    2595\n",
       "Year                    0\n",
       "Month                   0\n",
       "Day                     0\n",
       "Length: 72, dtype: int64"
      ]
     },
     "execution_count": 96,
     "metadata": {},
     "output_type": "execute_result"
    }
   ],
   "source": [
    "train_test.isna().sum()"
   ]
  },
  {
   "cell_type": "code",
   "execution_count": 97,
   "metadata": {},
   "outputs": [
    {
     "name": "stderr",
     "output_type": "stream",
     "text": [
      "c:\\Users\\DataScience\\AppData\\Local\\Programs\\Python\\Python310\\lib\\site-packages\\sklearn\\preprocessing\\_encoders.py:975: FutureWarning: `sparse` was renamed to `sparse_output` in version 1.2 and will be removed in 1.4. `sparse_output` is ignored unless you leave `sparse` to its default value.\n",
      "  warnings.warn(\n",
      "c:\\Users\\DataScience\\AppData\\Local\\Programs\\Python\\Python310\\lib\\site-packages\\sklearn\\utils\\validation.py:1183: DataConversionWarning: A column-vector y was passed when a 1d array was expected. Please change the shape of y to (n_samples, ), for example using ravel().\n",
      "  y = column_or_1d(y, warn=True)\n"
     ]
    },
    {
     "name": "stdout",
     "output_type": "stream",
     "text": [
      "[LightGBM] [Info] Auto-choosing col-wise multi-threading, the overhead of testing was 0.004954 seconds.\n",
      "You can set `force_col_wise=true` to remove the overhead.\n",
      "[LightGBM] [Info] Total Bins 12673\n",
      "[LightGBM] [Info] Number of data points in the train set: 2497, number of used features: 78\n",
      "[LightGBM] [Info] Start training from score 20319.493783\n"
     ]
    },
    {
     "data": {
      "text/html": [
       "<style>#sk-container-id-2 {color: black;}#sk-container-id-2 pre{padding: 0;}#sk-container-id-2 div.sk-toggleable {background-color: white;}#sk-container-id-2 label.sk-toggleable__label {cursor: pointer;display: block;width: 100%;margin-bottom: 0;padding: 0.3em;box-sizing: border-box;text-align: center;}#sk-container-id-2 label.sk-toggleable__label-arrow:before {content: \"▸\";float: left;margin-right: 0.25em;color: #696969;}#sk-container-id-2 label.sk-toggleable__label-arrow:hover:before {color: black;}#sk-container-id-2 div.sk-estimator:hover label.sk-toggleable__label-arrow:before {color: black;}#sk-container-id-2 div.sk-toggleable__content {max-height: 0;max-width: 0;overflow: hidden;text-align: left;background-color: #f0f8ff;}#sk-container-id-2 div.sk-toggleable__content pre {margin: 0.2em;color: black;border-radius: 0.25em;background-color: #f0f8ff;}#sk-container-id-2 input.sk-toggleable__control:checked~div.sk-toggleable__content {max-height: 200px;max-width: 100%;overflow: auto;}#sk-container-id-2 input.sk-toggleable__control:checked~label.sk-toggleable__label-arrow:before {content: \"▾\";}#sk-container-id-2 div.sk-estimator input.sk-toggleable__control:checked~label.sk-toggleable__label {background-color: #d4ebff;}#sk-container-id-2 div.sk-label input.sk-toggleable__control:checked~label.sk-toggleable__label {background-color: #d4ebff;}#sk-container-id-2 input.sk-hidden--visually {border: 0;clip: rect(1px 1px 1px 1px);clip: rect(1px, 1px, 1px, 1px);height: 1px;margin: -1px;overflow: hidden;padding: 0;position: absolute;width: 1px;}#sk-container-id-2 div.sk-estimator {font-family: monospace;background-color: #f0f8ff;border: 1px dotted black;border-radius: 0.25em;box-sizing: border-box;margin-bottom: 0.5em;}#sk-container-id-2 div.sk-estimator:hover {background-color: #d4ebff;}#sk-container-id-2 div.sk-parallel-item::after {content: \"\";width: 100%;border-bottom: 1px solid gray;flex-grow: 1;}#sk-container-id-2 div.sk-label:hover label.sk-toggleable__label {background-color: #d4ebff;}#sk-container-id-2 div.sk-serial::before {content: \"\";position: absolute;border-left: 1px solid gray;box-sizing: border-box;top: 0;bottom: 0;left: 50%;z-index: 0;}#sk-container-id-2 div.sk-serial {display: flex;flex-direction: column;align-items: center;background-color: white;padding-right: 0.2em;padding-left: 0.2em;position: relative;}#sk-container-id-2 div.sk-item {position: relative;z-index: 1;}#sk-container-id-2 div.sk-parallel {display: flex;align-items: stretch;justify-content: center;background-color: white;position: relative;}#sk-container-id-2 div.sk-item::before, #sk-container-id-2 div.sk-parallel-item::before {content: \"\";position: absolute;border-left: 1px solid gray;box-sizing: border-box;top: 0;bottom: 0;left: 50%;z-index: -1;}#sk-container-id-2 div.sk-parallel-item {display: flex;flex-direction: column;z-index: 1;position: relative;background-color: white;}#sk-container-id-2 div.sk-parallel-item:first-child::after {align-self: flex-end;width: 50%;}#sk-container-id-2 div.sk-parallel-item:last-child::after {align-self: flex-start;width: 50%;}#sk-container-id-2 div.sk-parallel-item:only-child::after {width: 0;}#sk-container-id-2 div.sk-dashed-wrapped {border: 1px dashed gray;margin: 0 0.4em 0.5em 0.4em;box-sizing: border-box;padding-bottom: 0.4em;background-color: white;}#sk-container-id-2 div.sk-label label {font-family: monospace;font-weight: bold;display: inline-block;line-height: 1.2em;}#sk-container-id-2 div.sk-label-container {text-align: center;}#sk-container-id-2 div.sk-container {/* jupyter's `normalize.less` sets `[hidden] { display: none; }` but bootstrap.min.css set `[hidden] { display: none !important; }` so we also need the `!important` here to be able to override the default hidden behavior on the sphinx rendered scikit-learn.org. See: https://github.com/scikit-learn/scikit-learn/issues/21755 */display: inline-block !important;position: relative;}#sk-container-id-2 div.sk-text-repr-fallback {display: none;}</style><div id=\"sk-container-id-2\" class=\"sk-top-container\"><div class=\"sk-text-repr-fallback\"><pre>Pipeline(steps=[(&#x27;columntransformer&#x27;,\n",
       "                 ColumnTransformer(remainder=&#x27;passthrough&#x27;,\n",
       "                                   transformers=[(&#x27;cat&#x27;,\n",
       "                                                  OneHotEncoder(handle_unknown=&#x27;ignore&#x27;,\n",
       "                                                                sparse=False),\n",
       "                                                  [&#x27;Variete&#x27;, &#x27;Porte Greffe&#x27;]),\n",
       "                                                 (&#x27;impute_median&#x27;,\n",
       "                                                  SimpleImputer(strategy=&#x27;median&#x27;),\n",
       "                                                  [&#x27;Days to Arrachage&#x27;,\n",
       "                                                   &#x27;Tree Age&#x27;,\n",
       "                                                   &#x27;irrigation_cumulee_1&#x27;,\n",
       "                                                   &#x27;irrigation_cumulee_2&#x27;,\n",
       "                                                   &#x27;irrigation_cumulee_3&#x27;,\n",
       "                                                   &#x27;irrigation_cumulee_4&#x27;,\n",
       "                                                   &#x27;irrigation_cumulee_5&#x27;,\n",
       "                                                   &#x27;irrigation_cumulee_6&#x27;,\n",
       "                                                   &#x27;irrigation_cumulee_7&#x27;,\n",
       "                                                   &#x27;irrigation_cumulee_8&#x27;,\n",
       "                                                   &#x27;irrigation_cumulee_9&#x27;,\n",
       "                                                   &#x27;irrigation_cumulee_10&#x27;,\n",
       "                                                   &#x27;irrigation_cumulee_11&#x27;,\n",
       "                                                   &#x27;irrigation_cumulee_12&#x27;]),\n",
       "                                                 (&#x27;impute_knn&#x27;, KNNImputer(),\n",
       "                                                  [&#x27;Sup Debut Camp&#x27;])])),\n",
       "                (&#x27;lgbmregressor&#x27;, LGBMRegressor())])</pre><b>In a Jupyter environment, please rerun this cell to show the HTML representation or trust the notebook. <br />On GitHub, the HTML representation is unable to render, please try loading this page with nbviewer.org.</b></div><div class=\"sk-container\" hidden><div class=\"sk-item sk-dashed-wrapped\"><div class=\"sk-label-container\"><div class=\"sk-label sk-toggleable\"><input class=\"sk-toggleable__control sk-hidden--visually\" id=\"sk-estimator-id-12\" type=\"checkbox\" ><label for=\"sk-estimator-id-12\" class=\"sk-toggleable__label sk-toggleable__label-arrow\">Pipeline</label><div class=\"sk-toggleable__content\"><pre>Pipeline(steps=[(&#x27;columntransformer&#x27;,\n",
       "                 ColumnTransformer(remainder=&#x27;passthrough&#x27;,\n",
       "                                   transformers=[(&#x27;cat&#x27;,\n",
       "                                                  OneHotEncoder(handle_unknown=&#x27;ignore&#x27;,\n",
       "                                                                sparse=False),\n",
       "                                                  [&#x27;Variete&#x27;, &#x27;Porte Greffe&#x27;]),\n",
       "                                                 (&#x27;impute_median&#x27;,\n",
       "                                                  SimpleImputer(strategy=&#x27;median&#x27;),\n",
       "                                                  [&#x27;Days to Arrachage&#x27;,\n",
       "                                                   &#x27;Tree Age&#x27;,\n",
       "                                                   &#x27;irrigation_cumulee_1&#x27;,\n",
       "                                                   &#x27;irrigation_cumulee_2&#x27;,\n",
       "                                                   &#x27;irrigation_cumulee_3&#x27;,\n",
       "                                                   &#x27;irrigation_cumulee_4&#x27;,\n",
       "                                                   &#x27;irrigation_cumulee_5&#x27;,\n",
       "                                                   &#x27;irrigation_cumulee_6&#x27;,\n",
       "                                                   &#x27;irrigation_cumulee_7&#x27;,\n",
       "                                                   &#x27;irrigation_cumulee_8&#x27;,\n",
       "                                                   &#x27;irrigation_cumulee_9&#x27;,\n",
       "                                                   &#x27;irrigation_cumulee_10&#x27;,\n",
       "                                                   &#x27;irrigation_cumulee_11&#x27;,\n",
       "                                                   &#x27;irrigation_cumulee_12&#x27;]),\n",
       "                                                 (&#x27;impute_knn&#x27;, KNNImputer(),\n",
       "                                                  [&#x27;Sup Debut Camp&#x27;])])),\n",
       "                (&#x27;lgbmregressor&#x27;, LGBMRegressor())])</pre></div></div></div><div class=\"sk-serial\"><div class=\"sk-item sk-dashed-wrapped\"><div class=\"sk-label-container\"><div class=\"sk-label sk-toggleable\"><input class=\"sk-toggleable__control sk-hidden--visually\" id=\"sk-estimator-id-13\" type=\"checkbox\" ><label for=\"sk-estimator-id-13\" class=\"sk-toggleable__label sk-toggleable__label-arrow\">columntransformer: ColumnTransformer</label><div class=\"sk-toggleable__content\"><pre>ColumnTransformer(remainder=&#x27;passthrough&#x27;,\n",
       "                  transformers=[(&#x27;cat&#x27;,\n",
       "                                 OneHotEncoder(handle_unknown=&#x27;ignore&#x27;,\n",
       "                                               sparse=False),\n",
       "                                 [&#x27;Variete&#x27;, &#x27;Porte Greffe&#x27;]),\n",
       "                                (&#x27;impute_median&#x27;,\n",
       "                                 SimpleImputer(strategy=&#x27;median&#x27;),\n",
       "                                 [&#x27;Days to Arrachage&#x27;, &#x27;Tree Age&#x27;,\n",
       "                                  &#x27;irrigation_cumulee_1&#x27;,\n",
       "                                  &#x27;irrigation_cumulee_2&#x27;,\n",
       "                                  &#x27;irrigation_cumulee_3&#x27;,\n",
       "                                  &#x27;irrigation_cumulee_4&#x27;,\n",
       "                                  &#x27;irrigation_cumulee_5&#x27;,\n",
       "                                  &#x27;irrigation_cumulee_6&#x27;,\n",
       "                                  &#x27;irrigation_cumulee_7&#x27;,\n",
       "                                  &#x27;irrigation_cumulee_8&#x27;,\n",
       "                                  &#x27;irrigation_cumulee_9&#x27;,\n",
       "                                  &#x27;irrigation_cumulee_10&#x27;,\n",
       "                                  &#x27;irrigation_cumulee_11&#x27;,\n",
       "                                  &#x27;irrigation_cumulee_12&#x27;]),\n",
       "                                (&#x27;impute_knn&#x27;, KNNImputer(),\n",
       "                                 [&#x27;Sup Debut Camp&#x27;])])</pre></div></div></div><div class=\"sk-parallel\"><div class=\"sk-parallel-item\"><div class=\"sk-item\"><div class=\"sk-label-container\"><div class=\"sk-label sk-toggleable\"><input class=\"sk-toggleable__control sk-hidden--visually\" id=\"sk-estimator-id-14\" type=\"checkbox\" ><label for=\"sk-estimator-id-14\" class=\"sk-toggleable__label sk-toggleable__label-arrow\">cat</label><div class=\"sk-toggleable__content\"><pre>[&#x27;Variete&#x27;, &#x27;Porte Greffe&#x27;]</pre></div></div></div><div class=\"sk-serial\"><div class=\"sk-item\"><div class=\"sk-estimator sk-toggleable\"><input class=\"sk-toggleable__control sk-hidden--visually\" id=\"sk-estimator-id-15\" type=\"checkbox\" ><label for=\"sk-estimator-id-15\" class=\"sk-toggleable__label sk-toggleable__label-arrow\">OneHotEncoder</label><div class=\"sk-toggleable__content\"><pre>OneHotEncoder(handle_unknown=&#x27;ignore&#x27;, sparse=False)</pre></div></div></div></div></div></div><div class=\"sk-parallel-item\"><div class=\"sk-item\"><div class=\"sk-label-container\"><div class=\"sk-label sk-toggleable\"><input class=\"sk-toggleable__control sk-hidden--visually\" id=\"sk-estimator-id-16\" type=\"checkbox\" ><label for=\"sk-estimator-id-16\" class=\"sk-toggleable__label sk-toggleable__label-arrow\">impute_median</label><div class=\"sk-toggleable__content\"><pre>[&#x27;Days to Arrachage&#x27;, &#x27;Tree Age&#x27;, &#x27;irrigation_cumulee_1&#x27;, &#x27;irrigation_cumulee_2&#x27;, &#x27;irrigation_cumulee_3&#x27;, &#x27;irrigation_cumulee_4&#x27;, &#x27;irrigation_cumulee_5&#x27;, &#x27;irrigation_cumulee_6&#x27;, &#x27;irrigation_cumulee_7&#x27;, &#x27;irrigation_cumulee_8&#x27;, &#x27;irrigation_cumulee_9&#x27;, &#x27;irrigation_cumulee_10&#x27;, &#x27;irrigation_cumulee_11&#x27;, &#x27;irrigation_cumulee_12&#x27;]</pre></div></div></div><div class=\"sk-serial\"><div class=\"sk-item\"><div class=\"sk-estimator sk-toggleable\"><input class=\"sk-toggleable__control sk-hidden--visually\" id=\"sk-estimator-id-17\" type=\"checkbox\" ><label for=\"sk-estimator-id-17\" class=\"sk-toggleable__label sk-toggleable__label-arrow\">SimpleImputer</label><div class=\"sk-toggleable__content\"><pre>SimpleImputer(strategy=&#x27;median&#x27;)</pre></div></div></div></div></div></div><div class=\"sk-parallel-item\"><div class=\"sk-item\"><div class=\"sk-label-container\"><div class=\"sk-label sk-toggleable\"><input class=\"sk-toggleable__control sk-hidden--visually\" id=\"sk-estimator-id-18\" type=\"checkbox\" ><label for=\"sk-estimator-id-18\" class=\"sk-toggleable__label sk-toggleable__label-arrow\">impute_knn</label><div class=\"sk-toggleable__content\"><pre>[&#x27;Sup Debut Camp&#x27;]</pre></div></div></div><div class=\"sk-serial\"><div class=\"sk-item\"><div class=\"sk-estimator sk-toggleable\"><input class=\"sk-toggleable__control sk-hidden--visually\" id=\"sk-estimator-id-19\" type=\"checkbox\" ><label for=\"sk-estimator-id-19\" class=\"sk-toggleable__label sk-toggleable__label-arrow\">KNNImputer</label><div class=\"sk-toggleable__content\"><pre>KNNImputer()</pre></div></div></div></div></div></div><div class=\"sk-parallel-item\"><div class=\"sk-item\"><div class=\"sk-label-container\"><div class=\"sk-label sk-toggleable\"><input class=\"sk-toggleable__control sk-hidden--visually\" id=\"sk-estimator-id-20\" type=\"checkbox\" ><label for=\"sk-estimator-id-20\" class=\"sk-toggleable__label sk-toggleable__label-arrow\">remainder</label><div class=\"sk-toggleable__content\"><pre>[&#x27;Recolte&#x27;, &#x27;N_cumulee_1&#x27;, &#x27;P_cumulee_1&#x27;, &#x27;K_cumulee_1&#x27;, &#x27;N_cumulee_2&#x27;, &#x27;P_cumulee_2&#x27;, &#x27;K_cumulee_2&#x27;, &#x27;N_cumulee_3&#x27;, &#x27;P_cumulee_3&#x27;, &#x27;K_cumulee_3&#x27;, &#x27;N_cumulee_4&#x27;, &#x27;P_cumulee_4&#x27;, &#x27;K_cumulee_4&#x27;, &#x27;N_cumulee_5&#x27;, &#x27;P_cumulee_5&#x27;, &#x27;K_cumulee_5&#x27;, &#x27;N_cumulee_6&#x27;, &#x27;P_cumulee_6&#x27;, &#x27;K_cumulee_6&#x27;, &#x27;N_cumulee_7&#x27;, &#x27;P_cumulee_7&#x27;, &#x27;K_cumulee_7&#x27;, &#x27;N_cumulee_8&#x27;, &#x27;P_cumulee_8&#x27;, &#x27;K_cumulee_8&#x27;, &#x27;N_cumulee_9&#x27;, &#x27;P_cumulee_9&#x27;, &#x27;K_cumulee_9&#x27;, &#x27;N_cumulee_10&#x27;, &#x27;P_cumulee_10&#x27;, &#x27;K_cumulee_10&#x27;, &#x27;N_cumulee_11&#x27;, &#x27;P_cumulee_11&#x27;, &#x27;K_cumulee_11&#x27;, &#x27;N_cumulee_12&#x27;, &#x27;P_cumulee_12&#x27;, &#x27;K_cumulee_12&#x27;]</pre></div></div></div><div class=\"sk-serial\"><div class=\"sk-item\"><div class=\"sk-estimator sk-toggleable\"><input class=\"sk-toggleable__control sk-hidden--visually\" id=\"sk-estimator-id-21\" type=\"checkbox\" ><label for=\"sk-estimator-id-21\" class=\"sk-toggleable__label sk-toggleable__label-arrow\">passthrough</label><div class=\"sk-toggleable__content\"><pre>passthrough</pre></div></div></div></div></div></div></div></div><div class=\"sk-item\"><div class=\"sk-estimator sk-toggleable\"><input class=\"sk-toggleable__control sk-hidden--visually\" id=\"sk-estimator-id-22\" type=\"checkbox\" ><label for=\"sk-estimator-id-22\" class=\"sk-toggleable__label sk-toggleable__label-arrow\">LGBMRegressor</label><div class=\"sk-toggleable__content\"><pre>LGBMRegressor()</pre></div></div></div></div></div></div></div>"
      ],
      "text/plain": [
       "Pipeline(steps=[('columntransformer',\n",
       "                 ColumnTransformer(remainder='passthrough',\n",
       "                                   transformers=[('cat',\n",
       "                                                  OneHotEncoder(handle_unknown='ignore',\n",
       "                                                                sparse=False),\n",
       "                                                  ['Variete', 'Porte Greffe']),\n",
       "                                                 ('impute_median',\n",
       "                                                  SimpleImputer(strategy='median'),\n",
       "                                                  ['Days to Arrachage',\n",
       "                                                   'Tree Age',\n",
       "                                                   'irrigation_cumulee_1',\n",
       "                                                   'irrigation_cumulee_2',\n",
       "                                                   'irrigation_cumulee_3',\n",
       "                                                   'irrigation_cumulee_4',\n",
       "                                                   'irrigation_cumulee_5',\n",
       "                                                   'irrigation_cumulee_6',\n",
       "                                                   'irrigation_cumulee_7',\n",
       "                                                   'irrigation_cumulee_8',\n",
       "                                                   'irrigation_cumulee_9',\n",
       "                                                   'irrigation_cumulee_10',\n",
       "                                                   'irrigation_cumulee_11',\n",
       "                                                   'irrigation_cumulee_12']),\n",
       "                                                 ('impute_knn', KNNImputer(),\n",
       "                                                  ['Sup Debut Camp'])])),\n",
       "                ('lgbmregressor', LGBMRegressor())])"
      ]
     },
     "execution_count": 97,
     "metadata": {},
     "output_type": "execute_result"
    }
   ],
   "source": [
    "# from sklearn.ensemble import RandomForestRegressor\n",
    "# model = RandomForestRegressor(random_state=42)\n",
    "from lightgbm import LGBMRegressor\n",
    "model = LGBMRegressor()\n",
    "\n",
    "pipeline = make_pipeline(preprocessor, model)\n",
    "\n",
    "pipeline.fit(X_train, y_train)"
   ]
  },
  {
   "cell_type": "code",
   "execution_count": 98,
   "metadata": {},
   "outputs": [],
   "source": [
    "# from sklearn.ensemble import RandomForestRegressor\n",
    "# from sklearn.linear_model import LinearRegression\n",
    "# from xgboost import XGBRegressor\n",
    "# from lightgbm import LGBMRegressor\n",
    "\n",
    "\n",
    "# models = [RandomForestRegressor(), XGBRegressor(), LinearRegression(), LGBMRegressor()]"
   ]
  },
  {
   "cell_type": "code",
   "execution_count": 99,
   "metadata": {},
   "outputs": [],
   "source": [
    "# from sklearn.metrics import r2_score\n",
    "\n",
    "# # Create the complete pipeline\n",
    "# for model in models:\n",
    "#     pipeline = make_pipeline(preprocessor, model)\n",
    "#     pipeline.fit(X_train, y_train)\n",
    "#     y_train_pred = pipeline.predict(X_train)\n",
    "\n",
    "#     evaluation_metrics(y_train, y_train_pred)"
   ]
  },
  {
   "cell_type": "code",
   "execution_count": 100,
   "metadata": {},
   "outputs": [],
   "source": [
    "# for model in models:\n",
    "#     pipeline = make_pipeline(preprocessor, model)\n",
    "#     pipeline.fit(X_train, y_train)\n",
    "#     y_val_pred = pipeline.predict(X_val)\n",
    "\n",
    "#     print(f'✅ model: {model}')\n",
    "#     evaluation_metrics(y_val, y_val_pred)"
   ]
  },
  {
   "cell_type": "code",
   "execution_count": 101,
   "metadata": {},
   "outputs": [],
   "source": [
    "# from lightgbm import LGBMRegressor\n",
    "# model = LGBMRegressor()"
   ]
  },
  {
   "cell_type": "code",
   "execution_count": 102,
   "metadata": {},
   "outputs": [],
   "source": [
    "y_train_pred = pipeline.predict(X_train)"
   ]
  },
  {
   "cell_type": "code",
   "execution_count": 103,
   "metadata": {},
   "outputs": [],
   "source": [
    "from sklearn.metrics import r2_score\n",
    "\n",
    "def evaluation_metrics(y, y_pred):\n",
    "    mse = mean_squared_error(y, y_pred)\n",
    "    rmse = np.sqrt(mean_squared_error(y, y_pred))\n",
    "    r_squared = r2_score(y, y_pred)\n",
    "    std = train_test[train_test['is_train']]['Tonnage'].std()\n",
    "\n",
    "\n",
    "    r_squared\n",
    "    print(f'''     \n",
    "        ▶️ MSE  : {mse}\n",
    "        ▶️ RMSE : {rmse} vs STD  : {std}   \n",
    "        ▶️ R²   : {r_squared}\n",
    "        ''')"
   ]
  },
  {
   "cell_type": "code",
   "execution_count": 104,
   "metadata": {},
   "outputs": [
    {
     "name": "stdout",
     "output_type": "stream",
     "text": [
      "     \n",
      "        ▶️ MSE  : 378785184.7852835\n",
      "        ▶️ RMSE : 19462.404393735207 vs STD  : 38941.21577045369   \n",
      "        ▶️ R²   : 0.6931103744616521\n",
      "        \n"
     ]
    }
   ],
   "source": [
    "evaluation_metrics(y_train, y_train_pred)"
   ]
  },
  {
   "cell_type": "code",
   "execution_count": 105,
   "metadata": {},
   "outputs": [],
   "source": [
    "y_val_pred = pipeline.predict(X_val)"
   ]
  },
  {
   "cell_type": "code",
   "execution_count": 106,
   "metadata": {},
   "outputs": [
    {
     "name": "stdout",
     "output_type": "stream",
     "text": [
      "     \n",
      "        ▶️ MSE  : 2013790941.3533382\n",
      "        ▶️ RMSE : 44875.28207547378 vs STD  : 38941.21577045369   \n",
      "        ▶️ R²   : 0.23629466702576918\n",
      "        \n"
     ]
    }
   ],
   "source": [
    "evaluation_metrics(y_val, y_val_pred)"
   ]
  },
  {
   "cell_type": "markdown",
   "metadata": {},
   "source": [
    "* Last run on validation set:\n",
    "\n",
    "        - ▶️ MSE  : 1933944109.3274395\n",
    "        - ▶️ RMSE : 43976.63140040901 vs STD  : 38941.21577045369   \n",
    "        - ▶️ R²   : 0.2665755915185054"
   ]
  },
  {
   "cell_type": "code",
   "execution_count": 781,
   "metadata": {},
   "outputs": [
    {
     "data": {
      "text/plain": [
       "153"
      ]
     },
     "execution_count": 781,
     "metadata": {},
     "output_type": "execute_result"
    }
   ],
   "source": [
    "# features_list = []\n",
    "# for feature in all_feature_cols:\n",
    "#     if feature in cat_cols:\n",
    "#         for i in range(len(train_test[train_test['is_train']][feature].unique())):\n",
    "#             features_list.append(feature+f'_{i+1}')\n",
    "#     else:\n",
    "#         features_list.append(feature)\n",
    "\n",
    "# len(features_list)"
   ]
  },
  {
   "cell_type": "code",
   "execution_count": 782,
   "metadata": {},
   "outputs": [],
   "source": [
    "# features_list = [\n",
    "#     # Variete\n",
    "#     'Variete_CLA1', 'Variete_CLA6', 'Variete_CLA12', 'Variete_CLA14', 'Variete_CLA7', \n",
    "#     'Variete_CLA15', 'Variete_CLA13', 'Variete_CLA16', 'Variete_CLA10', 'Variete_CLA9', \n",
    "#     'Variete_CLA18', 'Variete_SPA3', 'Variete_SPA4', 'Variete_SPA5', 'Variete_SPA6', \n",
    "#     'Variete_SPA7', 'Variete_SPA11', 'Variete_CLA2', 'Variete_CLA4', 'Variete_CLA3', \n",
    "#     'Variete_ORA2', 'Variete_ORA4', 'Variete_CLA8', 'Variete_CLA17', 'Variete_CLA5', \n",
    "#     'Variete_SPA9', 'Variete_SPA10', 'Variete_AF1', 'Variete_AF2', 'Variete_ORA3', \n",
    "#     'Variete_MAD3', 'Variete_NOA1', 'Variete_CLA11', 'Variete_SPA2', 'Variete_SPA8', \n",
    "#     'Variete_ORA14', 'Variete_SPA1', 'Variete_ORA6', 'Variete_ORA5', 'Variete_ORA1', \n",
    "#     'Variete_ORA11', 'Variete_ORA12', 'Variete_ORA13', 'Variete_ORA8', 'Variete_MAD4', \n",
    "#     'Variete_ORA7', 'Variete_MAD1', 'Variete_AF3', 'Variete_ORA9', 'Variete_ORA10', \n",
    "#     'Variete_MAD2',\n",
    "\n",
    "#     # Year\n",
    "#     'Year_2020', 'Year_2021', 'Year_2022', 'Year_2023',\n",
    "\n",
    "#     # Region\n",
    "#     'Region_GHARB', 'Region_HAOUZ', 'Region_SOUSS', 'Region_TADLA', 'Region_ORIENTAL',\n",
    "\n",
    "#     # Site\n",
    "#     'Site_Chorf Laghouazi', 'Site_Ben Mansour', 'Site_Jorf El Melha', 'Site_Marrakech', \n",
    "#     'Site_Ouled Teima', 'Site_Qrarma', 'Site_Ouled Abbou', 'Site_Taroudant', \n",
    "#     'Site_Bni Ayat', 'Site_Douar Oued Mahdouma', 'Site_Cherraa', 'Site_Beni Mellal', \n",
    "#     'Site_Rabat', 'Site_Lalla Takerkoust', 'Site_Ait Ourir', 'Site_Douar Ahl quadi', \n",
    "#     'Site_Ouled Moussa', 'Site_Benguérir',\n",
    "\n",
    "#     # Porte Greffe\n",
    "#     'Porte_Greffe_PG6', 'Porte_Greffe_PG7', 'Porte_Greffe_PG2', \n",
    "#     'Porte_Greffe_PG4', 'Porte_Greffe_PG5', 'Porte_Greffe_PG13', 'Porte_Greffe_PG1', \n",
    "#     'Porte_Greffe_PG3', 'Porte_Greffe_PG9', 'Porte_Greffe_PG10', 'Porte_Greffe_PG11', \n",
    "#     'Porte_Greffe_PG12', 'Porte_Greffe_PG8'\n",
    "# ]\n"
   ]
  },
  {
   "cell_type": "code",
   "execution_count": 784,
   "metadata": {},
   "outputs": [
    {
     "name": "stdout",
     "output_type": "stream",
     "text": [
      "Mismatch in the length of feature names and importances.\n"
     ]
    }
   ],
   "source": [
    "# # Access the Random Forest regressor\n",
    "# rf_regressor = pipeline.named_steps['randomforestregressor']\n",
    "\n",
    "# # Get feature importances\n",
    "# importances = rf_regressor.feature_importances_\n",
    "\n",
    "# # Check if the lengths match\n",
    "# if len(features_list) != len(importances):\n",
    "#     print(\"Mismatch in the length of feature names and importances.\")\n",
    "#     # Adjust 'all_feature_cols' here to match the transformed features\n",
    "#     # This adjustment depends on how 'preprocessor' transforms the data\n",
    "# else:\n",
    "#     # Match importances with feature names\n",
    "#     feature_importances = pd.DataFrame({'feature': features_list, 'importance': importances})\n",
    "\n",
    "#     # Sort the features by importance\n",
    "#     feature_importances = feature_importances.sort_values(by='importance', ascending=False)\n",
    "\n",
    "#     # Print feature importances\n",
    "#     print(feature_importances)\n",
    "\n",
    "#     # Plotting feature importances\n",
    "#     plt.figure(figsize=(10, 6))\n",
    "#     plt.bar(feature_importances['feature'], feature_importances['importance'])\n",
    "#     plt.xlabel('Features')\n",
    "#     plt.ylabel('Importance')\n",
    "#     plt.title('Feature Importances in Random Forest Model')\n",
    "#     plt.show()"
   ]
  },
  {
   "cell_type": "code",
   "execution_count": 753,
   "metadata": {},
   "outputs": [
    {
     "data": {
      "image/png": "[encoded data removed]",
      "text/plain": [
       "<Figure size 1000x800 with 1 Axes>"
      ]
     },
     "metadata": {},
     "output_type": "display_data"
    }
   ],
   "source": [
    "# import matplotlib.pyplot as plt\n",
    "# import pandas as pd\n",
    "\n",
    "# # ... (your existing code to get feature_importances) ...\n",
    "\n",
    "# # Plotting feature importances with improved visibility\n",
    "# plt.figure(figsize=(10, 8))  # Increase figure size\n",
    "# top_n = 100  # Number of top features to select, for example, the top 20\n",
    "# top_features = feature_importances.head(top_n)  # Select top N features\n",
    "\n",
    "# # Create a horizontal bar plot for better visibility\n",
    "# plt.barh(top_features['feature'], top_features['importance'])\n",
    "# plt.xlabel('Importance')\n",
    "# plt.ylabel('Features')\n",
    "# plt.title('Top 20 Feature Importances in Random Forest Model')\n",
    "# plt.gca().invert_yaxis()  # Invert y-axis to have the most important feature at the top\n",
    "# plt.show()\n"
   ]
  },
  {
   "cell_type": "code",
   "execution_count": 686,
   "metadata": {},
   "outputs": [],
   "source": [
    "# # Access the linear regression model\n",
    "# model = pipeline.named_steps['linearregression']\n",
    "\n",
    "# # Extract the ColumnTransformer\n",
    "# preprocessor = pipeline.named_steps['columntransformer']\n",
    "\n",
    "# # Initialize an empty list to hold feature names\n",
    "# transformed_feature_names = []\n",
    "\n",
    "# # Iterate through each transformer in the ColumnTransformer\n",
    "# for transformer_name, transformer, columns in preprocessor.transformers_:\n",
    "#     if transformer_name != 'remainder':\n",
    "#         if hasattr(transformer, 'get_feature_names_out'):\n",
    "#             # If the transformer can generate feature names, use it\n",
    "#             transformed_feature_names.extend(transformer.get_feature_names_out(columns))\n",
    "#         else:\n",
    "#             # Otherwise, use the original column names\n",
    "#             transformed_feature_names.extend(columns)\n",
    "#     else:\n",
    "#         # For the 'remainder' transformer, add the remaining column names\n",
    "#         transformed_feature_names.extend(columns)\n",
    "\n",
    "# # If 'remainder' is 'passthrough', include remaining column names\n",
    "# if preprocessor.remainder == 'passthrough':\n",
    "#     remaining_cols = [col for col in X_train.columns if col not in cat_cols and col not in cols_to_impute]\n",
    "#     transformed_feature_names.extend(remaining_cols)\n",
    "\n",
    "# # Assuming model.coef_ contains the coefficients\n",
    "# for feature_name, coef in zip(transformed_feature_names, model.coef_):\n",
    "#     print(f'{feature_name}: {coef}')"
   ]
  },
  {
   "cell_type": "code",
   "execution_count": 745,
   "metadata": {},
   "outputs": [
    {
     "name": "stderr",
     "output_type": "stream",
     "text": [
      "c:\\Users\\DataScience\\AppData\\Local\\Programs\\Python\\Python310\\lib\\site-packages\\sklearn\\preprocessing\\_encoders.py:975: FutureWarning: `sparse` was renamed to `sparse_output` in version 1.2 and will be removed in 1.4. `sparse_output` is ignored unless you leave `sparse` to its default value.\n",
      "  warnings.warn(\n",
      "c:\\Users\\DataScience\\AppData\\Local\\Programs\\Python\\Python310\\lib\\site-packages\\sklearn\\base.py:1152: DataConversionWarning: A column-vector y was passed when a 1d array was expected. Please change the shape of y to (n_samples,), for example using ravel().\n",
      "  return fit_method(estimator, *args, **kwargs)\n"
     ]
    }
   ],
   "source": [
    "pipeline.fit(X, y)\n",
    " \n",
    "y_pred = pipeline.predict(X_test)"
   ]
  },
  {
   "cell_type": "code",
   "execution_count": 746,
   "metadata": {},
   "outputs": [
    {
     "data": {
      "text/plain": [
       "(781,)"
      ]
     },
     "execution_count": 746,
     "metadata": {},
     "output_type": "execute_result"
    }
   ],
   "source": [
    "y_pred.shape"
   ]
  },
  {
   "cell_type": "code",
   "execution_count": 689,
   "metadata": {},
   "outputs": [
    {
     "data": {
      "text/plain": [
       "Tonnage    20786.633094\n",
       "dtype: float64"
      ]
     },
     "execution_count": 689,
     "metadata": {},
     "output_type": "execute_result"
    }
   ],
   "source": [
    "y.mean()"
   ]
  },
  {
   "cell_type": "code",
   "execution_count": 747,
   "metadata": {},
   "outputs": [],
   "source": [
    "y_pred = np.array(y_pred)  # Convert to numpy array if not already\n",
    "assert len(y_pred) == 781, \"y_pred must have exactly 781 rows\"\n",
    "\n",
    "# Create a DataFrame. Adjust column names as per the competition's requirement.\n",
    "# Usually, you will have an ID column and a prediction column.\n",
    "submission_df = pd.DataFrame({\n",
    "    'Id': range(1, 782),  # Example: creating a sequence of IDs from 1 to 781\n",
    "    'Tonnage': y_pred\n",
    "})\n",
    "\n",
    "# Export to CSV\n",
    "csv_file = \"submission.csv\"\n",
    "submission_df.to_csv(csv_file, index=False)"
   ]
  },
  {
   "cell_type": "code",
   "execution_count": null,
   "metadata": {},
   "outputs": [],
   "source": []
  }
 ],
 "metadata": {
  "kernelspec": {
   "display_name": "venvagrument",
   "language": "python",
   "name": "python3"
  },
  "language_info": {
   "codemirror_mode": {
    "name": "ipython",
    "version": 3
   },
   "file_extension": ".py",
   "mimetype": "text/x-python",
   "name": "python",
   "nbconvert_exporter": "python",
   "pygments_lexer": "ipython3",
   "version": "3.10.0"
  }
 },
 "nbformat": 4,
 "nbformat_minor": 2
}
