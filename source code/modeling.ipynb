{
 "cells": [
  {
   "cell_type": "code",
   "execution_count": 632,
   "metadata": {},
   "outputs": [],
   "source": [
    "import numpy as np\n",
    "import pandas as pd\n",
    "from sklearn.metrics import r2_score\n",
    "from sklearn.ensemble import RandomForestRegressor"
   ]
  },
  {
   "cell_type": "code",
   "execution_count": 633,
   "metadata": {},
   "outputs": [],
   "source": [
    "all_data = pd.read_csv(\"../processing_2/data_all.csv\", parse_dates=['Date'])"
   ]
  },
  {
   "cell_type": "code",
   "execution_count": 634,
   "metadata": {},
   "outputs": [
    {
     "data": {
      "text/plain": [
       "Index(['Campagne', 'Region', 'Site', 'Famille', 'Variete', 'Num Parcelle',\n",
       "       'CodeTracabilite', 'Date', 'Tonnage', 'is_train', 'Recolte',\n",
       "       'irrigation_cumulee_1', 'irrigation_cumulee_2', 'irrigation_cumulee_3',\n",
       "       'irrigation_cumulee_4', 'irrigation_cumulee_5', 'irrigation_cumulee_6',\n",
       "       'irrigation_cumulee_7', 'irrigation_cumulee_8', 'irrigation_cumulee_9',\n",
       "       'irrigation_cumulee_10', 'irrigation_cumulee_11',\n",
       "       'irrigation_cumulee_12', 'N_cumulee_1', 'P_cumulee_1', 'K_cumulee_1',\n",
       "       'N_cumulee_2', 'P_cumulee_2', 'K_cumulee_2', 'N_cumulee_3',\n",
       "       'P_cumulee_3', 'K_cumulee_3', 'N_cumulee_4', 'P_cumulee_4',\n",
       "       'K_cumulee_4', 'N_cumulee_5', 'P_cumulee_5', 'K_cumulee_5',\n",
       "       'N_cumulee_6', 'P_cumulee_6', 'K_cumulee_6', 'N_cumulee_7',\n",
       "       'P_cumulee_7', 'K_cumulee_7', 'N_cumulee_8', 'P_cumulee_8',\n",
       "       'K_cumulee_8', 'N_cumulee_9', 'P_cumulee_9', 'K_cumulee_9',\n",
       "       'N_cumulee_10', 'P_cumulee_10', 'K_cumulee_10', 'N_cumulee_11',\n",
       "       'P_cumulee_11', 'K_cumulee_11', 'N_cumulee_12', 'P_cumulee_12',\n",
       "       'K_cumulee_12', 'Id', 'Date Plantation', 'Date Arrachage',\n",
       "       'Porte Greffe', 'Sup Debut Camp', 'Sup Plantee', 'Sup Arrachee',\n",
       "       'Sup Fin Camp', 'Tree Age', 'Days to Arrachage'],\n",
       "      dtype='object')"
      ]
     },
     "execution_count": 634,
     "metadata": {},
     "output_type": "execute_result"
    }
   ],
   "source": [
    "all_data.columns"
   ]
  },
  {
   "cell_type": "code",
   "execution_count": 635,
   "metadata": {},
   "outputs": [
    {
     "data": {
      "text/plain": [
       "(3943, 69)"
      ]
     },
     "execution_count": 635,
     "metadata": {},
     "output_type": "execute_result"
    }
   ],
   "source": [
    "all_data.shape"
   ]
  },
  {
   "cell_type": "code",
   "execution_count": 636,
   "metadata": {},
   "outputs": [],
   "source": [
    "# Tonnage to float\n",
    "all_data['Tonnage'] = all_data['Tonnage'].str.replace(',', '.').astype(float)\n",
    "\n",
    "# Split the date\n",
    "all_data['Year'] = all_data['Date'].dt.year\n",
    "all_data['Month'] = all_data['Date'].dt.month\n",
    "all_data['Day'] = all_data['Date'].dt.day\n",
    "\n",
    "\n",
    "duplicates = all_data.duplicated(['CodeTracabilite', 'Num Parcelle', 'Campagne', 'Region', 'Site', 'Famille', 'Variete', 'Recolte'], keep=False)\n",
    "\n",
    "# Then, apply the condition\n",
    "condition = (all_data['Sup Debut Camp'] + all_data['Sup Plantee'] != all_data['Sup Arrachee'] + all_data['Sup Fin Camp'])\n",
    "\n",
    "# Combine both conditions\n",
    "to_drop = duplicates & condition\n",
    "\n",
    "# Drop the rows that satisfy both condgitions\n",
    "all_data = all_data[~to_drop]"
   ]
  },
  {
   "cell_type": "code",
   "execution_count": 637,
   "metadata": {},
   "outputs": [],
   "source": [
    "for month_index in range(12):\n",
    "    all_data[f'irrigation_cumulee_{month_index + 1}'] = all_data[f'irrigation_cumulee_{month_index + 1}'].replace(0, np.nan)\n",
    "    # all_data[f'N_cumulee_{month_index + 1}'] = all_data[f'N_cumlee_{month_index + 1}'].replace(np.nan, 0)\n",
    "    # all_data[f'P_cumulee_{month_index + 1}'] = all_data[f'P_cumlee_{month_index + 1}'].replace(np.nan, 0)\n",
    "    # all_data[f'K_cumulee_{month_index + 1}'] = all_data[f'K_cumlee_{month_index + 1}'].replace(np.nan, 0)"
   ]
  },
  {
   "cell_type": "code",
   "execution_count": 638,
   "metadata": {},
   "outputs": [
    {
     "data": {
      "text/plain": [
       "(3903, 72)"
      ]
     },
     "execution_count": 638,
     "metadata": {},
     "output_type": "execute_result"
    }
   ],
   "source": [
    "all_data.shape"
   ]
  },
  {
   "cell_type": "code",
   "execution_count": 639,
   "metadata": {},
   "outputs": [
    {
     "data": {
      "text/plain": [
       "Index(['Campagne', 'Region', 'Site', 'Famille', 'Variete', 'Num Parcelle',\n",
       "       'CodeTracabilite', 'Date', 'Tonnage', 'is_train', 'Recolte',\n",
       "       'irrigation_cumulee_1', 'irrigation_cumulee_2', 'irrigation_cumulee_3',\n",
       "       'irrigation_cumulee_4', 'irrigation_cumulee_5', 'irrigation_cumulee_6',\n",
       "       'irrigation_cumulee_7', 'irrigation_cumulee_8', 'irrigation_cumulee_9',\n",
       "       'irrigation_cumulee_10', 'irrigation_cumulee_11',\n",
       "       'irrigation_cumulee_12', 'N_cumulee_1', 'P_cumulee_1', 'K_cumulee_1',\n",
       "       'N_cumulee_2', 'P_cumulee_2', 'K_cumulee_2', 'N_cumulee_3',\n",
       "       'P_cumulee_3', 'K_cumulee_3', 'N_cumulee_4', 'P_cumulee_4',\n",
       "       'K_cumulee_4', 'N_cumulee_5', 'P_cumulee_5', 'K_cumulee_5',\n",
       "       'N_cumulee_6', 'P_cumulee_6', 'K_cumulee_6', 'N_cumulee_7',\n",
       "       'P_cumulee_7', 'K_cumulee_7', 'N_cumulee_8', 'P_cumulee_8',\n",
       "       'K_cumulee_8', 'N_cumulee_9', 'P_cumulee_9', 'K_cumulee_9',\n",
       "       'N_cumulee_10', 'P_cumulee_10', 'K_cumulee_10', 'N_cumulee_11',\n",
       "       'P_cumulee_11', 'K_cumulee_11', 'N_cumulee_12', 'P_cumulee_12',\n",
       "       'K_cumulee_12', 'Id', 'Date Plantation', 'Date Arrachage',\n",
       "       'Porte Greffe', 'Sup Debut Camp', 'Sup Plantee', 'Sup Arrachee',\n",
       "       'Sup Fin Camp', 'Tree Age', 'Days to Arrachage', 'Year', 'Month',\n",
       "       'Day'],\n",
       "      dtype='object')"
      ]
     },
     "execution_count": 639,
     "metadata": {},
     "output_type": "execute_result"
    }
   ],
   "source": [
    "all_data.columns"
   ]
  },
  {
   "cell_type": "code",
   "execution_count": 640,
   "metadata": {},
   "outputs": [],
   "source": [
    "# all_data['ndmi_missingness'] = all_data['ndmi'].apply(\n",
    "#     lambda x: 0 if x != 0 else 1)"
   ]
  },
  {
   "cell_type": "markdown",
   "metadata": {},
   "source": [
    "Processing "
   ]
  },
  {
   "cell_type": "code",
   "execution_count": 641,
   "metadata": {},
   "outputs": [],
   "source": [
    "from sklearn.preprocessing import OneHotEncoder"
   ]
  },
  {
   "cell_type": "code",
   "execution_count": 642,
   "metadata": {},
   "outputs": [],
   "source": [
    "from sklearn.impute import SimpleImputer"
   ]
  },
  {
   "cell_type": "code",
   "execution_count": 643,
   "metadata": {},
   "outputs": [],
   "source": [
    "irrigation_columns = [f'irrigation_cumulee_{i}' for i in range(1, 13)]\n",
    "\n",
    "# Calculate the median for these columns in each row\n",
    "row_mean = all_data[irrigation_columns].mean(axis=1)\n",
    "\n",
    "# Replace NaN values in each column with the row median\n",
    "for col in irrigation_columns:\n",
    "    all_data[col] = all_data[col].fillna(row_mean)"
   ]
  },
  {
   "cell_type": "code",
   "execution_count": 644,
   "metadata": {},
   "outputs": [],
   "source": [
    "# # Identify the columns to impute with mean\n",
    "# cols_to_impute_mean = ['Days to Arrachage', 'Tree Age', 'Sup Debut Camp'] + irrigation_columns\n",
    "\n",
    "# # Initialize the mean imputer with an option to add indicators for imputed values\n",
    "# mean_imputer = SimpleImputer(strategy='mean', add_indicator=True)\n",
    "\n",
    "# # Apply the imputer to the specified columns\n",
    "# imputed_data = mean_imputer.fit_transform(all_data[cols_to_impute_mean])\n",
    "\n",
    "# # Since the imputer also adds indicators for imputation, \n",
    "# # update the column names to include indicator columns\n",
    "# # imputed_cols = cols_to_impute_mean + [col + '_imputed' for col in cols_to_impute_mean]\n",
    "\n",
    "# # Update the dataframe with the imputed data\n",
    "# all_data[col] = imputed_data\n",
    "\n",
    "# # Optionally, you may want to update the original columns with the imputed values\n",
    "# # and keep the indicators as separate columns\n",
    "# # for i, col in enumerate(cols_to_impute_mean):\n",
    "# #     all_data[col] = imputed_data[:, i]\n",
    "#     # all_data[col + '_imputed'] = imputed_data[:, i + len(cols_to_impute_mean)]\n"
   ]
  },
  {
   "cell_type": "code",
   "execution_count": 645,
   "metadata": {},
   "outputs": [],
   "source": [
    "# Identify the columns to impute with mean\n",
    "cols_to_impute_mean = ['Days to Arrachage', 'Tree Age', 'Sup Debut Camp'] + irrigation_columns\n",
    "\n",
    "# Initialize the mean imputer with an option to add indicators for imputed values\n",
    "mean_imputer = SimpleImputer(strategy='mean', add_indicator=True)\n",
    "\n",
    "# Apply the imputer to the specified columns\n",
    "imputed_data = mean_imputer.fit_transform(all_data[cols_to_impute_mean])\n",
    "\n",
    "# Since the imputer also adds indicators for imputation, \n",
    "# update the column names to include indicator columns\n",
    "imputed_cols = cols_to_impute_mean + [col + '_imputed' for col in cols_to_impute_mean]\n",
    "\n",
    "# Update the dataframe with the imputed data\n",
    "all_data[imputed_cols] = imputed_data\n",
    "\n",
    "# Optionally, you may want to update the original columns with the imputed values\n",
    "# and keep the indicators as separate columns\n",
    "for i, col in enumerate(cols_to_impute_mean):\n",
    "    all_data[col] = imputed_data[:, i]\n",
    "    all_data[col + '_imputed'] = imputed_data[:, i + len(cols_to_impute_mean)]\n"
   ]
  },
  {
   "cell_type": "code",
   "execution_count": 646,
   "metadata": {},
   "outputs": [
    {
     "data": {
      "text/plain": [
       "Index(['Campagne', 'Region', 'Site', 'Famille', 'Variete', 'Num Parcelle',\n",
       "       'CodeTracabilite', 'Date', 'Tonnage', 'is_train', 'Recolte',\n",
       "       'irrigation_cumulee_1', 'irrigation_cumulee_2', 'irrigation_cumulee_3',\n",
       "       'irrigation_cumulee_4', 'irrigation_cumulee_5', 'irrigation_cumulee_6',\n",
       "       'irrigation_cumulee_7', 'irrigation_cumulee_8', 'irrigation_cumulee_9',\n",
       "       'irrigation_cumulee_10', 'irrigation_cumulee_11',\n",
       "       'irrigation_cumulee_12', 'N_cumulee_1', 'P_cumulee_1', 'K_cumulee_1',\n",
       "       'N_cumulee_2', 'P_cumulee_2', 'K_cumulee_2', 'N_cumulee_3',\n",
       "       'P_cumulee_3', 'K_cumulee_3', 'N_cumulee_4', 'P_cumulee_4',\n",
       "       'K_cumulee_4', 'N_cumulee_5', 'P_cumulee_5', 'K_cumulee_5',\n",
       "       'N_cumulee_6', 'P_cumulee_6', 'K_cumulee_6', 'N_cumulee_7',\n",
       "       'P_cumulee_7', 'K_cumulee_7', 'N_cumulee_8', 'P_cumulee_8',\n",
       "       'K_cumulee_8', 'N_cumulee_9', 'P_cumulee_9', 'K_cumulee_9',\n",
       "       'N_cumulee_10', 'P_cumulee_10', 'K_cumulee_10', 'N_cumulee_11',\n",
       "       'P_cumulee_11', 'K_cumulee_11', 'N_cumulee_12', 'P_cumulee_12',\n",
       "       'K_cumulee_12', 'Id', 'Date Plantation', 'Date Arrachage',\n",
       "       'Porte Greffe', 'Sup Debut Camp', 'Sup Plantee', 'Sup Arrachee',\n",
       "       'Sup Fin Camp', 'Tree Age', 'Days to Arrachage', 'Year', 'Month', 'Day',\n",
       "       'Days to Arrachage_imputed', 'Tree Age_imputed',\n",
       "       'Sup Debut Camp_imputed', 'irrigation_cumulee_1_imputed',\n",
       "       'irrigation_cumulee_2_imputed', 'irrigation_cumulee_3_imputed',\n",
       "       'irrigation_cumulee_4_imputed', 'irrigation_cumulee_5_imputed',\n",
       "       'irrigation_cumulee_6_imputed', 'irrigation_cumulee_7_imputed',\n",
       "       'irrigation_cumulee_8_imputed', 'irrigation_cumulee_9_imputed',\n",
       "       'irrigation_cumulee_10_imputed', 'irrigation_cumulee_11_imputed',\n",
       "       'irrigation_cumulee_12_imputed'],\n",
       "      dtype='object')"
      ]
     },
     "execution_count": 646,
     "metadata": {},
     "output_type": "execute_result"
    }
   ],
   "source": [
    "all_data.columns"
   ]
  },
  {
   "cell_type": "code",
   "execution_count": 647,
   "metadata": {},
   "outputs": [
    {
     "name": "stderr",
     "output_type": "stream",
     "text": [
      "c:\\Users\\DataScience\\AppData\\Local\\Programs\\Python\\Python310\\lib\\site-packages\\sklearn\\preprocessing\\_encoders.py:975: FutureWarning:\n",
      "\n",
      "`sparse` was renamed to `sparse_output` in version 1.2 and will be removed in 1.4. `sparse_output` is ignored unless you leave `sparse` to its default value.\n",
      "\n"
     ]
    },
    {
     "data": {
      "text/plain": [
       "Index(['Variete_AF1', 'Variete_AF2', 'Variete_AF3', 'Variete_CLA1',\n",
       "       'Variete_CLA10', 'Variete_CLA11', 'Variete_CLA12', 'Variete_CLA13',\n",
       "       'Variete_CLA14', 'Variete_CLA15',\n",
       "       ...\n",
       "       'irrigation_cumulee_3_imputed', 'irrigation_cumulee_4_imputed',\n",
       "       'irrigation_cumulee_5_imputed', 'irrigation_cumulee_6_imputed',\n",
       "       'irrigation_cumulee_7_imputed', 'irrigation_cumulee_8_imputed',\n",
       "       'irrigation_cumulee_9_imputed', 'irrigation_cumulee_10_imputed',\n",
       "       'irrigation_cumulee_11_imputed', 'irrigation_cumulee_12_imputed'],\n",
       "      dtype='object', length=150)"
      ]
     },
     "execution_count": 647,
     "metadata": {},
     "output_type": "execute_result"
    }
   ],
   "source": [
    "# Import necessary libraries\n",
    "import pandas as pd\n",
    "from sklearn.compose import ColumnTransformer\n",
    "from sklearn.pipeline import Pipeline\n",
    "\n",
    "# Define the categorical columns to be transformed\n",
    "# cat_cols = ['Region', 'Site', 'Variete', 'Porte Greffe']\n",
    "cat_cols = ['Variete', 'Porte Greffe']\n",
    "\n",
    "# Create a transformer for categorical features\n",
    "cat_transformer = OneHotEncoder(sparse=False, handle_unknown='ignore')\n",
    "\n",
    "# Create a column transformer to apply the transformation only to the specified categorical columns\n",
    "preprocessor = ColumnTransformer(\n",
    "    transformers=[\n",
    "        ('cat', cat_transformer, cat_cols)\n",
    "    ],\n",
    "    remainder='passthrough'  # this will pass through other columns not listed in transformers\n",
    ")\n",
    "\n",
    "# Apply the transformations\n",
    "all_data_transformed = preprocessor.fit_transform(all_data)\n",
    "\n",
    "# The output will be a NumPy array. Convert it back to a dataframe if necessary\n",
    "# Get feature names after one-hot encoding\n",
    "new_cat_features = preprocessor.named_transformers_['cat'].get_feature_names_out(cat_cols)\n",
    "non_cat_cols = all_data.drop(columns=cat_cols).columns\n",
    "all_columns = list(new_cat_features) + list(non_cat_cols)\n",
    "\n",
    "# Create a new dataframe with transformed features\n",
    "all_data = pd.DataFrame(all_data_transformed, columns=all_columns)\n",
    "\n",
    "# Check the transformed dataframe\n",
    "all_data.columns"
   ]
  },
  {
   "cell_type": "code",
   "execution_count": 648,
   "metadata": {},
   "outputs": [],
   "source": [
    "num_cols = ['Sup Debut Camp', 'Tree Age', 'Days to Arrachage', 'Recolte']\n",
    "\n",
    "# imputation_indicator = [col + '_imputed' for col in cols_to_impute_mean]\n",
    "\n",
    "monthly_params = ['N_cumulee', 'P_cumulee', 'K_cumulee', 'irrigation_cumulee']\n",
    "\n",
    "monthly_variables = [\n",
    "    f'{param}_{i}' for param in monthly_params for i in range(1, 13)]\n",
    "\n",
    "time_variables = ['year', 'month']\n",
    "\n",
    "\n",
    "# CHANGE HERE\n",
    "\n",
    "predictors_names = monthly_variables + num_cols + list(new_cat_features)\n",
    "target_name = ['Tonnage']"
   ]
  },
  {
   "cell_type": "code",
   "execution_count": 649,
   "metadata": {},
   "outputs": [
    {
     "name": "stdout",
     "output_type": "stream",
     "text": [
      "['N_cumulee_1', 'N_cumulee_2', 'N_cumulee_3', 'N_cumulee_4', 'N_cumulee_5', 'N_cumulee_6', 'N_cumulee_7', 'N_cumulee_8', 'N_cumulee_9', 'N_cumulee_10', 'N_cumulee_11', 'N_cumulee_12', 'P_cumulee_1', 'P_cumulee_2', 'P_cumulee_3', 'P_cumulee_4', 'P_cumulee_5', 'P_cumulee_6', 'P_cumulee_7', 'P_cumulee_8', 'P_cumulee_9', 'P_cumulee_10', 'P_cumulee_11', 'P_cumulee_12', 'K_cumulee_1', 'K_cumulee_2', 'K_cumulee_3', 'K_cumulee_4', 'K_cumulee_5', 'K_cumulee_6', 'K_cumulee_7', 'K_cumulee_8', 'K_cumulee_9', 'K_cumulee_10', 'K_cumulee_11', 'K_cumulee_12', 'irrigation_cumulee_1', 'irrigation_cumulee_2', 'irrigation_cumulee_3', 'irrigation_cumulee_4', 'irrigation_cumulee_5', 'irrigation_cumulee_6', 'irrigation_cumulee_7', 'irrigation_cumulee_8', 'irrigation_cumulee_9', 'irrigation_cumulee_10', 'irrigation_cumulee_11', 'irrigation_cumulee_12', 'Sup Debut Camp', 'Tree Age', 'Days to Arrachage', 'Recolte', 'Variete_AF1', 'Variete_AF2', 'Variete_AF3', 'Variete_CLA1', 'Variete_CLA10', 'Variete_CLA11', 'Variete_CLA12', 'Variete_CLA13', 'Variete_CLA14', 'Variete_CLA15', 'Variete_CLA16', 'Variete_CLA17', 'Variete_CLA18', 'Variete_CLA2', 'Variete_CLA3', 'Variete_CLA4', 'Variete_CLA5', 'Variete_CLA6', 'Variete_CLA7', 'Variete_CLA8', 'Variete_CLA9', 'Variete_MAD1', 'Variete_MAD2', 'Variete_MAD3', 'Variete_MAD4', 'Variete_NOA1', 'Variete_ORA1', 'Variete_ORA10', 'Variete_ORA11', 'Variete_ORA12', 'Variete_ORA13', 'Variete_ORA14', 'Variete_ORA2', 'Variete_ORA3', 'Variete_ORA4', 'Variete_ORA5', 'Variete_ORA6', 'Variete_ORA7', 'Variete_ORA8', 'Variete_ORA9', 'Variete_SPA1', 'Variete_SPA10', 'Variete_SPA11', 'Variete_SPA2', 'Variete_SPA3', 'Variete_SPA4', 'Variete_SPA5', 'Variete_SPA6', 'Variete_SPA7', 'Variete_SPA8', 'Variete_SPA9', 'Porte Greffe_PG1', 'Porte Greffe_PG10', 'Porte Greffe_PG11', 'Porte Greffe_PG12', 'Porte Greffe_PG13', 'Porte Greffe_PG2', 'Porte Greffe_PG3', 'Porte Greffe_PG4', 'Porte Greffe_PG5', 'Porte Greffe_PG6', 'Porte Greffe_PG7', 'Porte Greffe_PG8', 'Porte Greffe_PG9', 'Porte Greffe_nan']\n"
     ]
    }
   ],
   "source": [
    "print(predictors_names)"
   ]
  },
  {
   "cell_type": "markdown",
   "metadata": {},
   "source": [
    "### Split and train model"
   ]
  },
  {
   "cell_type": "code",
   "execution_count": 650,
   "metadata": {},
   "outputs": [],
   "source": [
    "# Import necessary libraries\n",
    "from sklearn.linear_model import LinearRegression\n",
    "from xgboost import XGBRegressor\n",
    "from sklearn.metrics import mean_squared_error, r2_score\n",
    "from sklearn.ensemble import RandomForestRegressor, ExtraTreesRegressor\n",
    "from lightgbm import LGBMRegressor\n",
    "from sklearn.model_selection import KFold"
   ]
  },
  {
   "cell_type": "code",
   "execution_count": 651,
   "metadata": {},
   "outputs": [],
   "source": [
    "# non_zero_na_sums = all_data[predictors_names].isna().sum()\n",
    "# non_zero_na_sums = non_zero_na_sums[non_zero_na_sums != 0]\n",
    "# non_zero_na_sums"
   ]
  },
  {
   "cell_type": "code",
   "execution_count": 652,
   "metadata": {},
   "outputs": [],
   "source": [
    "train = all_data[all_data['is_train'] == True]\n",
    "test = all_data[all_data['is_train'] == False]"
   ]
  },
  {
   "cell_type": "code",
   "execution_count": 653,
   "metadata": {},
   "outputs": [],
   "source": [
    "train = train.sample(frac=1, random_state=42)  # random_state for reproducibility\n",
    "X, y = train[predictors_names].values, train[target_name].values"
   ]
  },
  {
   "cell_type": "markdown",
   "metadata": {},
   "source": [
    "Feature importance"
   ]
  },
  {
   "cell_type": "code",
   "execution_count": 654,
   "metadata": {},
   "outputs": [],
   "source": [
    "from scipy.stats import pearsonr, spearmanr, kendalltau\n",
    "\n",
    "def stat_coef(col1):\n",
    "    # Calculate Pearson Correlation Coefficient\n",
    "    pearson_corr, p_value_pearson = pearsonr(train[col1], train['Tonnage'])\n",
    "\n",
    "    # Calculate Spearman's Rank Correlation Coefficient\n",
    "    spearman_corr, p_value_spearman = spearmanr(train[col1], train['Tonnage'])\n",
    "\n",
    "    # Calculate Kendall's Tau\n",
    "    kendall_corr, p_value_kendall = kendalltau(train[col1], train['Tonnage'])\n",
    "\n",
    "    print(f'''\n",
    "    For {col1}:\n",
    "        ▶️ pearson_corr: {pearson_corr}\n",
    "        ▶️ p_value_pearson: {p_value_pearson}\n",
    "        ▶️ spearman_corr: {spearman_corr}\n",
    "        ▶️ p_value_spearman: {p_value_spearman}\n",
    "        ▶️ kendall_corr: {kendall_corr}\n",
    "        ▶️ p_value_kendall: {p_value_kendall}\n",
    "              ➖➖➖➖➖➖➖\n",
    "            ''')\n",
    "    # Print the results"
   ]
  },
  {
   "cell_type": "code",
   "execution_count": 655,
   "metadata": {},
   "outputs": [
    {
     "name": "stdout",
     "output_type": "stream",
     "text": [
      "['Variete_AF1', 'Variete_AF2', 'Variete_AF3', 'Variete_CLA1', 'Variete_CLA10', 'Variete_CLA11', 'Variete_CLA12', 'Variete_CLA13', 'Variete_CLA14', 'Variete_CLA15', 'Variete_CLA16', 'Variete_CLA17', 'Variete_CLA18', 'Variete_CLA2', 'Variete_CLA3', 'Variete_CLA4', 'Variete_CLA5', 'Variete_CLA6', 'Variete_CLA7', 'Variete_CLA8', 'Variete_CLA9', 'Variete_MAD1', 'Variete_MAD2', 'Variete_MAD3', 'Variete_MAD4', 'Variete_NOA1', 'Variete_ORA1', 'Variete_ORA10', 'Variete_ORA11', 'Variete_ORA12', 'Variete_ORA13', 'Variete_ORA14', 'Variete_ORA2', 'Variete_ORA3', 'Variete_ORA4', 'Variete_ORA5', 'Variete_ORA6', 'Variete_ORA7', 'Variete_ORA8', 'Variete_ORA9', 'Variete_SPA1', 'Variete_SPA10', 'Variete_SPA11', 'Variete_SPA2', 'Variete_SPA3', 'Variete_SPA4', 'Variete_SPA5', 'Variete_SPA6', 'Variete_SPA7', 'Variete_SPA8', 'Variete_SPA9', 'Porte Greffe_PG1', 'Porte Greffe_PG10', 'Porte Greffe_PG11', 'Porte Greffe_PG12', 'Porte Greffe_PG13', 'Porte Greffe_PG2', 'Porte Greffe_PG3', 'Porte Greffe_PG4', 'Porte Greffe_PG5', 'Porte Greffe_PG6', 'Porte Greffe_PG7', 'Porte Greffe_PG8', 'Porte Greffe_PG9', 'Porte Greffe_nan', 'Campagne', 'Region', 'Site', 'Famille', 'Num Parcelle', 'CodeTracabilite', 'Date', 'Tonnage', 'is_train', 'Recolte', 'irrigation_cumulee_1', 'irrigation_cumulee_2', 'irrigation_cumulee_3', 'irrigation_cumulee_4', 'irrigation_cumulee_5', 'irrigation_cumulee_6', 'irrigation_cumulee_7', 'irrigation_cumulee_8', 'irrigation_cumulee_9', 'irrigation_cumulee_10', 'irrigation_cumulee_11', 'irrigation_cumulee_12', 'N_cumulee_1', 'P_cumulee_1', 'K_cumulee_1', 'N_cumulee_2', 'P_cumulee_2', 'K_cumulee_2', 'N_cumulee_3', 'P_cumulee_3', 'K_cumulee_3', 'N_cumulee_4', 'P_cumulee_4', 'K_cumulee_4', 'N_cumulee_5', 'P_cumulee_5', 'K_cumulee_5', 'N_cumulee_6', 'P_cumulee_6', 'K_cumulee_6', 'N_cumulee_7', 'P_cumulee_7', 'K_cumulee_7', 'N_cumulee_8', 'P_cumulee_8', 'K_cumulee_8', 'N_cumulee_9', 'P_cumulee_9', 'K_cumulee_9', 'N_cumulee_10', 'P_cumulee_10', 'K_cumulee_10', 'N_cumulee_11', 'P_cumulee_11', 'K_cumulee_11', 'N_cumulee_12', 'P_cumulee_12', 'K_cumulee_12', 'Id', 'Date Plantation', 'Date Arrachage', 'Sup Debut Camp', 'Sup Plantee', 'Sup Arrachee', 'Sup Fin Camp', 'Tree Age', 'Days to Arrachage', 'Year', 'Month', 'Day', 'Days to Arrachage_imputed', 'Tree Age_imputed', 'Sup Debut Camp_imputed', 'irrigation_cumulee_1_imputed', 'irrigation_cumulee_2_imputed', 'irrigation_cumulee_3_imputed', 'irrigation_cumulee_4_imputed', 'irrigation_cumulee_5_imputed', 'irrigation_cumulee_6_imputed', 'irrigation_cumulee_7_imputed', 'irrigation_cumulee_8_imputed', 'irrigation_cumulee_9_imputed', 'irrigation_cumulee_10_imputed', 'irrigation_cumulee_11_imputed', 'irrigation_cumulee_12_imputed']\n"
     ]
    }
   ],
   "source": [
    "print(list(train.columns))"
   ]
  },
  {
   "cell_type": "code",
   "execution_count": 656,
   "metadata": {},
   "outputs": [
    {
     "data": {
      "text/plain": [
       "(3122, 150)"
      ]
     },
     "execution_count": 656,
     "metadata": {},
     "output_type": "execute_result"
    }
   ],
   "source": [
    "train.shape"
   ]
  },
  {
   "cell_type": "markdown",
   "metadata": {},
   "source": [
    "Model Selection"
   ]
  },
  {
   "cell_type": "code",
   "execution_count": 657,
   "metadata": {},
   "outputs": [
    {
     "name": "stderr",
     "output_type": "stream",
     "text": [
      "c:\\Users\\DataScience\\AppData\\Local\\Programs\\Python\\Python310\\lib\\site-packages\\sklearn\\base.py:1152: DataConversionWarning:\n",
      "\n",
      "A column-vector y was passed when a 1d array was expected. Please change the shape of y to (n_samples,), for example using ravel().\n",
      "\n",
      "c:\\Users\\DataScience\\AppData\\Local\\Programs\\Python\\Python310\\lib\\site-packages\\sklearn\\base.py:1152: DataConversionWarning:\n",
      "\n",
      "A column-vector y was passed when a 1d array was expected. Please change the shape of y to (n_samples,), for example using ravel().\n",
      "\n",
      "c:\\Users\\DataScience\\AppData\\Local\\Programs\\Python\\Python310\\lib\\site-packages\\sklearn\\base.py:1152: DataConversionWarning:\n",
      "\n",
      "A column-vector y was passed when a 1d array was expected. Please change the shape of y to (n_samples,), for example using ravel().\n",
      "\n",
      "c:\\Users\\DataScience\\AppData\\Local\\Programs\\Python\\Python310\\lib\\site-packages\\sklearn\\base.py:1152: DataConversionWarning:\n",
      "\n",
      "A column-vector y was passed when a 1d array was expected. Please change the shape of y to (n_samples,), for example using ravel().\n",
      "\n",
      "c:\\Users\\DataScience\\AppData\\Local\\Programs\\Python\\Python310\\lib\\site-packages\\sklearn\\base.py:1152: DataConversionWarning:\n",
      "\n",
      "A column-vector y was passed when a 1d array was expected. Please change the shape of y to (n_samples,), for example using ravel().\n",
      "\n",
      "c:\\Users\\DataScience\\AppData\\Local\\Programs\\Python\\Python310\\lib\\site-packages\\sklearn\\base.py:1152: DataConversionWarning:\n",
      "\n",
      "A column-vector y was passed when a 1d array was expected. Please change the shape of y to (n_samples,), for example using ravel().\n",
      "\n",
      "c:\\Users\\DataScience\\AppData\\Local\\Programs\\Python\\Python310\\lib\\site-packages\\sklearn\\base.py:1152: DataConversionWarning:\n",
      "\n",
      "A column-vector y was passed when a 1d array was expected. Please change the shape of y to (n_samples,), for example using ravel().\n",
      "\n",
      "c:\\Users\\DataScience\\AppData\\Local\\Programs\\Python\\Python310\\lib\\site-packages\\sklearn\\base.py:1152: DataConversionWarning:\n",
      "\n",
      "A column-vector y was passed when a 1d array was expected. Please change the shape of y to (n_samples,), for example using ravel().\n",
      "\n",
      "c:\\Users\\DataScience\\AppData\\Local\\Programs\\Python\\Python310\\lib\\site-packages\\sklearn\\utils\\validation.py:1183: DataConversionWarning:\n",
      "\n",
      "A column-vector y was passed when a 1d array was expected. Please change the shape of y to (n_samples, ), for example using ravel().\n",
      "\n"
     ]
    },
    {
     "name": "stdout",
     "output_type": "stream",
     "text": [
      "[LightGBM] [Info] Auto-choosing col-wise multi-threading, the overhead of testing was 0.001131 seconds.\n",
      "You can set `force_col_wise=true` to remove the overhead.\n",
      "[LightGBM] [Info] Total Bins 12562\n",
      "[LightGBM] [Info] Number of data points in the train set: 2341, number of used features: 78\n",
      "[LightGBM] [Info] Start training from score 20375.566419\n"
     ]
    },
    {
     "name": "stderr",
     "output_type": "stream",
     "text": [
      "c:\\Users\\DataScience\\AppData\\Local\\Programs\\Python\\Python310\\lib\\site-packages\\sklearn\\utils\\validation.py:1183: DataConversionWarning:\n",
      "\n",
      "A column-vector y was passed when a 1d array was expected. Please change the shape of y to (n_samples, ), for example using ravel().\n",
      "\n"
     ]
    },
    {
     "name": "stdout",
     "output_type": "stream",
     "text": [
      "[LightGBM] [Info] Auto-choosing col-wise multi-threading, the overhead of testing was 0.001091 seconds.\n",
      "You can set `force_col_wise=true` to remove the overhead.\n",
      "[LightGBM] [Info] Total Bins 12537\n",
      "[LightGBM] [Info] Number of data points in the train set: 2341, number of used features: 77\n",
      "[LightGBM] [Info] Start training from score 21465.653424\n"
     ]
    },
    {
     "name": "stderr",
     "output_type": "stream",
     "text": [
      "c:\\Users\\DataScience\\AppData\\Local\\Programs\\Python\\Python310\\lib\\site-packages\\sklearn\\utils\\validation.py:1183: DataConversionWarning:\n",
      "\n",
      "A column-vector y was passed when a 1d array was expected. Please change the shape of y to (n_samples, ), for example using ravel().\n",
      "\n"
     ]
    },
    {
     "name": "stdout",
     "output_type": "stream",
     "text": [
      "[LightGBM] [Info] Auto-choosing col-wise multi-threading, the overhead of testing was 0.001816 seconds.\n",
      "You can set `force_col_wise=true` to remove the overhead.\n",
      "[LightGBM] [Info] Total Bins 12524\n",
      "[LightGBM] [Info] Number of data points in the train set: 2342, number of used features: 77\n",
      "[LightGBM] [Info] Start training from score 20376.407872\n"
     ]
    },
    {
     "name": "stderr",
     "output_type": "stream",
     "text": [
      "c:\\Users\\DataScience\\AppData\\Local\\Programs\\Python\\Python310\\lib\\site-packages\\sklearn\\utils\\validation.py:1183: DataConversionWarning:\n",
      "\n",
      "A column-vector y was passed when a 1d array was expected. Please change the shape of y to (n_samples, ), for example using ravel().\n",
      "\n"
     ]
    },
    {
     "name": "stdout",
     "output_type": "stream",
     "text": [
      "[LightGBM] [Info] Auto-choosing col-wise multi-threading, the overhead of testing was 0.002070 seconds.\n",
      "You can set `force_col_wise=true` to remove the overhead.\n",
      "[LightGBM] [Info] Total Bins 12589\n",
      "[LightGBM] [Info] Number of data points in the train set: 2342, number of used features: 79\n",
      "[LightGBM] [Info] Start training from score 20929.019016\n"
     ]
    }
   ],
   "source": [
    "# Define the models\n",
    "models = {\n",
    "    \"Linear Regression\": LinearRegression(),\n",
    "    \"XGBoost\": XGBRegressor(random_state=42),\n",
    "    \"Random Forest\": RandomForestRegressor(random_state=42),\n",
    "    \"ExtraTrees Regressor\": ExtraTreesRegressor(random_state=42),\n",
    "    \"LGBM Regressor\": LGBMRegressor(random_state=42)\n",
    "}\n",
    "k = 4\n",
    "kf = KFold(n_splits=k)\n",
    "results = {}\n",
    "for model_name, model in models.items():\n",
    "    train_rmse_scores = []\n",
    "    train_r2_scores = []\n",
    "    test_rmse_scores = []\n",
    "    test_r2_scores = []\n",
    "\n",
    "    for train_index, test_index in kf.split(X):\n",
    "        x_train_fold, x_test_fold = X[train_index], X[test_index]\n",
    "        y_train_fold, y_test_fold = y[train_index], y[test_index]\n",
    "\n",
    "        model.fit(x_train_fold, y_train_fold)\n",
    "        y_pred_train = model.predict(x_train_fold)\n",
    "        y_pred_test = model.predict(x_test_fold)\n",
    "\n",
    "        r2_train = r2_score(y_train_fold, y_pred_train)\n",
    "        rmse_train = mean_squared_error(\n",
    "            y_train_fold, y_pred_train, squared=False)\n",
    "        r2_test = r2_score(y_test_fold, y_pred_test)\n",
    "        rmse_test = mean_squared_error(y_test_fold, y_pred_test, squared=False)\n",
    "\n",
    "        train_rmse_scores.append(rmse_train)\n",
    "        train_r2_scores.append(r2_train)\n",
    "        test_rmse_scores.append(rmse_test)\n",
    "        test_r2_scores.append(r2_test)\n",
    "\n",
    "    avg_train_rmse = sum(train_rmse_scores) / k\n",
    "    avg_train_r2 = sum(train_r2_scores) / k\n",
    "    avg_test_rmse = sum(test_rmse_scores) / k\n",
    "    avg_test_r2 = sum(test_r2_scores) / k\n",
    "    # print(\"☢️\", model_name, \" avg_test_r2  : \", avg_test_r2)\n",
    "\n",
    "    results[model_name] = {\n",
    "        \"train_rmse\": avg_train_rmse,\n",
    "        \"train_r2\": avg_train_r2,\n",
    "        \"test_rmse\": avg_test_rmse,\n",
    "        \"test_r2\": avg_test_r2\n",
    "    }"
   ]
  },
  {
   "cell_type": "markdown",
   "metadata": {},
   "source": [
    "plot results using plotly"
   ]
  },
  {
   "cell_type": "code",
   "execution_count": 658,
   "metadata": {},
   "outputs": [],
   "source": [
    "import plotly.graph_objects as go\n",
    "import numpy as np\n",
    "import plotly.io as pio\n",
    "\n",
    "data = results\n",
    "models = list(data.keys())\n",
    "train_rmse = [data[model]['train_rmse'] for model in models]\n",
    "test_rmse = [data[model]['test_rmse'] for model in models]\n",
    "train_r2 = [data[model]['train_r2'] for model in models]\n",
    "test_r2 = [data[model]['test_r2'] for model in models]\n",
    "\n",
    "train_rmse = [round(num, 2) for num in train_rmse]\n",
    "test_rmse = [round(num, 2) for num in test_rmse]\n",
    "train_r2 = [round(num, 2) for num in train_r2]\n",
    "test_r2 = [round(num, 2) for num in test_r2]\n",
    "\n",
    "\n",
    "standard_deviation = np.std(y)  # Calculate standard deviation using numpy\n",
    "sample_size = len(y)  # Calculate sample size\n",
    "\n",
    "standard_error = standard_deviation / np.sqrt(sample_size)"
   ]
  },
  {
   "cell_type": "code",
   "execution_count": 659,
   "metadata": {},
   "outputs": [
    {
     "data": {
      "application/vnd.plotly.v1+json": {
       "config": {
        "plotlyServerURL": "https://plot.ly"
       },
       "data": [
        {
         "marker": {
          "color": "blue"
         },
         "name": "Train RMSE",
         "text": [
          "37389.04",
          "12937.83",
          "17164.44",
          "11350.86",
          "21140.85"
         ],
         "textposition": "auto",
         "type": "bar",
         "x": [
          "Linear Regression",
          "XGBoost",
          "Random Forest",
          "ExtraTrees Regressor",
          "LGBM Regressor"
         ],
         "y": [
          37389.04,
          12937.83,
          17164.44,
          11350.86,
          21140.85
         ]
        },
        {
         "marker": {
          "color": "red"
         },
         "name": "Test RMSE",
         "text": [
          "38386.03",
          "41159.95",
          "37387.63",
          "40841.59",
          "36573.8"
         ],
         "textposition": "auto",
         "type": "bar",
         "x": [
          "Linear Regression",
          "XGBoost",
          "Random Forest",
          "ExtraTrees Regressor",
          "LGBM Regressor"
         ],
         "y": [
          38386.03,
          41159.95,
          37387.63,
          40841.59,
          36573.8
         ]
        },
        {
         "line": {
          "color": "orange",
          "width": 2
         },
         "mode": "lines+markers",
         "name": "Std",
         "type": "scatter",
         "x": [
          "Linear Regression",
          "XGBoost",
          "Random Forest",
          "ExtraTrees Regressor",
          "LGBM Regressor"
         ],
         "y": [
          38934.97868932606,
          38934.97868932606,
          38934.97868932606,
          38934.97868932606,
          38934.97868932606
         ]
        }
       ],
       "layout": {
        "barmode": "group",
        "legend": {
         "title": {
          "text": "Data"
         }
        },
        "template": {
         "data": {
          "bar": [
           {
            "error_x": {
             "color": "#2a3f5f"
            },
            "error_y": {
             "color": "#2a3f5f"
            },
            "marker": {
             "line": {
              "color": "#E5ECF6",
              "width": 0.5
             },
             "pattern": {
              "fillmode": "overlay",
              "size": 10,
              "solidity": 0.2
             }
            },
            "type": "bar"
           }
          ],
          "barpolar": [
           {
            "marker": {
             "line": {
              "color": "#E5ECF6",
              "width": 0.5
             },
             "pattern": {
              "fillmode": "overlay",
              "size": 10,
              "solidity": 0.2
             }
            },
            "type": "barpolar"
           }
          ],
          "carpet": [
           {
            "aaxis": {
             "endlinecolor": "#2a3f5f",
             "gridcolor": "white",
             "linecolor": "white",
             "minorgridcolor": "white",
             "startlinecolor": "#2a3f5f"
            },
            "baxis": {
             "endlinecolor": "#2a3f5f",
             "gridcolor": "white",
             "linecolor": "white",
             "minorgridcolor": "white",
             "startlinecolor": "#2a3f5f"
            },
            "type": "carpet"
           }
          ],
          "choropleth": [
           {
            "colorbar": {
             "outlinewidth": 0,
             "ticks": ""
            },
            "type": "choropleth"
           }
          ],
          "contour": [
           {
            "colorbar": {
             "outlinewidth": 0,
             "ticks": ""
            },
            "colorscale": [
             [
              0,
              "#0d0887"
             ],
             [
              0.1111111111111111,
              "#46039f"
             ],
             [
              0.2222222222222222,
              "#7201a8"
             ],
             [
              0.3333333333333333,
              "#9c179e"
             ],
             [
              0.4444444444444444,
              "#bd3786"
             ],
             [
              0.5555555555555556,
              "#d8576b"
             ],
             [
              0.6666666666666666,
              "#ed7953"
             ],
             [
              0.7777777777777778,
              "#fb9f3a"
             ],
             [
              0.8888888888888888,
              "#fdca26"
             ],
             [
              1,
              "#f0f921"
             ]
            ],
            "type": "contour"
           }
          ],
          "contourcarpet": [
           {
            "colorbar": {
             "outlinewidth": 0,
             "ticks": ""
            },
            "type": "contourcarpet"
           }
          ],
          "heatmap": [
           {
            "colorbar": {
             "outlinewidth": 0,
             "ticks": ""
            },
            "colorscale": [
             [
              0,
              "#0d0887"
             ],
             [
              0.1111111111111111,
              "#46039f"
             ],
             [
              0.2222222222222222,
              "#7201a8"
             ],
             [
              0.3333333333333333,
              "#9c179e"
             ],
             [
              0.4444444444444444,
              "#bd3786"
             ],
             [
              0.5555555555555556,
              "#d8576b"
             ],
             [
              0.6666666666666666,
              "#ed7953"
             ],
             [
              0.7777777777777778,
              "#fb9f3a"
             ],
             [
              0.8888888888888888,
              "#fdca26"
             ],
             [
              1,
              "#f0f921"
             ]
            ],
            "type": "heatmap"
           }
          ],
          "heatmapgl": [
           {
            "colorbar": {
             "outlinewidth": 0,
             "ticks": ""
            },
            "colorscale": [
             [
              0,
              "#0d0887"
             ],
             [
              0.1111111111111111,
              "#46039f"
             ],
             [
              0.2222222222222222,
              "#7201a8"
             ],
             [
              0.3333333333333333,
              "#9c179e"
             ],
             [
              0.4444444444444444,
              "#bd3786"
             ],
             [
              0.5555555555555556,
              "#d8576b"
             ],
             [
              0.6666666666666666,
              "#ed7953"
             ],
             [
              0.7777777777777778,
              "#fb9f3a"
             ],
             [
              0.8888888888888888,
              "#fdca26"
             ],
             [
              1,
              "#f0f921"
             ]
            ],
            "type": "heatmapgl"
           }
          ],
          "histogram": [
           {
            "marker": {
             "pattern": {
              "fillmode": "overlay",
              "size": 10,
              "solidity": 0.2
             }
            },
            "type": "histogram"
           }
          ],
          "histogram2d": [
           {
            "colorbar": {
             "outlinewidth": 0,
             "ticks": ""
            },
            "colorscale": [
             [
              0,
              "#0d0887"
             ],
             [
              0.1111111111111111,
              "#46039f"
             ],
             [
              0.2222222222222222,
              "#7201a8"
             ],
             [
              0.3333333333333333,
              "#9c179e"
             ],
             [
              0.4444444444444444,
              "#bd3786"
             ],
             [
              0.5555555555555556,
              "#d8576b"
             ],
             [
              0.6666666666666666,
              "#ed7953"
             ],
             [
              0.7777777777777778,
              "#fb9f3a"
             ],
             [
              0.8888888888888888,
              "#fdca26"
             ],
             [
              1,
              "#f0f921"
             ]
            ],
            "type": "histogram2d"
           }
          ],
          "histogram2dcontour": [
           {
            "colorbar": {
             "outlinewidth": 0,
             "ticks": ""
            },
            "colorscale": [
             [
              0,
              "#0d0887"
             ],
             [
              0.1111111111111111,
              "#46039f"
             ],
             [
              0.2222222222222222,
              "#7201a8"
             ],
             [
              0.3333333333333333,
              "#9c179e"
             ],
             [
              0.4444444444444444,
              "#bd3786"
             ],
             [
              0.5555555555555556,
              "#d8576b"
             ],
             [
              0.6666666666666666,
              "#ed7953"
             ],
             [
              0.7777777777777778,
              "#fb9f3a"
             ],
             [
              0.8888888888888888,
              "#fdca26"
             ],
             [
              1,
              "#f0f921"
             ]
            ],
            "type": "histogram2dcontour"
           }
          ],
          "mesh3d": [
           {
            "colorbar": {
             "outlinewidth": 0,
             "ticks": ""
            },
            "type": "mesh3d"
           }
          ],
          "parcoords": [
           {
            "line": {
             "colorbar": {
              "outlinewidth": 0,
              "ticks": ""
             }
            },
            "type": "parcoords"
           }
          ],
          "pie": [
           {
            "automargin": true,
            "type": "pie"
           }
          ],
          "scatter": [
           {
            "fillpattern": {
             "fillmode": "overlay",
             "size": 10,
             "solidity": 0.2
            },
            "type": "scatter"
           }
          ],
          "scatter3d": [
           {
            "line": {
             "colorbar": {
              "outlinewidth": 0,
              "ticks": ""
             }
            },
            "marker": {
             "colorbar": {
              "outlinewidth": 0,
              "ticks": ""
             }
            },
            "type": "scatter3d"
           }
          ],
          "scattercarpet": [
           {
            "marker": {
             "colorbar": {
              "outlinewidth": 0,
              "ticks": ""
             }
            },
            "type": "scattercarpet"
           }
          ],
          "scattergeo": [
           {
            "marker": {
             "colorbar": {
              "outlinewidth": 0,
              "ticks": ""
             }
            },
            "type": "scattergeo"
           }
          ],
          "scattergl": [
           {
            "marker": {
             "colorbar": {
              "outlinewidth": 0,
              "ticks": ""
             }
            },
            "type": "scattergl"
           }
          ],
          "scattermapbox": [
           {
            "marker": {
             "colorbar": {
              "outlinewidth": 0,
              "ticks": ""
             }
            },
            "type": "scattermapbox"
           }
          ],
          "scatterpolar": [
           {
            "marker": {
             "colorbar": {
              "outlinewidth": 0,
              "ticks": ""
             }
            },
            "type": "scatterpolar"
           }
          ],
          "scatterpolargl": [
           {
            "marker": {
             "colorbar": {
              "outlinewidth": 0,
              "ticks": ""
             }
            },
            "type": "scatterpolargl"
           }
          ],
          "scatterternary": [
           {
            "marker": {
             "colorbar": {
              "outlinewidth": 0,
              "ticks": ""
             }
            },
            "type": "scatterternary"
           }
          ],
          "surface": [
           {
            "colorbar": {
             "outlinewidth": 0,
             "ticks": ""
            },
            "colorscale": [
             [
              0,
              "#0d0887"
             ],
             [
              0.1111111111111111,
              "#46039f"
             ],
             [
              0.2222222222222222,
              "#7201a8"
             ],
             [
              0.3333333333333333,
              "#9c179e"
             ],
             [
              0.4444444444444444,
              "#bd3786"
             ],
             [
              0.5555555555555556,
              "#d8576b"
             ],
             [
              0.6666666666666666,
              "#ed7953"
             ],
             [
              0.7777777777777778,
              "#fb9f3a"
             ],
             [
              0.8888888888888888,
              "#fdca26"
             ],
             [
              1,
              "#f0f921"
             ]
            ],
            "type": "surface"
           }
          ],
          "table": [
           {
            "cells": {
             "fill": {
              "color": "#EBF0F8"
             },
             "line": {
              "color": "white"
             }
            },
            "header": {
             "fill": {
              "color": "#C8D4E3"
             },
             "line": {
              "color": "white"
             }
            },
            "type": "table"
           }
          ]
         },
         "layout": {
          "annotationdefaults": {
           "arrowcolor": "#2a3f5f",
           "arrowhead": 0,
           "arrowwidth": 1
          },
          "autotypenumbers": "strict",
          "coloraxis": {
           "colorbar": {
            "outlinewidth": 0,
            "ticks": ""
           }
          },
          "colorscale": {
           "diverging": [
            [
             0,
             "#8e0152"
            ],
            [
             0.1,
             "#c51b7d"
            ],
            [
             0.2,
             "#de77ae"
            ],
            [
             0.3,
             "#f1b6da"
            ],
            [
             0.4,
             "#fde0ef"
            ],
            [
             0.5,
             "#f7f7f7"
            ],
            [
             0.6,
             "#e6f5d0"
            ],
            [
             0.7,
             "#b8e186"
            ],
            [
             0.8,
             "#7fbc41"
            ],
            [
             0.9,
             "#4d9221"
            ],
            [
             1,
             "#276419"
            ]
           ],
           "sequential": [
            [
             0,
             "#0d0887"
            ],
            [
             0.1111111111111111,
             "#46039f"
            ],
            [
             0.2222222222222222,
             "#7201a8"
            ],
            [
             0.3333333333333333,
             "#9c179e"
            ],
            [
             0.4444444444444444,
             "#bd3786"
            ],
            [
             0.5555555555555556,
             "#d8576b"
            ],
            [
             0.6666666666666666,
             "#ed7953"
            ],
            [
             0.7777777777777778,
             "#fb9f3a"
            ],
            [
             0.8888888888888888,
             "#fdca26"
            ],
            [
             1,
             "#f0f921"
            ]
           ],
           "sequentialminus": [
            [
             0,
             "#0d0887"
            ],
            [
             0.1111111111111111,
             "#46039f"
            ],
            [
             0.2222222222222222,
             "#7201a8"
            ],
            [
             0.3333333333333333,
             "#9c179e"
            ],
            [
             0.4444444444444444,
             "#bd3786"
            ],
            [
             0.5555555555555556,
             "#d8576b"
            ],
            [
             0.6666666666666666,
             "#ed7953"
            ],
            [
             0.7777777777777778,
             "#fb9f3a"
            ],
            [
             0.8888888888888888,
             "#fdca26"
            ],
            [
             1,
             "#f0f921"
            ]
           ]
          },
          "colorway": [
           "#636efa",
           "#EF553B",
           "#00cc96",
           "#ab63fa",
           "#FFA15A",
           "#19d3f3",
           "#FF6692",
           "#B6E880",
           "#FF97FF",
           "#FECB52"
          ],
          "font": {
           "color": "#2a3f5f"
          },
          "geo": {
           "bgcolor": "white",
           "lakecolor": "white",
           "landcolor": "#E5ECF6",
           "showlakes": true,
           "showland": true,
           "subunitcolor": "white"
          },
          "hoverlabel": {
           "align": "left"
          },
          "hovermode": "closest",
          "mapbox": {
           "style": "light"
          },
          "paper_bgcolor": "white",
          "plot_bgcolor": "#E5ECF6",
          "polar": {
           "angularaxis": {
            "gridcolor": "white",
            "linecolor": "white",
            "ticks": ""
           },
           "bgcolor": "#E5ECF6",
           "radialaxis": {
            "gridcolor": "white",
            "linecolor": "white",
            "ticks": ""
           }
          },
          "scene": {
           "xaxis": {
            "backgroundcolor": "#E5ECF6",
            "gridcolor": "white",
            "gridwidth": 2,
            "linecolor": "white",
            "showbackground": true,
            "ticks": "",
            "zerolinecolor": "white"
           },
           "yaxis": {
            "backgroundcolor": "#E5ECF6",
            "gridcolor": "white",
            "gridwidth": 2,
            "linecolor": "white",
            "showbackground": true,
            "ticks": "",
            "zerolinecolor": "white"
           },
           "zaxis": {
            "backgroundcolor": "#E5ECF6",
            "gridcolor": "white",
            "gridwidth": 2,
            "linecolor": "white",
            "showbackground": true,
            "ticks": "",
            "zerolinecolor": "white"
           }
          },
          "shapedefaults": {
           "line": {
            "color": "#2a3f5f"
           }
          },
          "ternary": {
           "aaxis": {
            "gridcolor": "white",
            "linecolor": "white",
            "ticks": ""
           },
           "baxis": {
            "gridcolor": "white",
            "linecolor": "white",
            "ticks": ""
           },
           "bgcolor": "#E5ECF6",
           "caxis": {
            "gridcolor": "white",
            "linecolor": "white",
            "ticks": ""
           }
          },
          "title": {
           "x": 0.05
          },
          "xaxis": {
           "automargin": true,
           "gridcolor": "white",
           "linecolor": "white",
           "ticks": "",
           "title": {
            "standoff": 15
           },
           "zerolinecolor": "white",
           "zerolinewidth": 2
          },
          "yaxis": {
           "automargin": true,
           "gridcolor": "white",
           "linecolor": "white",
           "ticks": "",
           "title": {
            "standoff": 15
           },
           "zerolinecolor": "white",
           "zerolinewidth": 2
          }
         }
        },
        "title": {
         "text": "RMSE"
        },
        "width": 600,
        "xaxis": {
         "title": {
          "text": "Models"
         }
        },
        "yaxis": {
         "title": {
          "text": "Value"
         }
        }
       }
      }
     },
     "metadata": {},
     "output_type": "display_data"
    }
   ],
   "source": [
    "fig = go.Figure()\n",
    "\n",
    "# Bar chart for RMSE\n",
    "fig.add_trace(go.Bar(\n",
    "    x=models,\n",
    "    y=train_rmse,\n",
    "    name='Train RMSE',\n",
    "    marker_color='blue',\n",
    "    text=train_rmse,  # Add this line to specify the text for each bar\n",
    "    # 'auto' places the text inside the bars; you can also use 'outside' or 'inside'\n",
    "    textposition='auto'\n",
    "))\n",
    "\n",
    "fig.add_trace(go.Bar(\n",
    "    x=models,\n",
    "    y=test_rmse,\n",
    "    name='Test RMSE',\n",
    "    marker_color='red',\n",
    "    text=test_rmse,  # Add this line to specify the text for each bar\n",
    "    # 'auto' places the text inside the bars; you can also use 'outside' or 'inside'\n",
    "    textposition='auto'\n",
    "))\n",
    "# Update the layout\n",
    "fig.update_layout(\n",
    "    barmode='group',\n",
    "    title='RMSE',\n",
    "    xaxis_title='Models',\n",
    "    yaxis_title='Value',\n",
    "    legend_title='Data',\n",
    "    width=600,\n",
    "    # plot_bgcolor='rgba(0,0,0,0)',  # Set plot background color to transparent\n",
    "    # paper_bgcolor='rgba(0,0,0,0)'\n",
    ")\n",
    "\n",
    "# # Line chart for std\n",
    "# fig.add_trace(go.Scatter(\n",
    "#     x=models,\n",
    "#     y=[stdev for model in models],\n",
    "#     mode='lines+markers',\n",
    "#     name='Std',\n",
    "#     line=dict(color='green', width=2)\n",
    "# ))\n",
    "\n",
    "# Line chart for std\n",
    "fig.add_trace(go.Scatter(\n",
    "    x=models,\n",
    "    y=[standard_deviation for i in range(len(models))],\n",
    "    mode='lines+markers',\n",
    "    name='Std',\n",
    "    line=dict(color='orange', width=2)\n",
    "))\n",
    "\n",
    "# # Line chart for std\n",
    "# fig.add_trace(go.Scatter(\n",
    "#     x=models,\n",
    "#     y=[standard_error for i in range(len(models))],\n",
    "#     mode='lines+markers',\n",
    "#     name='SE',\n",
    "#     line=dict(color='green', width=2)\n",
    "# ))\n",
    "\n",
    "# Show the plot\n",
    "fig.show()"
   ]
  },
  {
   "cell_type": "code",
   "execution_count": 660,
   "metadata": {},
   "outputs": [
    {
     "data": {
      "application/vnd.plotly.v1+json": {
       "config": {
        "plotlyServerURL": "https://plot.ly"
       },
       "data": [
        {
         "marker": {
          "color": "blue"
         },
         "name": "Train R²",
         "text": [
          "0.07",
          "0.89",
          "0.81",
          "0.91",
          "0.7"
         ],
         "textposition": "auto",
         "type": "bar",
         "x": [
          "Linear Regression",
          "XGBoost",
          "Random Forest",
          "ExtraTrees Regressor",
          "LGBM Regressor"
         ],
         "y": [
          0.07,
          0.89,
          0.81,
          0.91,
          0.7
         ]
        },
        {
         "marker": {
          "color": "red"
         },
         "name": "Test R²",
         "text": [
          "-0.01",
          "-0.26",
          "0.02",
          "-0.24",
          "0.07"
         ],
         "textposition": "auto",
         "type": "bar",
         "x": [
          "Linear Regression",
          "XGBoost",
          "Random Forest",
          "ExtraTrees Regressor",
          "LGBM Regressor"
         ],
         "y": [
          -0.01,
          -0.26,
          0.02,
          -0.24,
          0.07
         ]
        }
       ],
       "layout": {
        "barmode": "group",
        "legend": {
         "title": {
          "text": "Data"
         }
        },
        "template": {
         "data": {
          "bar": [
           {
            "error_x": {
             "color": "#2a3f5f"
            },
            "error_y": {
             "color": "#2a3f5f"
            },
            "marker": {
             "line": {
              "color": "#E5ECF6",
              "width": 0.5
             },
             "pattern": {
              "fillmode": "overlay",
              "size": 10,
              "solidity": 0.2
             }
            },
            "type": "bar"
           }
          ],
          "barpolar": [
           {
            "marker": {
             "line": {
              "color": "#E5ECF6",
              "width": 0.5
             },
             "pattern": {
              "fillmode": "overlay",
              "size": 10,
              "solidity": 0.2
             }
            },
            "type": "barpolar"
           }
          ],
          "carpet": [
           {
            "aaxis": {
             "endlinecolor": "#2a3f5f",
             "gridcolor": "white",
             "linecolor": "white",
             "minorgridcolor": "white",
             "startlinecolor": "#2a3f5f"
            },
            "baxis": {
             "endlinecolor": "#2a3f5f",
             "gridcolor": "white",
             "linecolor": "white",
             "minorgridcolor": "white",
             "startlinecolor": "#2a3f5f"
            },
            "type": "carpet"
           }
          ],
          "choropleth": [
           {
            "colorbar": {
             "outlinewidth": 0,
             "ticks": ""
            },
            "type": "choropleth"
           }
          ],
          "contour": [
           {
            "colorbar": {
             "outlinewidth": 0,
             "ticks": ""
            },
            "colorscale": [
             [
              0,
              "#0d0887"
             ],
             [
              0.1111111111111111,
              "#46039f"
             ],
             [
              0.2222222222222222,
              "#7201a8"
             ],
             [
              0.3333333333333333,
              "#9c179e"
             ],
             [
              0.4444444444444444,
              "#bd3786"
             ],
             [
              0.5555555555555556,
              "#d8576b"
             ],
             [
              0.6666666666666666,
              "#ed7953"
             ],
             [
              0.7777777777777778,
              "#fb9f3a"
             ],
             [
              0.8888888888888888,
              "#fdca26"
             ],
             [
              1,
              "#f0f921"
             ]
            ],
            "type": "contour"
           }
          ],
          "contourcarpet": [
           {
            "colorbar": {
             "outlinewidth": 0,
             "ticks": ""
            },
            "type": "contourcarpet"
           }
          ],
          "heatmap": [
           {
            "colorbar": {
             "outlinewidth": 0,
             "ticks": ""
            },
            "colorscale": [
             [
              0,
              "#0d0887"
             ],
             [
              0.1111111111111111,
              "#46039f"
             ],
             [
              0.2222222222222222,
              "#7201a8"
             ],
             [
              0.3333333333333333,
              "#9c179e"
             ],
             [
              0.4444444444444444,
              "#bd3786"
             ],
             [
              0.5555555555555556,
              "#d8576b"
             ],
             [
              0.6666666666666666,
              "#ed7953"
             ],
             [
              0.7777777777777778,
              "#fb9f3a"
             ],
             [
              0.8888888888888888,
              "#fdca26"
             ],
             [
              1,
              "#f0f921"
             ]
            ],
            "type": "heatmap"
           }
          ],
          "heatmapgl": [
           {
            "colorbar": {
             "outlinewidth": 0,
             "ticks": ""
            },
            "colorscale": [
             [
              0,
              "#0d0887"
             ],
             [
              0.1111111111111111,
              "#46039f"
             ],
             [
              0.2222222222222222,
              "#7201a8"
             ],
             [
              0.3333333333333333,
              "#9c179e"
             ],
             [
              0.4444444444444444,
              "#bd3786"
             ],
             [
              0.5555555555555556,
              "#d8576b"
             ],
             [
              0.6666666666666666,
              "#ed7953"
             ],
             [
              0.7777777777777778,
              "#fb9f3a"
             ],
             [
              0.8888888888888888,
              "#fdca26"
             ],
             [
              1,
              "#f0f921"
             ]
            ],
            "type": "heatmapgl"
           }
          ],
          "histogram": [
           {
            "marker": {
             "pattern": {
              "fillmode": "overlay",
              "size": 10,
              "solidity": 0.2
             }
            },
            "type": "histogram"
           }
          ],
          "histogram2d": [
           {
            "colorbar": {
             "outlinewidth": 0,
             "ticks": ""
            },
            "colorscale": [
             [
              0,
              "#0d0887"
             ],
             [
              0.1111111111111111,
              "#46039f"
             ],
             [
              0.2222222222222222,
              "#7201a8"
             ],
             [
              0.3333333333333333,
              "#9c179e"
             ],
             [
              0.4444444444444444,
              "#bd3786"
             ],
             [
              0.5555555555555556,
              "#d8576b"
             ],
             [
              0.6666666666666666,
              "#ed7953"
             ],
             [
              0.7777777777777778,
              "#fb9f3a"
             ],
             [
              0.8888888888888888,
              "#fdca26"
             ],
             [
              1,
              "#f0f921"
             ]
            ],
            "type": "histogram2d"
           }
          ],
          "histogram2dcontour": [
           {
            "colorbar": {
             "outlinewidth": 0,
             "ticks": ""
            },
            "colorscale": [
             [
              0,
              "#0d0887"
             ],
             [
              0.1111111111111111,
              "#46039f"
             ],
             [
              0.2222222222222222,
              "#7201a8"
             ],
             [
              0.3333333333333333,
              "#9c179e"
             ],
             [
              0.4444444444444444,
              "#bd3786"
             ],
             [
              0.5555555555555556,
              "#d8576b"
             ],
             [
              0.6666666666666666,
              "#ed7953"
             ],
             [
              0.7777777777777778,
              "#fb9f3a"
             ],
             [
              0.8888888888888888,
              "#fdca26"
             ],
             [
              1,
              "#f0f921"
             ]
            ],
            "type": "histogram2dcontour"
           }
          ],
          "mesh3d": [
           {
            "colorbar": {
             "outlinewidth": 0,
             "ticks": ""
            },
            "type": "mesh3d"
           }
          ],
          "parcoords": [
           {
            "line": {
             "colorbar": {
              "outlinewidth": 0,
              "ticks": ""
             }
            },
            "type": "parcoords"
           }
          ],
          "pie": [
           {
            "automargin": true,
            "type": "pie"
           }
          ],
          "scatter": [
           {
            "fillpattern": {
             "fillmode": "overlay",
             "size": 10,
             "solidity": 0.2
            },
            "type": "scatter"
           }
          ],
          "scatter3d": [
           {
            "line": {
             "colorbar": {
              "outlinewidth": 0,
              "ticks": ""
             }
            },
            "marker": {
             "colorbar": {
              "outlinewidth": 0,
              "ticks": ""
             }
            },
            "type": "scatter3d"
           }
          ],
          "scattercarpet": [
           {
            "marker": {
             "colorbar": {
              "outlinewidth": 0,
              "ticks": ""
             }
            },
            "type": "scattercarpet"
           }
          ],
          "scattergeo": [
           {
            "marker": {
             "colorbar": {
              "outlinewidth": 0,
              "ticks": ""
             }
            },
            "type": "scattergeo"
           }
          ],
          "scattergl": [
           {
            "marker": {
             "colorbar": {
              "outlinewidth": 0,
              "ticks": ""
             }
            },
            "type": "scattergl"
           }
          ],
          "scattermapbox": [
           {
            "marker": {
             "colorbar": {
              "outlinewidth": 0,
              "ticks": ""
             }
            },
            "type": "scattermapbox"
           }
          ],
          "scatterpolar": [
           {
            "marker": {
             "colorbar": {
              "outlinewidth": 0,
              "ticks": ""
             }
            },
            "type": "scatterpolar"
           }
          ],
          "scatterpolargl": [
           {
            "marker": {
             "colorbar": {
              "outlinewidth": 0,
              "ticks": ""
             }
            },
            "type": "scatterpolargl"
           }
          ],
          "scatterternary": [
           {
            "marker": {
             "colorbar": {
              "outlinewidth": 0,
              "ticks": ""
             }
            },
            "type": "scatterternary"
           }
          ],
          "surface": [
           {
            "colorbar": {
             "outlinewidth": 0,
             "ticks": ""
            },
            "colorscale": [
             [
              0,
              "#0d0887"
             ],
             [
              0.1111111111111111,
              "#46039f"
             ],
             [
              0.2222222222222222,
              "#7201a8"
             ],
             [
              0.3333333333333333,
              "#9c179e"
             ],
             [
              0.4444444444444444,
              "#bd3786"
             ],
             [
              0.5555555555555556,
              "#d8576b"
             ],
             [
              0.6666666666666666,
              "#ed7953"
             ],
             [
              0.7777777777777778,
              "#fb9f3a"
             ],
             [
              0.8888888888888888,
              "#fdca26"
             ],
             [
              1,
              "#f0f921"
             ]
            ],
            "type": "surface"
           }
          ],
          "table": [
           {
            "cells": {
             "fill": {
              "color": "#EBF0F8"
             },
             "line": {
              "color": "white"
             }
            },
            "header": {
             "fill": {
              "color": "#C8D4E3"
             },
             "line": {
              "color": "white"
             }
            },
            "type": "table"
           }
          ]
         },
         "layout": {
          "annotationdefaults": {
           "arrowcolor": "#2a3f5f",
           "arrowhead": 0,
           "arrowwidth": 1
          },
          "autotypenumbers": "strict",
          "coloraxis": {
           "colorbar": {
            "outlinewidth": 0,
            "ticks": ""
           }
          },
          "colorscale": {
           "diverging": [
            [
             0,
             "#8e0152"
            ],
            [
             0.1,
             "#c51b7d"
            ],
            [
             0.2,
             "#de77ae"
            ],
            [
             0.3,
             "#f1b6da"
            ],
            [
             0.4,
             "#fde0ef"
            ],
            [
             0.5,
             "#f7f7f7"
            ],
            [
             0.6,
             "#e6f5d0"
            ],
            [
             0.7,
             "#b8e186"
            ],
            [
             0.8,
             "#7fbc41"
            ],
            [
             0.9,
             "#4d9221"
            ],
            [
             1,
             "#276419"
            ]
           ],
           "sequential": [
            [
             0,
             "#0d0887"
            ],
            [
             0.1111111111111111,
             "#46039f"
            ],
            [
             0.2222222222222222,
             "#7201a8"
            ],
            [
             0.3333333333333333,
             "#9c179e"
            ],
            [
             0.4444444444444444,
             "#bd3786"
            ],
            [
             0.5555555555555556,
             "#d8576b"
            ],
            [
             0.6666666666666666,
             "#ed7953"
            ],
            [
             0.7777777777777778,
             "#fb9f3a"
            ],
            [
             0.8888888888888888,
             "#fdca26"
            ],
            [
             1,
             "#f0f921"
            ]
           ],
           "sequentialminus": [
            [
             0,
             "#0d0887"
            ],
            [
             0.1111111111111111,
             "#46039f"
            ],
            [
             0.2222222222222222,
             "#7201a8"
            ],
            [
             0.3333333333333333,
             "#9c179e"
            ],
            [
             0.4444444444444444,
             "#bd3786"
            ],
            [
             0.5555555555555556,
             "#d8576b"
            ],
            [
             0.6666666666666666,
             "#ed7953"
            ],
            [
             0.7777777777777778,
             "#fb9f3a"
            ],
            [
             0.8888888888888888,
             "#fdca26"
            ],
            [
             1,
             "#f0f921"
            ]
           ]
          },
          "colorway": [
           "#636efa",
           "#EF553B",
           "#00cc96",
           "#ab63fa",
           "#FFA15A",
           "#19d3f3",
           "#FF6692",
           "#B6E880",
           "#FF97FF",
           "#FECB52"
          ],
          "font": {
           "color": "#2a3f5f"
          },
          "geo": {
           "bgcolor": "white",
           "lakecolor": "white",
           "landcolor": "#E5ECF6",
           "showlakes": true,
           "showland": true,
           "subunitcolor": "white"
          },
          "hoverlabel": {
           "align": "left"
          },
          "hovermode": "closest",
          "mapbox": {
           "style": "light"
          },
          "paper_bgcolor": "white",
          "plot_bgcolor": "#E5ECF6",
          "polar": {
           "angularaxis": {
            "gridcolor": "white",
            "linecolor": "white",
            "ticks": ""
           },
           "bgcolor": "#E5ECF6",
           "radialaxis": {
            "gridcolor": "white",
            "linecolor": "white",
            "ticks": ""
           }
          },
          "scene": {
           "xaxis": {
            "backgroundcolor": "#E5ECF6",
            "gridcolor": "white",
            "gridwidth": 2,
            "linecolor": "white",
            "showbackground": true,
            "ticks": "",
            "zerolinecolor": "white"
           },
           "yaxis": {
            "backgroundcolor": "#E5ECF6",
            "gridcolor": "white",
            "gridwidth": 2,
            "linecolor": "white",
            "showbackground": true,
            "ticks": "",
            "zerolinecolor": "white"
           },
           "zaxis": {
            "backgroundcolor": "#E5ECF6",
            "gridcolor": "white",
            "gridwidth": 2,
            "linecolor": "white",
            "showbackground": true,
            "ticks": "",
            "zerolinecolor": "white"
           }
          },
          "shapedefaults": {
           "line": {
            "color": "#2a3f5f"
           }
          },
          "ternary": {
           "aaxis": {
            "gridcolor": "white",
            "linecolor": "white",
            "ticks": ""
           },
           "baxis": {
            "gridcolor": "white",
            "linecolor": "white",
            "ticks": ""
           },
           "bgcolor": "#E5ECF6",
           "caxis": {
            "gridcolor": "white",
            "linecolor": "white",
            "ticks": ""
           }
          },
          "title": {
           "x": 0.05
          },
          "xaxis": {
           "automargin": true,
           "gridcolor": "white",
           "linecolor": "white",
           "ticks": "",
           "title": {
            "standoff": 15
           },
           "zerolinecolor": "white",
           "zerolinewidth": 2
          },
          "yaxis": {
           "automargin": true,
           "gridcolor": "white",
           "linecolor": "white",
           "ticks": "",
           "title": {
            "standoff": 15
           },
           "zerolinecolor": "white",
           "zerolinewidth": 2
          }
         }
        },
        "title": {
         "text": "R²"
        },
        "width": 600,
        "xaxis": {
         "title": {
          "text": "Models"
         }
        },
        "yaxis": {
         "title": {
          "text": "Value"
         }
        }
       }
      }
     },
     "metadata": {},
     "output_type": "display_data"
    }
   ],
   "source": [
    "fig = go.Figure()\n",
    "\n",
    "# Bar chart for R²\n",
    "fig.add_trace(go.Bar(\n",
    "    x=models,\n",
    "    y=train_r2,\n",
    "    name='Train R²',\n",
    "    marker_color='blue',\n",
    "    text=train_r2,  # Add this line to specify the text for each bar\n",
    "    # 'auto' places the text inside the bars; you can also use 'outside' or 'inside'\n",
    "    textposition='auto'\n",
    "))\n",
    "\n",
    "fig.add_trace(go.Bar(\n",
    "    x=models,\n",
    "    y=test_r2,\n",
    "    name='Test R²',\n",
    "    marker_color='red',\n",
    "    text=test_r2,  # Add this line to specify the text for each bar\n",
    "    # 'auto' places the text inside the bars; you can also use 'outside' or 'inside'\n",
    "    textposition='auto'\n",
    "))\n",
    "\n",
    "# Update the layout\n",
    "fig.update_layout(\n",
    "    barmode='group',\n",
    "    title='R²',\n",
    "    xaxis_title='Models',\n",
    "    yaxis_title='Value',\n",
    "    legend_title='Data',\n",
    "    width=600,\n",
    "    # plot_bgcolor='rgba(0,0,0,0)',  # Set plot background color to transparent\n",
    "    # paper_bgcolor='rgba(0,0,0,0)'\n",
    ")\n",
    "\n",
    "# Show the plot\n",
    "fig.show()"
   ]
  },
  {
   "cell_type": "markdown",
   "metadata": {},
   "source": [
    "hyperparams tuning"
   ]
  },
  {
   "cell_type": "code",
   "execution_count": 661,
   "metadata": {},
   "outputs": [
    {
     "name": "stderr",
     "output_type": "stream",
     "text": [
      "c:\\Users\\DataScience\\AppData\\Local\\Programs\\Python\\Python310\\lib\\site-packages\\sklearn\\utils\\validation.py:1183: DataConversionWarning:\n",
      "\n",
      "A column-vector y was passed when a 1d array was expected. Please change the shape of y to (n_samples, ), for example using ravel().\n",
      "\n"
     ]
    },
    {
     "name": "stdout",
     "output_type": "stream",
     "text": [
      "[LightGBM] [Warning] min_data_in_leaf is set=20, min_child_samples=20 will be ignored. Current value: min_data_in_leaf=20\n",
      "[LightGBM] [Warning] Accuracy may be bad since you didn't explicitly set num_leaves OR 2^max_depth > num_leaves. (num_leaves=31).\n",
      "[LightGBM] [Warning] min_data_in_leaf is set=20, min_child_samples=20 will be ignored. Current value: min_data_in_leaf=20\n",
      "[LightGBM] [Warning] Accuracy may be bad since you didn't explicitly set num_leaves OR 2^max_depth > num_leaves. (num_leaves=31).\n",
      "[LightGBM] [Info] Auto-choosing col-wise multi-threading, the overhead of testing was 0.004517 seconds.\n",
      "You can set `force_col_wise=true` to remove the overhead.\n",
      "[LightGBM] [Info] Total Bins 12946\n",
      "[LightGBM] [Info] Number of data points in the train set: 3122, number of used features: 83\n",
      "[LightGBM] [Info] Start training from score 20786.633080\n",
      "Best Hyperparameters:  {'learning_rate': 0.05, 'max_depth': 15, 'min_data_in_leaf': 20, 'n_estimators': 50, 'num_leaves': 31}\n",
      "Best RMSE Score:  -35581.165733741895\n"
     ]
    }
   ],
   "source": [
    "from sklearn.model_selection import GridSearchCV\n",
    "\n",
    "# Define the ExtraTrees Regressor model\n",
    "selected_model = LGBMRegressor()\n",
    "\n",
    "# Define the hyperparameter grid for tuning\n",
    "complex_param_grid = {\n",
    "    'num_leaves': [15, 31, 55],\n",
    "    'max_depth': [-1, 5, 10, 15],\n",
    "    'learning_rate': [0.01, 0.05, 0.1, 0.2],\n",
    "    'n_estimators': [50, 100, 150],\n",
    "    'min_data_in_leaf': [20, 31, 50, 100],\n",
    "    'bagging_fraction': [0.5, 0.7, 0.9, 1.0],\n",
    "    'feature_fraction': [0.5, 0.7, 0.9, 1.0],\n",
    "    'lambda_l1': [0, 0.01, 0.1, 1],\n",
    "    'lambda_l2': [0, 0.01, 0.1, 1],\n",
    "    'min_gain_to_split': [0, 0.1, 0.5, 1]\n",
    "}\n",
    "\n",
    "param_grid = {\n",
    "    'num_leaves': [15, 31, 55],  # Controls complexity of the model\n",
    "    'max_depth': [-1, 5, 10, 15],    # Limits the depth of tree, -1 for no limit\n",
    "    'learning_rate': [0.01, 0.05, 0.1],  # Impacts how quickly the model learns\n",
    "    'n_estimators': [50, 100, 150],     # Number of boosting rounds\n",
    "    'min_data_in_leaf': [20, 31, 50, 100]    # Minimum samples in a leaf\n",
    "}\n",
    "\n",
    "\n",
    "\n",
    "# Perform randomized search cross-validation\n",
    "grid_search = GridSearchCV(\n",
    "    selected_model, param_grid, cv=4, scoring='neg_root_mean_squared_error', n_jobs=4)\n",
    "grid_search.fit(X, y)\n",
    "\n",
    "# Print the best hyperparameters and corresponding R² score\n",
    "print(\"Best Hyperparameters: \", grid_search.best_params_)\n",
    "print(\"Best RMSE Score: \", grid_search.best_score_)"
   ]
  },
  {
   "cell_type": "code",
   "execution_count": 662,
   "metadata": {},
   "outputs": [],
   "source": [
    "best_params = {'learning_rate': 0.05, 'max_depth': 15, 'min_data_in_leaf': 20, 'n_estimators': 50, 'num_leaves': 31}\n",
    "# Create Extra Trees model using the best parameters\n",
    "best_model = LGBMRegressor(n_estimators=best_params['n_estimators'],\n",
    "                                             max_depth=best_params['max_depth'],\n",
    "                                             min_data_in_leaf=best_params['min_data_in_leaf'],\n",
    "                                             num_leaves=best_params['num_leaves'],\n",
    "                                             learning_rate=best_params['learning_rate'], random_state=42)"
   ]
  },
  {
   "cell_type": "code",
   "execution_count": 663,
   "metadata": {},
   "outputs": [
    {
     "name": "stderr",
     "output_type": "stream",
     "text": [
      "c:\\Users\\DataScience\\AppData\\Local\\Programs\\Python\\Python310\\lib\\site-packages\\sklearn\\utils\\validation.py:1183: DataConversionWarning:\n",
      "\n",
      "A column-vector y was passed when a 1d array was expected. Please change the shape of y to (n_samples, ), for example using ravel().\n",
      "\n",
      "c:\\Users\\DataScience\\AppData\\Local\\Programs\\Python\\Python310\\lib\\site-packages\\sklearn\\utils\\validation.py:1183: DataConversionWarning:\n",
      "\n",
      "A column-vector y was passed when a 1d array was expected. Please change the shape of y to (n_samples, ), for example using ravel().\n",
      "\n"
     ]
    },
    {
     "name": "stdout",
     "output_type": "stream",
     "text": [
      "[LightGBM] [Warning] min_data_in_leaf is set=20, min_child_samples=20 will be ignored. Current value: min_data_in_leaf=20\n",
      "[LightGBM] [Warning] Accuracy may be bad since you didn't explicitly set num_leaves OR 2^max_depth > num_leaves. (num_leaves=31).\n",
      "[LightGBM] [Warning] min_data_in_leaf is set=20, min_child_samples=20 will be ignored. Current value: min_data_in_leaf=20\n",
      "[LightGBM] [Warning] Accuracy may be bad since you didn't explicitly set num_leaves OR 2^max_depth > num_leaves. (num_leaves=31).\n",
      "[LightGBM] [Info] Auto-choosing col-wise multi-threading, the overhead of testing was 0.002042 seconds.\n",
      "You can set `force_col_wise=true` to remove the overhead.\n",
      "[LightGBM] [Info] Total Bins 12562\n",
      "[LightGBM] [Info] Number of data points in the train set: 2341, number of used features: 78\n",
      "[LightGBM] [Info] Start training from score 20375.566419\n",
      "[LightGBM] [Warning] min_data_in_leaf is set=20, min_child_samples=20 will be ignored. Current value: min_data_in_leaf=20\n",
      "[LightGBM] [Warning] Accuracy may be bad since you didn't explicitly set num_leaves OR 2^max_depth > num_leaves. (num_leaves=31).\n",
      "[LightGBM] [Warning] min_data_in_leaf is set=20, min_child_samples=20 will be ignored. Current value: min_data_in_leaf=20\n",
      "[LightGBM] [Warning] Accuracy may be bad since you didn't explicitly set num_leaves OR 2^max_depth > num_leaves. (num_leaves=31).\n",
      "[LightGBM] [Warning] min_data_in_leaf is set=20, min_child_samples=20 will be ignored. Current value: min_data_in_leaf=20\n",
      "[LightGBM] [Warning] Accuracy may be bad since you didn't explicitly set num_leaves OR 2^max_depth > num_leaves. (num_leaves=31).\n",
      "[LightGBM] [Warning] min_data_in_leaf is set=20, min_child_samples=20 will be ignored. Current value: min_data_in_leaf=20\n",
      "[LightGBM] [Warning] Accuracy may be bad since you didn't explicitly set num_leaves OR 2^max_depth > num_leaves. (num_leaves=31).\n",
      "[LightGBM] [Info] Auto-choosing col-wise multi-threading, the overhead of testing was 0.001451 seconds.\n",
      "You can set `force_col_wise=true` to remove the overhead.\n",
      "[LightGBM] [Info] Total Bins 12537\n",
      "[LightGBM] [Info] Number of data points in the train set: 2341, number of used features: 77\n",
      "[LightGBM] [Info] Start training from score 21465.653424\n",
      "[LightGBM] [Warning] min_data_in_leaf is set=20, min_child_samples=20 will be ignored. Current value: min_data_in_leaf=20\n",
      "[LightGBM] [Warning] Accuracy may be bad since you didn't explicitly set num_leaves OR 2^max_depth > num_leaves. (num_leaves=31).\n",
      "[LightGBM] [Warning] min_data_in_leaf is set=20, min_child_samples=20 will be ignored. Current value: min_data_in_leaf=20\n",
      "[LightGBM] [Warning] Accuracy may be bad since you didn't explicitly set num_leaves OR 2^max_depth > num_leaves. (num_leaves=31).\n",
      "[LightGBM] [Warning] min_data_in_leaf is set=20, min_child_samples=20 will be ignored. Current value: min_data_in_leaf=20\n",
      "[LightGBM] [Warning] Accuracy may be bad since you didn't explicitly set num_leaves OR 2^max_depth > num_leaves. (num_leaves=31).\n",
      "[LightGBM] [Warning] min_data_in_leaf is set=20, min_child_samples=20 will be ignored. Current value: min_data_in_leaf=20\n",
      "[LightGBM] [Warning] Accuracy may be bad since you didn't explicitly set num_leaves OR 2^max_depth > num_leaves. (num_leaves=31).\n",
      "[LightGBM] [Info] Auto-choosing col-wise multi-threading, the overhead of testing was 0.001780 seconds.\n",
      "You can set `force_col_wise=true` to remove the overhead.\n",
      "[LightGBM] [Info] Total Bins 12524\n",
      "[LightGBM] [Info] Number of data points in the train set: 2342, number of used features: 77\n",
      "[LightGBM] [Info] Start training from score 20376.407872\n"
     ]
    },
    {
     "name": "stderr",
     "output_type": "stream",
     "text": [
      "c:\\Users\\DataScience\\AppData\\Local\\Programs\\Python\\Python310\\lib\\site-packages\\sklearn\\utils\\validation.py:1183: DataConversionWarning:\n",
      "\n",
      "A column-vector y was passed when a 1d array was expected. Please change the shape of y to (n_samples, ), for example using ravel().\n",
      "\n",
      "c:\\Users\\DataScience\\AppData\\Local\\Programs\\Python\\Python310\\lib\\site-packages\\sklearn\\utils\\validation.py:1183: DataConversionWarning:\n",
      "\n",
      "A column-vector y was passed when a 1d array was expected. Please change the shape of y to (n_samples, ), for example using ravel().\n",
      "\n"
     ]
    },
    {
     "name": "stdout",
     "output_type": "stream",
     "text": [
      "[LightGBM] [Warning] min_data_in_leaf is set=20, min_child_samples=20 will be ignored. Current value: min_data_in_leaf=20\n",
      "[LightGBM] [Warning] Accuracy may be bad since you didn't explicitly set num_leaves OR 2^max_depth > num_leaves. (num_leaves=31).\n",
      "[LightGBM] [Warning] min_data_in_leaf is set=20, min_child_samples=20 will be ignored. Current value: min_data_in_leaf=20\n",
      "[LightGBM] [Warning] Accuracy may be bad since you didn't explicitly set num_leaves OR 2^max_depth > num_leaves. (num_leaves=31).\n",
      "[LightGBM] [Warning] min_data_in_leaf is set=20, min_child_samples=20 will be ignored. Current value: min_data_in_leaf=20\n",
      "[LightGBM] [Warning] Accuracy may be bad since you didn't explicitly set num_leaves OR 2^max_depth > num_leaves. (num_leaves=31).\n",
      "[LightGBM] [Warning] min_data_in_leaf is set=20, min_child_samples=20 will be ignored. Current value: min_data_in_leaf=20\n",
      "[LightGBM] [Warning] Accuracy may be bad since you didn't explicitly set num_leaves OR 2^max_depth > num_leaves. (num_leaves=31).\n",
      "[LightGBM] [Info] Auto-choosing col-wise multi-threading, the overhead of testing was 0.001237 seconds.\n",
      "You can set `force_col_wise=true` to remove the overhead.\n",
      "[LightGBM] [Info] Total Bins 12589\n",
      "[LightGBM] [Info] Number of data points in the train set: 2342, number of used features: 79\n",
      "[LightGBM] [Info] Start training from score 20929.019016\n",
      "[LightGBM] [Warning] min_data_in_leaf is set=20, min_child_samples=20 will be ignored. Current value: min_data_in_leaf=20\n",
      "[LightGBM] [Warning] Accuracy may be bad since you didn't explicitly set num_leaves OR 2^max_depth > num_leaves. (num_leaves=31).\n",
      "[LightGBM] [Warning] min_data_in_leaf is set=20, min_child_samples=20 will be ignored. Current value: min_data_in_leaf=20\n",
      "[LightGBM] [Warning] Accuracy may be bad since you didn't explicitly set num_leaves OR 2^max_depth > num_leaves. (num_leaves=31).\n"
     ]
    }
   ],
   "source": [
    "k = 4\n",
    "kf = KFold(n_splits=k)\n",
    "final_results = {}\n",
    "\n",
    "train_rmse_scores = []\n",
    "train_r2_scores = []\n",
    "test_rmse_scores = []\n",
    "test_r2_scores = []\n",
    "\n",
    "for train_index, test_index in kf.split(X):\n",
    "    x_train_fold, x_test_fold = X[train_index], X[test_index]\n",
    "    y_train_fold, y_test_fold = y[train_index], y[test_index]\n",
    "\n",
    "    best_model.fit(x_train_fold, y_train_fold)\n",
    "    y_pred_train = best_model.predict(x_train_fold)\n",
    "    y_pred_test = best_model.predict(x_test_fold)\n",
    "\n",
    "    r2_train = r2_score(y_train_fold, y_pred_train)\n",
    "    rmse_train = mean_squared_error(\n",
    "        y_train_fold, y_pred_train, squared=False)\n",
    "    r2_test = r2_score(y_test_fold, y_pred_test)\n",
    "    rmse_test = mean_squared_error(y_test_fold, y_pred_test, squared=False)\n",
    "\n",
    "    train_rmse_scores.append(rmse_train)\n",
    "    train_r2_scores.append(r2_train)\n",
    "    test_rmse_scores.append(rmse_test)\n",
    "    test_r2_scores.append(r2_test)\n",
    "\n",
    "avg_train_rmse = sum(train_rmse_scores) / k\n",
    "avg_train_r2 = sum(train_r2_scores) / k\n",
    "avg_test_rmse = sum(test_rmse_scores) / k\n",
    "avg_test_r2 = sum(test_r2_scores) / k\n",
    "\n",
    "\n",
    "final_results[\"metrics\"] = {\n",
    "    \"RMSE train\": avg_train_rmse,\n",
    "    \"RMSE test\": avg_test_rmse,\n",
    "    \"R² train\": avg_train_r2,\n",
    "    \"R² test\": avg_test_r2\n",
    "}"
   ]
  },
  {
   "cell_type": "code",
   "execution_count": 664,
   "metadata": {},
   "outputs": [
    {
     "name": "stdout",
     "output_type": "stream",
     "text": [
      "[LightGBM] [Warning] min_data_in_leaf is set=20, min_child_samples=20 will be ignored. Current value: min_data_in_leaf=20\n",
      "[LightGBM] [Warning] Accuracy may be bad since you didn't explicitly set num_leaves OR 2^max_depth > num_leaves. (num_leaves=31).\n",
      "[LightGBM] [Warning] min_data_in_leaf is set=20, min_child_samples=20 will be ignored. Current value: min_data_in_leaf=20\n",
      "[LightGBM] [Warning] Accuracy may be bad since you didn't explicitly set num_leaves OR 2^max_depth > num_leaves. (num_leaves=31).\n",
      "[LightGBM] [Info] Auto-choosing col-wise multi-threading, the overhead of testing was 0.001744 seconds.\n",
      "You can set `force_col_wise=true` to remove the overhead.\n",
      "[LightGBM] [Info] Total Bins 12946\n",
      "[LightGBM] [Info] Number of data points in the train set: 3122, number of used features: 83\n",
      "[LightGBM] [Info] Start training from score 20786.633080\n"
     ]
    },
    {
     "name": "stderr",
     "output_type": "stream",
     "text": [
      "c:\\Users\\DataScience\\AppData\\Local\\Programs\\Python\\Python310\\lib\\site-packages\\sklearn\\utils\\validation.py:1183: DataConversionWarning:\n",
      "\n",
      "A column-vector y was passed when a 1d array was expected. Please change the shape of y to (n_samples, ), for example using ravel().\n",
      "\n"
     ]
    },
    {
     "data": {
      "text/html": [
       "<style>#sk-container-id-6 {color: black;}#sk-container-id-6 pre{padding: 0;}#sk-container-id-6 div.sk-toggleable {background-color: white;}#sk-container-id-6 label.sk-toggleable__label {cursor: pointer;display: block;width: 100%;margin-bottom: 0;padding: 0.3em;box-sizing: border-box;text-align: center;}#sk-container-id-6 label.sk-toggleable__label-arrow:before {content: \"▸\";float: left;margin-right: 0.25em;color: #696969;}#sk-container-id-6 label.sk-toggleable__label-arrow:hover:before {color: black;}#sk-container-id-6 div.sk-estimator:hover label.sk-toggleable__label-arrow:before {color: black;}#sk-container-id-6 div.sk-toggleable__content {max-height: 0;max-width: 0;overflow: hidden;text-align: left;background-color: #f0f8ff;}#sk-container-id-6 div.sk-toggleable__content pre {margin: 0.2em;color: black;border-radius: 0.25em;background-color: #f0f8ff;}#sk-container-id-6 input.sk-toggleable__control:checked~div.sk-toggleable__content {max-height: 200px;max-width: 100%;overflow: auto;}#sk-container-id-6 input.sk-toggleable__control:checked~label.sk-toggleable__label-arrow:before {content: \"▾\";}#sk-container-id-6 div.sk-estimator input.sk-toggleable__control:checked~label.sk-toggleable__label {background-color: #d4ebff;}#sk-container-id-6 div.sk-label input.sk-toggleable__control:checked~label.sk-toggleable__label {background-color: #d4ebff;}#sk-container-id-6 input.sk-hidden--visually {border: 0;clip: rect(1px 1px 1px 1px);clip: rect(1px, 1px, 1px, 1px);height: 1px;margin: -1px;overflow: hidden;padding: 0;position: absolute;width: 1px;}#sk-container-id-6 div.sk-estimator {font-family: monospace;background-color: #f0f8ff;border: 1px dotted black;border-radius: 0.25em;box-sizing: border-box;margin-bottom: 0.5em;}#sk-container-id-6 div.sk-estimator:hover {background-color: #d4ebff;}#sk-container-id-6 div.sk-parallel-item::after {content: \"\";width: 100%;border-bottom: 1px solid gray;flex-grow: 1;}#sk-container-id-6 div.sk-label:hover label.sk-toggleable__label {background-color: #d4ebff;}#sk-container-id-6 div.sk-serial::before {content: \"\";position: absolute;border-left: 1px solid gray;box-sizing: border-box;top: 0;bottom: 0;left: 50%;z-index: 0;}#sk-container-id-6 div.sk-serial {display: flex;flex-direction: column;align-items: center;background-color: white;padding-right: 0.2em;padding-left: 0.2em;position: relative;}#sk-container-id-6 div.sk-item {position: relative;z-index: 1;}#sk-container-id-6 div.sk-parallel {display: flex;align-items: stretch;justify-content: center;background-color: white;position: relative;}#sk-container-id-6 div.sk-item::before, #sk-container-id-6 div.sk-parallel-item::before {content: \"\";position: absolute;border-left: 1px solid gray;box-sizing: border-box;top: 0;bottom: 0;left: 50%;z-index: -1;}#sk-container-id-6 div.sk-parallel-item {display: flex;flex-direction: column;z-index: 1;position: relative;background-color: white;}#sk-container-id-6 div.sk-parallel-item:first-child::after {align-self: flex-end;width: 50%;}#sk-container-id-6 div.sk-parallel-item:last-child::after {align-self: flex-start;width: 50%;}#sk-container-id-6 div.sk-parallel-item:only-child::after {width: 0;}#sk-container-id-6 div.sk-dashed-wrapped {border: 1px dashed gray;margin: 0 0.4em 0.5em 0.4em;box-sizing: border-box;padding-bottom: 0.4em;background-color: white;}#sk-container-id-6 div.sk-label label {font-family: monospace;font-weight: bold;display: inline-block;line-height: 1.2em;}#sk-container-id-6 div.sk-label-container {text-align: center;}#sk-container-id-6 div.sk-container {/* jupyter's `normalize.less` sets `[hidden] { display: none; }` but bootstrap.min.css set `[hidden] { display: none !important; }` so we also need the `!important` here to be able to override the default hidden behavior on the sphinx rendered scikit-learn.org. See: https://github.com/scikit-learn/scikit-learn/issues/21755 */display: inline-block !important;position: relative;}#sk-container-id-6 div.sk-text-repr-fallback {display: none;}</style><div id=\"sk-container-id-6\" class=\"sk-top-container\"><div class=\"sk-text-repr-fallback\"><pre>LGBMRegressor(learning_rate=0.05, max_depth=15, min_data_in_leaf=20,\n",
       "              n_estimators=50, random_state=42)</pre><b>In a Jupyter environment, please rerun this cell to show the HTML representation or trust the notebook. <br />On GitHub, the HTML representation is unable to render, please try loading this page with nbviewer.org.</b></div><div class=\"sk-container\" hidden><div class=\"sk-item\"><div class=\"sk-estimator sk-toggleable\"><input class=\"sk-toggleable__control sk-hidden--visually\" id=\"sk-estimator-id-6\" type=\"checkbox\" checked><label for=\"sk-estimator-id-6\" class=\"sk-toggleable__label sk-toggleable__label-arrow\">LGBMRegressor</label><div class=\"sk-toggleable__content\"><pre>LGBMRegressor(learning_rate=0.05, max_depth=15, min_data_in_leaf=20,\n",
       "              n_estimators=50, random_state=42)</pre></div></div></div></div></div>"
      ],
      "text/plain": [
       "LGBMRegressor(learning_rate=0.05, max_depth=15, min_data_in_leaf=20,\n",
       "              n_estimators=50, random_state=42)"
      ]
     },
     "execution_count": 664,
     "metadata": {},
     "output_type": "execute_result"
    }
   ],
   "source": [
    "best_model.fit(X, y)"
   ]
  },
  {
   "cell_type": "code",
   "execution_count": 665,
   "metadata": {},
   "outputs": [
    {
     "name": "stdout",
     "output_type": "stream",
     "text": [
      "['N_cumulee_1', 'N_cumulee_2', 'N_cumulee_3', 'N_cumulee_4', 'N_cumulee_5', 'N_cumulee_6', 'N_cumulee_7', 'N_cumulee_8', 'N_cumulee_9', 'N_cumulee_10', 'N_cumulee_11', 'N_cumulee_12', 'P_cumulee_1', 'P_cumulee_2', 'P_cumulee_3', 'P_cumulee_4', 'P_cumulee_5', 'P_cumulee_6', 'P_cumulee_7', 'P_cumulee_8', 'P_cumulee_9', 'P_cumulee_10', 'P_cumulee_11', 'P_cumulee_12', 'K_cumulee_1', 'K_cumulee_2', 'K_cumulee_3', 'K_cumulee_4', 'K_cumulee_5', 'K_cumulee_6', 'K_cumulee_7', 'K_cumulee_8', 'K_cumulee_9', 'K_cumulee_10', 'K_cumulee_11', 'K_cumulee_12', 'irrigation_cumulee_1', 'irrigation_cumulee_2', 'irrigation_cumulee_3', 'irrigation_cumulee_4', 'irrigation_cumulee_5', 'irrigation_cumulee_6', 'irrigation_cumulee_7', 'irrigation_cumulee_8', 'irrigation_cumulee_9', 'irrigation_cumulee_10', 'irrigation_cumulee_11', 'irrigation_cumulee_12', 'Sup Debut Camp', 'Tree Age', 'Days to Arrachage', 'Recolte', 'Variete_AF1', 'Variete_AF2', 'Variete_AF3', 'Variete_CLA1', 'Variete_CLA10', 'Variete_CLA11', 'Variete_CLA12', 'Variete_CLA13', 'Variete_CLA14', 'Variete_CLA15', 'Variete_CLA16', 'Variete_CLA17', 'Variete_CLA18', 'Variete_CLA2', 'Variete_CLA3', 'Variete_CLA4', 'Variete_CLA5', 'Variete_CLA6', 'Variete_CLA7', 'Variete_CLA8', 'Variete_CLA9', 'Variete_MAD1', 'Variete_MAD2', 'Variete_MAD3', 'Variete_MAD4', 'Variete_NOA1', 'Variete_ORA1', 'Variete_ORA10', 'Variete_ORA11', 'Variete_ORA12', 'Variete_ORA13', 'Variete_ORA14', 'Variete_ORA2', 'Variete_ORA3', 'Variete_ORA4', 'Variete_ORA5', 'Variete_ORA6', 'Variete_ORA7', 'Variete_ORA8', 'Variete_ORA9', 'Variete_SPA1', 'Variete_SPA10', 'Variete_SPA11', 'Variete_SPA2', 'Variete_SPA3', 'Variete_SPA4', 'Variete_SPA5', 'Variete_SPA6', 'Variete_SPA7', 'Variete_SPA8', 'Variete_SPA9', 'Porte Greffe_PG1', 'Porte Greffe_PG10', 'Porte Greffe_PG11', 'Porte Greffe_PG12', 'Porte Greffe_PG13', 'Porte Greffe_PG2', 'Porte Greffe_PG3', 'Porte Greffe_PG4', 'Porte Greffe_PG5', 'Porte Greffe_PG6', 'Porte Greffe_PG7', 'Porte Greffe_PG8', 'Porte Greffe_PG9', 'Porte Greffe_nan']\n"
     ]
    }
   ],
   "source": [
    "print(predictors_names)"
   ]
  },
  {
   "cell_type": "code",
   "execution_count": 666,
   "metadata": {},
   "outputs": [
    {
     "data": {
      "application/vnd.plotly.v1+json": {
       "config": {
        "plotlyServerURL": "https://plot.ly"
       },
       "data": [
        {
         "alignmentgroup": "True",
         "hovertemplate": "Importance=%{x}<br>Feature=%{y}<extra></extra>",
         "legendgroup": "",
         "marker": {
          "color": "#636efa",
          "pattern": {
           "shape": ""
          }
         },
         "name": "",
         "offsetgroup": "",
         "orientation": "h",
         "showlegend": false,
         "textposition": "auto",
         "type": "bar",
         "x": [
          0,
          0,
          0,
          0,
          0,
          0,
          0,
          0,
          0,
          0,
          0,
          0,
          0,
          0,
          0,
          0,
          0,
          0,
          0,
          0,
          0,
          0,
          0,
          0,
          0,
          0,
          0,
          0,
          0,
          0,
          0,
          0,
          0,
          0,
          0,
          0,
          0,
          0,
          0,
          0,
          0,
          0,
          0,
          0,
          0,
          0,
          0,
          0,
          0,
          0,
          0,
          1,
          1,
          2,
          3,
          3,
          3,
          3,
          4,
          5,
          5,
          5,
          6,
          7,
          7,
          7,
          7,
          8,
          8,
          9,
          9,
          9,
          9,
          10,
          10,
          11,
          11,
          13,
          13,
          13,
          15,
          15,
          16,
          16,
          17,
          17,
          17,
          17,
          18,
          20,
          20,
          20,
          20,
          22,
          22,
          22,
          23,
          25,
          26,
          27,
          32,
          34,
          36,
          36,
          36,
          37,
          38,
          43,
          49,
          49,
          50,
          57,
          58,
          66,
          90,
          95,
          97
         ],
         "xaxis": "x",
         "y": [
          "Variete_CLA12",
          "Variete_ORA13",
          "Variete_ORA12",
          "Variete_ORA10",
          "Variete_ORA1",
          "Variete_NOA1",
          "Variete_MAD4",
          "Variete_MAD3",
          "Variete_MAD2",
          "Variete_MAD1",
          "Variete_CLA9",
          "Variete_CLA8",
          "Variete_CLA7",
          "Variete_CLA4",
          "Variete_CLA3",
          "Variete_CLA2",
          "Variete_CLA17",
          "Variete_CLA13",
          "Porte Greffe_PG9",
          "Variete_CLA11",
          "Variete_CLA10",
          "Variete_CLA1",
          "Variete_ORA14",
          "Variete_ORA2",
          "Variete_ORA3",
          "Variete_ORA4",
          "Porte Greffe_PG8",
          "Porte Greffe_PG13",
          "Porte Greffe_PG12",
          "Porte Greffe_PG11",
          "Porte Greffe_PG10",
          "Porte Greffe_PG1",
          "Variete_SPA9",
          "Variete_SPA8",
          "Variete_SPA7",
          "Variete_SPA6",
          "Variete_AF3",
          "Variete_SPA5",
          "Variete_SPA3",
          "Variete_SPA2",
          "Variete_SPA11",
          "Variete_SPA10",
          "Variete_SPA1",
          "Variete_ORA9",
          "Variete_ORA8",
          "Variete_ORA7",
          "Variete_ORA6",
          "Variete_ORA5",
          "Variete_SPA4",
          "Variete_AF2",
          "Porte Greffe_nan",
          "Variete_AF1",
          "Porte Greffe_PG5",
          "Porte Greffe_PG3",
          "P_cumulee_12",
          "Variete_CLA15",
          "Porte Greffe_PG4",
          "Variete_ORA11",
          "P_cumulee_10",
          "N_cumulee_1",
          "Porte Greffe_PG6",
          "K_cumulee_11",
          "P_cumulee_11",
          "N_cumulee_9",
          "P_cumulee_3",
          "N_cumulee_12",
          "P_cumulee_2",
          "Variete_CLA5",
          "Porte Greffe_PG7",
          "K_cumulee_10",
          "P_cumulee_8",
          "Variete_CLA18",
          "P_cumulee_4",
          "Variete_CLA14",
          "K_cumulee_7",
          "N_cumulee_8",
          "Variete_CLA6",
          "Porte Greffe_PG2",
          "K_cumulee_12",
          "K_cumulee_6",
          "N_cumulee_11",
          "irrigation_cumulee_7",
          "K_cumulee_5",
          "K_cumulee_4",
          "N_cumulee_10",
          "P_cumulee_6",
          "N_cumulee_6",
          "K_cumulee_8",
          "P_cumulee_9",
          "N_cumulee_7",
          "K_cumulee_3",
          "irrigation_cumulee_8",
          "K_cumulee_9",
          "N_cumulee_3",
          "N_cumulee_5",
          "irrigation_cumulee_4",
          "K_cumulee_1",
          "P_cumulee_1",
          "irrigation_cumulee_3",
          "P_cumulee_7",
          "Variete_CLA16",
          "N_cumulee_2",
          "irrigation_cumulee_6",
          "K_cumulee_2",
          "irrigation_cumulee_12",
          "irrigation_cumulee_11",
          "Days to Arrachage",
          "Recolte",
          "irrigation_cumulee_5",
          "P_cumulee_5",
          "N_cumulee_4",
          "irrigation_cumulee_10",
          "irrigation_cumulee_2",
          "irrigation_cumulee_9",
          "irrigation_cumulee_1",
          "Tree Age",
          "Sup Debut Camp"
         ],
         "yaxis": "y"
        }
       ],
       "layout": {
        "barmode": "relative",
        "height": 800,
        "legend": {
         "tracegroupgap": 0
        },
        "template": {
         "data": {
          "bar": [
           {
            "error_x": {
             "color": "#f2f5fa"
            },
            "error_y": {
             "color": "#f2f5fa"
            },
            "marker": {
             "line": {
              "color": "rgb(17,17,17)",
              "width": 0.5
             },
             "pattern": {
              "fillmode": "overlay",
              "size": 10,
              "solidity": 0.2
             }
            },
            "type": "bar"
           }
          ],
          "barpolar": [
           {
            "marker": {
             "line": {
              "color": "rgb(17,17,17)",
              "width": 0.5
             },
             "pattern": {
              "fillmode": "overlay",
              "size": 10,
              "solidity": 0.2
             }
            },
            "type": "barpolar"
           }
          ],
          "carpet": [
           {
            "aaxis": {
             "endlinecolor": "#A2B1C6",
             "gridcolor": "#506784",
             "linecolor": "#506784",
             "minorgridcolor": "#506784",
             "startlinecolor": "#A2B1C6"
            },
            "baxis": {
             "endlinecolor": "#A2B1C6",
             "gridcolor": "#506784",
             "linecolor": "#506784",
             "minorgridcolor": "#506784",
             "startlinecolor": "#A2B1C6"
            },
            "type": "carpet"
           }
          ],
          "choropleth": [
           {
            "colorbar": {
             "outlinewidth": 0,
             "ticks": ""
            },
            "type": "choropleth"
           }
          ],
          "contour": [
           {
            "colorbar": {
             "outlinewidth": 0,
             "ticks": ""
            },
            "colorscale": [
             [
              0,
              "#0d0887"
             ],
             [
              0.1111111111111111,
              "#46039f"
             ],
             [
              0.2222222222222222,
              "#7201a8"
             ],
             [
              0.3333333333333333,
              "#9c179e"
             ],
             [
              0.4444444444444444,
              "#bd3786"
             ],
             [
              0.5555555555555556,
              "#d8576b"
             ],
             [
              0.6666666666666666,
              "#ed7953"
             ],
             [
              0.7777777777777778,
              "#fb9f3a"
             ],
             [
              0.8888888888888888,
              "#fdca26"
             ],
             [
              1,
              "#f0f921"
             ]
            ],
            "type": "contour"
           }
          ],
          "contourcarpet": [
           {
            "colorbar": {
             "outlinewidth": 0,
             "ticks": ""
            },
            "type": "contourcarpet"
           }
          ],
          "heatmap": [
           {
            "colorbar": {
             "outlinewidth": 0,
             "ticks": ""
            },
            "colorscale": [
             [
              0,
              "#0d0887"
             ],
             [
              0.1111111111111111,
              "#46039f"
             ],
             [
              0.2222222222222222,
              "#7201a8"
             ],
             [
              0.3333333333333333,
              "#9c179e"
             ],
             [
              0.4444444444444444,
              "#bd3786"
             ],
             [
              0.5555555555555556,
              "#d8576b"
             ],
             [
              0.6666666666666666,
              "#ed7953"
             ],
             [
              0.7777777777777778,
              "#fb9f3a"
             ],
             [
              0.8888888888888888,
              "#fdca26"
             ],
             [
              1,
              "#f0f921"
             ]
            ],
            "type": "heatmap"
           }
          ],
          "heatmapgl": [
           {
            "colorbar": {
             "outlinewidth": 0,
             "ticks": ""
            },
            "colorscale": [
             [
              0,
              "#0d0887"
             ],
             [
              0.1111111111111111,
              "#46039f"
             ],
             [
              0.2222222222222222,
              "#7201a8"
             ],
             [
              0.3333333333333333,
              "#9c179e"
             ],
             [
              0.4444444444444444,
              "#bd3786"
             ],
             [
              0.5555555555555556,
              "#d8576b"
             ],
             [
              0.6666666666666666,
              "#ed7953"
             ],
             [
              0.7777777777777778,
              "#fb9f3a"
             ],
             [
              0.8888888888888888,
              "#fdca26"
             ],
             [
              1,
              "#f0f921"
             ]
            ],
            "type": "heatmapgl"
           }
          ],
          "histogram": [
           {
            "marker": {
             "pattern": {
              "fillmode": "overlay",
              "size": 10,
              "solidity": 0.2
             }
            },
            "type": "histogram"
           }
          ],
          "histogram2d": [
           {
            "colorbar": {
             "outlinewidth": 0,
             "ticks": ""
            },
            "colorscale": [
             [
              0,
              "#0d0887"
             ],
             [
              0.1111111111111111,
              "#46039f"
             ],
             [
              0.2222222222222222,
              "#7201a8"
             ],
             [
              0.3333333333333333,
              "#9c179e"
             ],
             [
              0.4444444444444444,
              "#bd3786"
             ],
             [
              0.5555555555555556,
              "#d8576b"
             ],
             [
              0.6666666666666666,
              "#ed7953"
             ],
             [
              0.7777777777777778,
              "#fb9f3a"
             ],
             [
              0.8888888888888888,
              "#fdca26"
             ],
             [
              1,
              "#f0f921"
             ]
            ],
            "type": "histogram2d"
           }
          ],
          "histogram2dcontour": [
           {
            "colorbar": {
             "outlinewidth": 0,
             "ticks": ""
            },
            "colorscale": [
             [
              0,
              "#0d0887"
             ],
             [
              0.1111111111111111,
              "#46039f"
             ],
             [
              0.2222222222222222,
              "#7201a8"
             ],
             [
              0.3333333333333333,
              "#9c179e"
             ],
             [
              0.4444444444444444,
              "#bd3786"
             ],
             [
              0.5555555555555556,
              "#d8576b"
             ],
             [
              0.6666666666666666,
              "#ed7953"
             ],
             [
              0.7777777777777778,
              "#fb9f3a"
             ],
             [
              0.8888888888888888,
              "#fdca26"
             ],
             [
              1,
              "#f0f921"
             ]
            ],
            "type": "histogram2dcontour"
           }
          ],
          "mesh3d": [
           {
            "colorbar": {
             "outlinewidth": 0,
             "ticks": ""
            },
            "type": "mesh3d"
           }
          ],
          "parcoords": [
           {
            "line": {
             "colorbar": {
              "outlinewidth": 0,
              "ticks": ""
             }
            },
            "type": "parcoords"
           }
          ],
          "pie": [
           {
            "automargin": true,
            "type": "pie"
           }
          ],
          "scatter": [
           {
            "marker": {
             "line": {
              "color": "#283442"
             }
            },
            "type": "scatter"
           }
          ],
          "scatter3d": [
           {
            "line": {
             "colorbar": {
              "outlinewidth": 0,
              "ticks": ""
             }
            },
            "marker": {
             "colorbar": {
              "outlinewidth": 0,
              "ticks": ""
             }
            },
            "type": "scatter3d"
           }
          ],
          "scattercarpet": [
           {
            "marker": {
             "colorbar": {
              "outlinewidth": 0,
              "ticks": ""
             }
            },
            "type": "scattercarpet"
           }
          ],
          "scattergeo": [
           {
            "marker": {
             "colorbar": {
              "outlinewidth": 0,
              "ticks": ""
             }
            },
            "type": "scattergeo"
           }
          ],
          "scattergl": [
           {
            "marker": {
             "line": {
              "color": "#283442"
             }
            },
            "type": "scattergl"
           }
          ],
          "scattermapbox": [
           {
            "marker": {
             "colorbar": {
              "outlinewidth": 0,
              "ticks": ""
             }
            },
            "type": "scattermapbox"
           }
          ],
          "scatterpolar": [
           {
            "marker": {
             "colorbar": {
              "outlinewidth": 0,
              "ticks": ""
             }
            },
            "type": "scatterpolar"
           }
          ],
          "scatterpolargl": [
           {
            "marker": {
             "colorbar": {
              "outlinewidth": 0,
              "ticks": ""
             }
            },
            "type": "scatterpolargl"
           }
          ],
          "scatterternary": [
           {
            "marker": {
             "colorbar": {
              "outlinewidth": 0,
              "ticks": ""
             }
            },
            "type": "scatterternary"
           }
          ],
          "surface": [
           {
            "colorbar": {
             "outlinewidth": 0,
             "ticks": ""
            },
            "colorscale": [
             [
              0,
              "#0d0887"
             ],
             [
              0.1111111111111111,
              "#46039f"
             ],
             [
              0.2222222222222222,
              "#7201a8"
             ],
             [
              0.3333333333333333,
              "#9c179e"
             ],
             [
              0.4444444444444444,
              "#bd3786"
             ],
             [
              0.5555555555555556,
              "#d8576b"
             ],
             [
              0.6666666666666666,
              "#ed7953"
             ],
             [
              0.7777777777777778,
              "#fb9f3a"
             ],
             [
              0.8888888888888888,
              "#fdca26"
             ],
             [
              1,
              "#f0f921"
             ]
            ],
            "type": "surface"
           }
          ],
          "table": [
           {
            "cells": {
             "fill": {
              "color": "#506784"
             },
             "line": {
              "color": "rgb(17,17,17)"
             }
            },
            "header": {
             "fill": {
              "color": "#2a3f5f"
             },
             "line": {
              "color": "rgb(17,17,17)"
             }
            },
            "type": "table"
           }
          ]
         },
         "layout": {
          "annotationdefaults": {
           "arrowcolor": "#f2f5fa",
           "arrowhead": 0,
           "arrowwidth": 1
          },
          "autotypenumbers": "strict",
          "coloraxis": {
           "colorbar": {
            "outlinewidth": 0,
            "ticks": ""
           }
          },
          "colorscale": {
           "diverging": [
            [
             0,
             "#8e0152"
            ],
            [
             0.1,
             "#c51b7d"
            ],
            [
             0.2,
             "#de77ae"
            ],
            [
             0.3,
             "#f1b6da"
            ],
            [
             0.4,
             "#fde0ef"
            ],
            [
             0.5,
             "#f7f7f7"
            ],
            [
             0.6,
             "#e6f5d0"
            ],
            [
             0.7,
             "#b8e186"
            ],
            [
             0.8,
             "#7fbc41"
            ],
            [
             0.9,
             "#4d9221"
            ],
            [
             1,
             "#276419"
            ]
           ],
           "sequential": [
            [
             0,
             "#0d0887"
            ],
            [
             0.1111111111111111,
             "#46039f"
            ],
            [
             0.2222222222222222,
             "#7201a8"
            ],
            [
             0.3333333333333333,
             "#9c179e"
            ],
            [
             0.4444444444444444,
             "#bd3786"
            ],
            [
             0.5555555555555556,
             "#d8576b"
            ],
            [
             0.6666666666666666,
             "#ed7953"
            ],
            [
             0.7777777777777778,
             "#fb9f3a"
            ],
            [
             0.8888888888888888,
             "#fdca26"
            ],
            [
             1,
             "#f0f921"
            ]
           ],
           "sequentialminus": [
            [
             0,
             "#0d0887"
            ],
            [
             0.1111111111111111,
             "#46039f"
            ],
            [
             0.2222222222222222,
             "#7201a8"
            ],
            [
             0.3333333333333333,
             "#9c179e"
            ],
            [
             0.4444444444444444,
             "#bd3786"
            ],
            [
             0.5555555555555556,
             "#d8576b"
            ],
            [
             0.6666666666666666,
             "#ed7953"
            ],
            [
             0.7777777777777778,
             "#fb9f3a"
            ],
            [
             0.8888888888888888,
             "#fdca26"
            ],
            [
             1,
             "#f0f921"
            ]
           ]
          },
          "colorway": [
           "#636efa",
           "#EF553B",
           "#00cc96",
           "#ab63fa",
           "#FFA15A",
           "#19d3f3",
           "#FF6692",
           "#B6E880",
           "#FF97FF",
           "#FECB52"
          ],
          "font": {
           "color": "#f2f5fa"
          },
          "geo": {
           "bgcolor": "rgb(17,17,17)",
           "lakecolor": "rgb(17,17,17)",
           "landcolor": "rgb(17,17,17)",
           "showlakes": true,
           "showland": true,
           "subunitcolor": "#506784"
          },
          "hoverlabel": {
           "align": "left"
          },
          "hovermode": "closest",
          "mapbox": {
           "style": "dark"
          },
          "paper_bgcolor": "rgb(17,17,17)",
          "plot_bgcolor": "rgb(17,17,17)",
          "polar": {
           "angularaxis": {
            "gridcolor": "#506784",
            "linecolor": "#506784",
            "ticks": ""
           },
           "bgcolor": "rgb(17,17,17)",
           "radialaxis": {
            "gridcolor": "#506784",
            "linecolor": "#506784",
            "ticks": ""
           }
          },
          "scene": {
           "xaxis": {
            "backgroundcolor": "rgb(17,17,17)",
            "gridcolor": "#506784",
            "gridwidth": 2,
            "linecolor": "#506784",
            "showbackground": true,
            "ticks": "",
            "zerolinecolor": "#C8D4E3"
           },
           "yaxis": {
            "backgroundcolor": "rgb(17,17,17)",
            "gridcolor": "#506784",
            "gridwidth": 2,
            "linecolor": "#506784",
            "showbackground": true,
            "ticks": "",
            "zerolinecolor": "#C8D4E3"
           },
           "zaxis": {
            "backgroundcolor": "rgb(17,17,17)",
            "gridcolor": "#506784",
            "gridwidth": 2,
            "linecolor": "#506784",
            "showbackground": true,
            "ticks": "",
            "zerolinecolor": "#C8D4E3"
           }
          },
          "shapedefaults": {
           "line": {
            "color": "#f2f5fa"
           }
          },
          "sliderdefaults": {
           "bgcolor": "#C8D4E3",
           "bordercolor": "rgb(17,17,17)",
           "borderwidth": 1,
           "tickwidth": 0
          },
          "ternary": {
           "aaxis": {
            "gridcolor": "#506784",
            "linecolor": "#506784",
            "ticks": ""
           },
           "baxis": {
            "gridcolor": "#506784",
            "linecolor": "#506784",
            "ticks": ""
           },
           "bgcolor": "rgb(17,17,17)",
           "caxis": {
            "gridcolor": "#506784",
            "linecolor": "#506784",
            "ticks": ""
           }
          },
          "title": {
           "x": 0.05
          },
          "updatemenudefaults": {
           "bgcolor": "#506784",
           "borderwidth": 0
          },
          "xaxis": {
           "automargin": true,
           "gridcolor": "#283442",
           "linecolor": "#506784",
           "ticks": "",
           "title": {
            "standoff": 15
           },
           "zerolinecolor": "#283442",
           "zerolinewidth": 2
          },
          "yaxis": {
           "automargin": true,
           "gridcolor": "#283442",
           "linecolor": "#506784",
           "ticks": "",
           "title": {
            "standoff": 15
           },
           "zerolinecolor": "#283442",
           "zerolinewidth": 2
          }
         }
        },
        "title": {
         "text": "Feature Importances"
        },
        "xaxis": {
         "anchor": "y",
         "domain": [
          0,
          1
         ],
         "title": {
          "text": "Relative Importance"
         }
        },
        "yaxis": {
         "anchor": "x",
         "categoryorder": "total ascending",
         "domain": [
          0,
          1
         ],
         "title": {
          "text": "Features"
         }
        }
       }
      }
     },
     "metadata": {},
     "output_type": "display_data"
    }
   ],
   "source": [
    "import plotly.express as px\n",
    "\n",
    "# Assuming feature_importances and feature_names are already defined\n",
    "feature_importances = best_model.feature_importances_\n",
    "feature_names = predictors_names\n",
    "indices = np.argsort(feature_importances)\n",
    "\n",
    "# Create a DataFrame for plotting\n",
    "importance_df = pd.DataFrame({\n",
    "    'Feature': [feature_names[i] for i in indices],\n",
    "    'Importance': feature_importances[indices]\n",
    "})\n",
    "\n",
    "# Create an interactive bar chart\n",
    "fig = px.bar(importance_df, x='Importance', y='Feature', orientation='h',\n",
    "             title=\"Feature Importances\")\n",
    "\n",
    "# Adjust layout for better readability\n",
    "fig.update_layout(\n",
    "    xaxis_title='Relative Importance',\n",
    "    yaxis_title='Features',\n",
    "    template='plotly_dark',  # or choose 'plotly', 'plotly_white', etc.\n",
    "    yaxis={'categoryorder': 'total ascending'},\n",
    "    height=800  # You can adjust the height for better visibility\n",
    ")\n",
    "\n",
    "fig.show()"
   ]
  },
  {
   "cell_type": "code",
   "execution_count": 667,
   "metadata": {},
   "outputs": [
    {
     "name": "stdout",
     "output_type": "stream",
     "text": [
      "[LightGBM] [Warning] min_data_in_leaf is set=20, min_child_samples=20 will be ignored. Current value: min_data_in_leaf=20\n",
      "[LightGBM] [Warning] Accuracy may be bad since you didn't explicitly set num_leaves OR 2^max_depth > num_leaves. (num_leaves=31).\n"
     ]
    }
   ],
   "source": [
    "X_sub = test[predictors_names].values\n",
    "\n",
    "y_sub = best_model.predict(X_sub)"
   ]
  },
  {
   "cell_type": "markdown",
   "metadata": {},
   "source": [
    "export"
   ]
  },
  {
   "cell_type": "code",
   "execution_count": null,
   "metadata": {},
   "outputs": [],
   "source": [
    "y_sub.shape"
   ]
  },
  {
   "cell_type": "code",
   "execution_count": null,
   "metadata": {},
   "outputs": [],
   "source": [
    "y_pred = np.array(y_sub)  # Convert to numpy array if not already\n",
    "assert len(y_pred) == 781, \"y_pred must have exactly 781 rows\"\n",
    "\n",
    "# Create a DataFrame. Adjust column names as per the competition's requirement.\n",
    "# Usually, you will have an ID column and a prediction column.\n",
    "submission_df = pd.DataFrame({\n",
    "    'Id': range(1, 782),  # Example: creating a sequence of IDs from 1 to 781\n",
    "    'Tonnage': y_pred\n",
    "})\n",
    "\n",
    "# Export to CSV\n",
    "csv_file = \"submission.csv\"\n",
    "submission_df.to_csv(csv_file, index=False)"
   ]
  },
  {
   "cell_type": "code",
   "execution_count": null,
   "metadata": {},
   "outputs": [],
   "source": [
    "## Linear reg with regularization"
   ]
  }
 ],
 "metadata": {
  "kernelspec": {
   "display_name": "Python 3",
   "language": "python",
   "name": "python3"
  },
  "language_info": {
   "codemirror_mode": {
    "name": "ipython",
    "version": 3
   },
   "file_extension": ".py",
   "mimetype": "text/x-python",
   "name": "python",
   "nbconvert_exporter": "python",
   "pygments_lexer": "ipython3",
   "version": "3.10.0"
  },
  "orig_nbformat": 4
 },
 "nbformat": 4,
 "nbformat_minor": 2
}
