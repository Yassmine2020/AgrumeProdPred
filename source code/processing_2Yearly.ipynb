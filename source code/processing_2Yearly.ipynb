{
 "cells": [
  {
   "cell_type": "code",
   "execution_count": null,
   "metadata": {},
   "outputs": [],
   "source": [
    "import pandas as pd\n",
    "import numpy as np\n",
    "import matplotlib.pyplot as plt\n",
    "import seaborn as sns\n",
    "from scipy import stats\n",
    "from sklearn.metrics import mean_squared_error, mean_absolute_error\n",
    "from datetime import datetime\n",
    "import os\n",
    "\n",
    "from sklearn.model_selection import train_test_split\n",
    "from sklearn.linear_model import LinearRegression\n",
    "from sklearn.metrics import mean_squared_error\n",
    "from sklearn.preprocessing import OneHotEncoder\n",
    "\n",
    "folder_path2 = \"../processing_2\"\n"
   ]
  },
  {
   "cell_type": "markdown",
   "metadata": {},
   "source": [
    "## SMTHG on test train"
   ]
  },
  {
   "cell_type": "code",
   "execution_count": null,
   "metadata": {},
   "outputs": [],
   "source": [
    "test_train = pd.read_csv(\"C:/Users/DataScience/Desktop/kaggle's competition/AgrumeProdPred/processing_1/train_test.csv\", index_col=False)"
   ]
  },
  {
   "cell_type": "code",
   "execution_count": null,
   "metadata": {},
   "outputs": [],
   "source": [
    "test_train"
   ]
  },
  {
   "cell_type": "code",
   "execution_count": null,
   "metadata": {},
   "outputs": [],
   "source": [
    "group_columns = ['Variete', 'Campagne', 'CodeTracabilite', 'Num Parcelle']\n",
    "test_train['Recolte'] = test_train.groupby(group_columns).cumcount()"
   ]
  },
  {
   "cell_type": "code",
   "execution_count": null,
   "metadata": {},
   "outputs": [],
   "source": [
    "test_train"
   ]
  },
  {
   "cell_type": "code",
   "execution_count": null,
   "metadata": {},
   "outputs": [],
   "source": [
    "filtered_df = test_train[\n",
    "    (test_train['Campagne'] == '21/22') &\n",
    "    (test_train['Region'] == 'SOUSS') &\n",
    "    (test_train['Site'] == 'Ouled Abbou') &\n",
    "    (test_train['Famille'] == 'SPA') &\n",
    "    (test_train['Variete'] == 'SPA4') &\n",
    "    (test_train['Num Parcelle'] == '21071') &\n",
    "    (test_train['CodeTracabilite'] == 'TR21071')\n",
    "]\n",
    "\n",
    "# Show the rows that match the criteria\n",
    "filtered_df"
   ]
  },
  {
   "cell_type": "code",
   "execution_count": null,
   "metadata": {},
   "outputs": [],
   "source": [
    "# Ensure the folder exists\n",
    "if not os.path.exists(folder_path2):\n",
    "    os.makedirs(folder_path2)\n",
    "\n",
    "# Specify the full file path (folder path + file name)\n",
    "file_path = os.path.join(folder_path2, 'train_test_perRecolte.csv')\n",
    "\n",
    "# Save the DataFrame to a CSV file\n",
    "test_train.to_csv(file_path, index=False)"
   ]
  },
  {
   "cell_type": "markdown",
   "metadata": {},
   "source": [
    "## Merge it with irrigation"
   ]
  },
  {
   "cell_type": "code",
   "execution_count": 1,
   "metadata": {},
   "outputs": [],
   "source": [
    "import pandas as pd"
   ]
  },
  {
   "cell_type": "code",
   "execution_count": 2,
   "metadata": {},
   "outputs": [
    {
     "name": "stderr",
     "output_type": "stream",
     "text": [
      "C:\\Users\\Oussama.ENNAJJAR\\AppData\\Local\\Temp\\ipykernel_14692\\3109397961.py:2: DtypeWarning: Columns (5) have mixed types. Specify dtype option on import or set low_memory=False.\n",
      "  df_irrig = pd.read_csv(\"../processing_1/combined_irrigation.csv\")\n"
     ]
    }
   ],
   "source": [
    "df = pd.read_csv(\"../processing_2/train_test_perRecolte.csv\")\n",
    "df_irrig = pd.read_csv(\"../processing_1/combined_irrigation.csv\")\n",
    "\n",
    "df_irrig = df_irrig.rename(columns={'Code Traçabilité': 'CodeTracabilite'})"
   ]
  },
  {
   "cell_type": "code",
   "execution_count": 3,
   "metadata": {},
   "outputs": [
    {
     "data": {
      "text/plain": [
       "Campagne           0\n",
       "Region             0\n",
       "Site               0\n",
       "Famille            0\n",
       "Variete            0\n",
       "Num Parcelle       0\n",
       "CodeTracabilite    0\n",
       "Date               0\n",
       "Qté eau (m3)       0\n",
       "dtype: int64"
      ]
     },
     "execution_count": 3,
     "metadata": {},
     "output_type": "execute_result"
    }
   ],
   "source": [
    "df_irrig.isnull().sum()"
   ]
  },
  {
   "cell_type": "code",
   "execution_count": 4,
   "metadata": {},
   "outputs": [
    {
     "name": "stderr",
     "output_type": "stream",
     "text": [
      "C:\\Users\\Oussama.ENNAJJAR\\AppData\\Local\\Temp\\ipykernel_14692\\1914679177.py:3: UserWarning: Could not infer format, so each element will be parsed individually, falling back to `dateutil`. To ensure parsing is consistent and as-expected, please specify a format.\n",
      "  df_irrig['Date'] = pd.to_datetime(df_irrig['Date'], dayfirst=True, errors='coerce')\n"
     ]
    }
   ],
   "source": [
    "# Convert 'Date' columns to datetime\n",
    "df['Date'] = pd.to_datetime(df['Date'], dayfirst=True, errors='coerce')\n",
    "df_irrig['Date'] = pd.to_datetime(df_irrig['Date'], dayfirst=True, errors='coerce')\n",
    "\n",
    "# Clean the 'Qté eau (m3)' column\n",
    "df_irrig['Qté eau (m3)'] = df_irrig['Qté eau (m3)'].str.replace(',', '.')\n",
    "df_irrig['Qté eau (m3)'] = df_irrig['Qté eau (m3)'].str.replace(r'[^\\d.-]', '', regex=True).astype(float)\n",
    "\n",
    "\n",
    "# # Sort both dataframes by necessary columns and 'Date'\n",
    "# df= df.sort_values(by=['Campagne', 'Variete', 'Num Parcelle', 'CodeTracabilite', 'Date'])\n",
    "# df_irrig = df_irrig.sort_values(by=['Campagne', 'Variete', 'Num Parcelle', 'CodeTracabilite', 'Date'])"
   ]
  },
  {
   "cell_type": "code",
   "execution_count": 5,
   "metadata": {},
   "outputs": [
    {
     "data": {
      "text/plain": [
       "True"
      ]
     },
     "execution_count": 5,
     "metadata": {},
     "output_type": "execute_result"
    }
   ],
   "source": [
    "len(df_irrig[df_irrig[\"Qté eau (m3)\"] != 0]) == len(df_irrig)"
   ]
  },
  {
   "cell_type": "code",
   "execution_count": 6,
   "metadata": {},
   "outputs": [
    {
     "data": {
      "text/plain": [
       "Index(['Campagne', 'Region', 'Site', 'Famille', 'Variete', 'Num Parcelle',\n",
       "       'CodeTracabilite', 'Date', 'Tonnage', 'is_train', 'Recolte'],\n",
       "      dtype='object')"
      ]
     },
     "execution_count": 6,
     "metadata": {},
     "output_type": "execute_result"
    }
   ],
   "source": [
    "df.columns"
   ]
  },
  {
   "cell_type": "code",
   "execution_count": 7,
   "metadata": {},
   "outputs": [
    {
     "data": {
      "text/plain": [
       "7"
      ]
     },
     "execution_count": 7,
     "metadata": {},
     "output_type": "execute_result"
    }
   ],
   "source": [
    "len(df[\n",
    "    (df['Site'] == 'Rabat')&\n",
    "    (df['is_train'] == False)\n",
    "    ])"
   ]
  },
  {
   "cell_type": "markdown",
   "metadata": {},
   "source": [
    "CORRECTIONS !"
   ]
  },
  {
   "cell_type": "code",
   "execution_count": 8,
   "metadata": {},
   "outputs": [],
   "source": [
    "def remove_after_dot(s):\n",
    "    dot_position = s.find('.')\n",
    "    if dot_position == -1:\n",
    "        return s\n",
    "    return s[:dot_position]\n",
    "\n",
    "df_irrig['Num Parcelle'] = df_irrig['Num Parcelle'].astype(str)\n",
    "df['Num Parcelle'] = df['Num Parcelle'].astype(str)\n",
    "\n",
    "df_irrig['Num Parcelle'] = df_irrig['Num Parcelle'].apply(remove_after_dot)\n",
    "\n",
    "df['Num Parcelle'] = df['Num Parcelle'].str.strip()\n",
    "df_irrig['Num Parcelle'] = df_irrig['Num Parcelle'].str.strip()\n",
    "\n",
    "df['CodeTracabilite'] = df['CodeTracabilite'].str.strip()\n",
    "df_irrig['CodeTracabilite'] = df_irrig['CodeTracabilite'].str.strip()"
   ]
  },
  {
   "cell_type": "code",
   "execution_count": 9,
   "metadata": {},
   "outputs": [],
   "source": [
    "df['Site'].replace(\"Bengu?rir\", \"Benguérir\", inplace=True)"
   ]
  },
  {
   "cell_type": "code",
   "execution_count": 10,
   "metadata": {},
   "outputs": [
    {
     "data": {
      "text/plain": [
       "array(['11011', '12010', '12020', '12050', '13010', '15060', '14010',\n",
       "       '13030', '18030', '12030', '12040', '17010', '17020', '17030',\n",
       "       '17040', '17050', '17060', '17070', '22020', '22030', '22040',\n",
       "       '11010', '11020', '11030', '23020', '23040', '23050', '23060',\n",
       "       '23090', '23120', '22010', '19010', '13020', '23010', '23030',\n",
       "       '15010', '11240', '11130', '11212', '11211', '11140', '11160',\n",
       "       '11170', '14020', '18010', '16010', '16060', '21010', '21020',\n",
       "       '16020', '16030', '16050', '16040', '18020', '10001', '10003',\n",
       "       '10007', '10008', '10009', '10010', '10011', '10012', '10031',\n",
       "       '10033', '10034', '10035', '20001', '20002', '20003', '20004',\n",
       "       '20005', '20006', '20007', '20008', '10005', '10036', '13051',\n",
       "       '13061', '13070', '13080', '13090', '13100', '13110', '13120',\n",
       "       '13170', '15070', '13021', '13031', '13041', '13130', '11050',\n",
       "       '11112', '12090', '12150', '13150', '11222', '11221', '11223',\n",
       "       '12222', '16001', '12060', '12100', '12140', '13998', '13999',\n",
       "       '15030', '15040', '15080', '15090', '15100', '15120', '19995',\n",
       "       '19999', '22005', '12070', '12130', '14040', '14050', '14060',\n",
       "       '14081', '14082', '21090', '21100', '23080', '23100', '23110',\n",
       "       '23130', '23140', '23150', '24101', '23010 CLEMENTINE NULES',\n",
       "       '22212', '32080', '33010', '33020', '23160', '23170', '23180',\n",
       "       '23191', '23200', '23210', '23231', '24300', '21120', '21130',\n",
       "       '21140', '21150', '21160', '22050', '22060', '22080', '24102',\n",
       "       '30090', '31050', '31060', '31080', '32040', '32060', '32140',\n",
       "       '22141', '22142', '22150', '22070', '22090', '24200', '31020',\n",
       "       '31030', '31040', '32010', '32020', '32030', '32120', '32130',\n",
       "       '32150', '10114', '10115', '10124', '10125', '10126', '10127',\n",
       "       '10201', '10202', '10203', '10209', '10211', '10212', '10213',\n",
       "       '20118', '20119', '20121', '20122', '20123', '20132', '20133',\n",
       "       '20204', '20205', '20206', '20207', '20208', '20216', '20217',\n",
       "       '20235', '30138', '30139', '30147', '30148', '30149', '30156',\n",
       "       '30234', '30236', '30237', '30251', '40128', '40129', '40131',\n",
       "       '40141', '40142', '40143', '40244', '40245', '40246', '40257',\n",
       "       '40258', '40259', '40261', '50152', '50153', '50154', '50155',\n",
       "       '50162', '50163', '50164', '50165', '50166', '50167', '50168',\n",
       "       '50169', '50171', '50172', '50173', '50174', '50175', '50176',\n",
       "       '10101', '10102', '10103', '10104', '10105', '10106', '10107',\n",
       "       '10108', '10109', '10111', '10112', '10113', '10116', '10117',\n",
       "       '10118', '10119', '10121', '10122', '20124', '20125', '20126',\n",
       "       '20127', '20128', '20129', '20131', '20134', '20135', '20136',\n",
       "       '20137', '20138', '20139', '20141', '20142', '20143', '20144',\n",
       "       '30145', '30146', '30151', '30152', '30153', '30154', '30155',\n",
       "       '30157', '30158', '30159', '30161', '30162', '30163', '30164',\n",
       "       '30165', '40166', '40167', '40168', '40169', '40171', '40172',\n",
       "       '40173', '40174', '40175', '40176', '40177', '40178', '40179',\n",
       "       '40181', '40182', '40183', '40184', '40185', '50186', '50187',\n",
       "       '50188', '50189', '50191', '50192', '50193', '50194', '50195',\n",
       "       '50196', '50197', '50198', '50199', '51101', '51102', '51103',\n",
       "       '51104', '51105', '51106', '51107', '11077', '11078', '11079',\n",
       "       '11080', '11081', '11082', '11083', '11084', '11001', '11002',\n",
       "       '11003', '11004', '11005', '11006', '11007', '11008', '11009',\n",
       "       '11012', '11013', '11014', '11015', '11016', '11017', '11018',\n",
       "       '11019', '11021', '11022', '11023', '11024', '11025', '11026',\n",
       "       '11027', '11028', '11029', '11031', '11032', '11033', '11034',\n",
       "       '11035', '11036', '11037', '11038', '11039', '11040', '11041',\n",
       "       '11042', '11060', '11061', '11062', '11063', '11064', '11065',\n",
       "       '11043', '11044', '11045', '11046', '11047', '11048', '11049',\n",
       "       '11051', '11052', '11053', '11054', '11057', '12011', '11090',\n",
       "       '11110', '11120', '41030', '41040', '41060', '51070', '31110',\n",
       "       '31120', '31130', '41020', '41050', '41070', '41080', '41090',\n",
       "       '41100', '41110', '51010', '51030', '51040', '51050', '21030',\n",
       "       '21040', '21050', '21060', '21080', '21110', '31070', '31090',\n",
       "       '31100', '21070', '51020', '11100', '31010', '21031', '21071',\n",
       "       '21021', '21121', '21081', '21101', '21111', '21061', '21091',\n",
       "       '21041', '21011', '21042', '24020', '24040', '24050', '27020',\n",
       "       '10030', '24010', '24030', '25010', '26010', '25050', '25020',\n",
       "       '25030', '25040', '26020', '26030', '26040', '27010', '22011',\n",
       "       '14211', '26310', '27310', '21410', '13410', '24210', '25210',\n",
       "       '11310', '12410', '12510', '24110', '25110', '25410', '25510',\n",
       "       '48110', '22110', '12210', '12211', '15110', '16110', '32110',\n",
       "       '33110', '34110', '35110', '36110', '36310', '37110', '36210',\n",
       "       '60210', '60220', '60221', '20101', '10301', '10304', '10308',\n",
       "       '30101', '30103', '20201', '20202', '20209', '20104', '60110',\n",
       "       '60111', '60120', '60130', '20306', '10401', '10403', '10406',\n",
       "       '10407', '20106', '20320', '40010', '40050', '40100', '10120',\n",
       "       '10215', '20031', '20032', '20105', '20108', '20010', '20011',\n",
       "       '10070', '20050', '10040', '20042', '20043', '10100', '20030',\n",
       "       '20070', '20080', '10080', '20044', '20045', '20060', '10050',\n",
       "       '30061', '30060', '10013', '40020', '30010', '30011', '30021',\n",
       "       '30030', '30080', '30040', '30051', '30041', '30020', '20021',\n",
       "       '23011', '23012', '23013', '23014', '23021', '23022', '23023',\n",
       "       '23024', '22022', '22042', '23041', '23042', '26021', '26022',\n",
       "       '26023', '23000', '23001', '22031', '22032', '22033', '22034',\n",
       "       '22035', '23031', '23032', '23033', '23034', '23035', '14031',\n",
       "       '14032', '14070', '13997', '32050', '32100', '20213', '20214',\n",
       "       '20215', '20218', '20435', '20436', '25311', '20107', '20109',\n",
       "       '20210', '20211', '20212', '20319', '20321', '20324', '20328',\n",
       "       '20329', '20330', '20416', '20422', '20423', '20531', '25310',\n",
       "       '20437', '20438', '20439', '20540', '20541', '20542', '20543',\n",
       "       '20544', '24361', '20102', '20103', '21023', '21024', '21132',\n",
       "       '21025', '21032', '21051', '21062', '21131', '21043', '21133',\n",
       "       '21135', '11076', '11059', '17110', '17210', '17310', '18110',\n",
       "       '22210', '23310', '28110', '18210', '20101-1', '22100', '22120',\n",
       "       '11055', '11056', '18310', '25610'], dtype=object)"
      ]
     },
     "execution_count": 10,
     "metadata": {},
     "output_type": "execute_result"
    }
   ],
   "source": [
    "df_irrig[\"Num Parcelle\"].unique()\n",
    "# ▶️ Num Parcelle existant à train_test dataset, not irrigation: ['13130' '11112' '15070' '20093' '12251' '15040' '15080' '15090' '15100'\n",
    "#  '15120' '19999' '23000' '10070' '11222' '40131' '22014' '12252' '22012'\n",
    "#  '12022' '12122'], soit: 20"
   ]
  },
  {
   "cell_type": "code",
   "execution_count": 24,
   "metadata": {},
   "outputs": [
    {
     "data": {
      "text/plain": [
       "array(['TR11011', 'TR12010', 'TR12020', 'TR12050', 'TR13010', 'TR15060',\n",
       "       'TR14010', 'TR11130', 'TR11140', 'TR11120', 'TR11090', 'TR11100',\n",
       "       'TR11110', 'TR23070', 'TR23080', 'TR11070', 'TR11060', 'TR11080',\n",
       "       'TR11030', 'TR11040', 'TR11010', 'TR11020', 'TR23020', 'TR23040',\n",
       "       'TR23050', 'TR23060', 'TR11050', 'TR11240', 'TR11212', 'TR11211',\n",
       "       'TR11160', 'TR11170', 'TR14000', 'TR17010', 'TR18010', 'TR19010',\n",
       "       'TR13000', 'TR13030', 'TR11000', 'TR12000', 'TR16000', 'TR21010',\n",
       "       'TR21020', 'TR15010', 'TR16020', 'TR16030', 'TR16050', 'TR16040',\n",
       "       'TR18020', 'TR22050', 'TR22141', 'TR22220', 'TR21040', 'TR30099',\n",
       "       'TR30100', 'TR30101', 'TR22130', 'TR22142', 'TR31040', 'TR22031',\n",
       "       'TR14020', 'TR14030', 'TR14040', 'TR12030', 'TR13020', 'TR13040',\n",
       "       'TR32010', 'TR22034', 'TR13051', 'TR13061', 'TR13070', 'TR13080',\n",
       "       'TR13090', 'TR13100', 'TR13110', 'TR13120', 'TR13170', 'TR11003',\n",
       "       'TR11402', 'TR11302', 'TR11105', 'TR11203', 'TR11602', 'TR11501',\n",
       "       'TR11222', 'TR11221', 'TR11223', 'TR12222', 'TR16001', 'TR11803',\n",
       "       'TR11901', 'TR12002', 'TR12101', 'TR11703', 'TR12070', 'TR12130',\n",
       "       'TR12204', 'TR21902', 'TR21705', 'TR21807', 'TR23150', 'TR21606',\n",
       "       'TR21202', 'TR21001', 'TR31001', 'TR31102', 'TR22005', 'TR21303',\n",
       "       'TR22060', 'TR22080', 'TR24102', 'TR31303', 'TR31202', 'TR21404',\n",
       "       'TR21504', 'TR24200', 'TR31401', 'TR10000', 'TR20100', 'TR20200',\n",
       "       'TR30200', 'TR40300', 'TR40100', 'TR40200', 'TR50000', 'TR20000',\n",
       "       'TR50100', 'TR50200', 'TR11077', 'TR11078', 'TR11079', 'TR11081',\n",
       "       'TR11082', 'TR11083', 'TR11084', 'TR11300', 'TR11400', 'TR11200',\n",
       "       'TR11500', 'TR11061', 'TR11062', 'TR11063', 'TR11064', 'TR11065',\n",
       "       'TR11600', 'TR11044', 'TR11045', 'TR11046', 'TR11047', 'TR11048',\n",
       "       'TR11049', 'TR11051', 'TR11052', 'TR11053', 'TR11054', 'TR11057',\n",
       "       'TR12011', 'TR11121', 'TR21130', 'TR41040', 'TR41060', 'TR51070',\n",
       "       'TR21100', 'TR31110', 'TR31120', 'TR31130', 'TR41020', 'TR41070',\n",
       "       'TR41080', 'TR41090', 'TR41100', 'TR41110', 'TR51040', 'TR51050',\n",
       "       'TR21030', 'TR21050', 'TR21060', 'TR21080', 'TR21090', 'TR21110',\n",
       "       'TR21120', 'TR31020', 'TR31030', 'TR31080', 'TR31060', 'TR31100',\n",
       "       'TR21070', 'TR51020', 'TR31010', 'TR21031', 'TR21071', 'TR21021',\n",
       "       'TR21121', 'TR21081', 'TR21101', 'TR21111', 'TR21061', 'TR21091',\n",
       "       'TR21041', 'TR21011', 'TR21042', 'TR24020', 'TR24040', 'TR24050',\n",
       "       'TR27020', 'TR10030', 'TR10031', 'TR23010', 'TR10010', 'TR24000',\n",
       "       'TR23000', 'TR25050', 'TR25000', 'TR26000', 'TR27010', 'TR22010',\n",
       "       'TR22011', 'TR14211', 'TR26310', 'TR21410', 'TR13410', 'TR24210',\n",
       "       'TR11310', 'TR25110', 'TR25510', 'TR48110', 'TR22110', 'TR12210',\n",
       "       'TR12211', 'TR16110', 'TR32110', 'TR33110', 'TR34110', 'TR35110',\n",
       "       'TR36310', 'TR36210', 'TR60300', 'TR60400', 'TR10100', 'TR30000',\n",
       "       'TR20104', 'TR60000', 'TR60100', 'TR60200', 'TR10200', 'TR10400',\n",
       "       'TR10500', 'TR10600', 'TR20400', 'TR20300', 'TR40000', 'TR10120',\n",
       "       'TR10700', 'TR20500', 'TR20032', 'TR20108', 'TR20600', 'TR20011',\n",
       "       'TR10011', 'TR10300', 'TR30400', 'TR10013', 'TR40010', 'TR40020',\n",
       "       'TR30010', 'TR30011', 'TR30021', 'TR30500', 'TR30300', 'TR23011',\n",
       "       'TR23012', 'TR23013', 'TR23014', 'TR23021', 'TR23022', 'TR23023',\n",
       "       'TR23024', 'TR22022', 'TR22042', 'TR23041', 'TR23042', 'TR26020',\n",
       "       'TR26021', 'TR26022', 'TR26023', 'TR23001', 'TR22030', 'TR22032',\n",
       "       'TR22033', 'TR22035', 'TR23030', 'TR23031', 'TR23032', 'TR23033',\n",
       "       'TR23034', 'TR23035', 'TR14031', 'TR14032', 'TR14070', 'TR20213',\n",
       "       'TR20214', 'TR20215', 'TR20217', 'TR20218', 'TR20435', 'TR20436',\n",
       "       'TR25311', 'TR20107', 'TR20109', 'TR20210', 'TR20211', 'TR20212',\n",
       "       'TR20319', 'TR20320', 'TR20321', 'TR20324', 'TR20328', 'TR20329',\n",
       "       'TR20330', 'TR20416', 'TR20422', 'TR20423', 'TR20531', 'TR25310',\n",
       "       'TR20106', 'TR20437', 'TR20438', 'TR20439', 'TR20540', 'TR20541',\n",
       "       'TR20542', 'TR20543', 'TR20544', 'TR24361', 'TR20101', 'TR20102',\n",
       "       'TR20103', 'TR20105', 'TR21023', 'TR21024', 'TR21132', 'TR21025',\n",
       "       'TR21032', 'TR21051', 'TR21062', 'TR21131', 'TR21043', 'TR21133',\n",
       "       'TR21135', 'TR11076', 'TR11059', 'TR21140', 'TR22040', 'TR26030',\n",
       "       'TR26040', 'TR17110', 'TR17210', 'TR17310', 'TR18110', 'TR22210',\n",
       "       'TR23110', 'TR23210', 'TR23310', 'TR24110', 'TR28110', 'TR18210',\n",
       "       'TR22100', 'TR22120', 'TR11055', 'TR11056', 'TR18310', 'TR25610'],\n",
       "      dtype=object)"
      ]
     },
     "execution_count": 24,
     "metadata": {},
     "output_type": "execute_result"
    }
   ],
   "source": [
    "df_irrig[\"CodeTracabilite\"].unique()\n",
    "# ▶️ Code tracabilité existant à train_test dataset, not irrigation: ['TR12251' 'TR22014' 'TR12252' 'TR22012' 'TR12022' 'TR12122'], soit: 6"
   ]
  },
  {
   "cell_type": "code",
   "execution_count": 12,
   "metadata": {},
   "outputs": [
    {
     "name": "stdout",
     "output_type": "stream",
     "text": [
      "\n",
      "    ▶️ Code tracabilité existant à train_test dataset, not irrigation: ['TR12251' 'TR22014' 'TR12252' 'TR22012' 'TR12022' 'TR12122'], soit: 6\n",
      "    ▶️ Num Parcelle existant à train_test dataset, not irrigation: ['20093' '12251' '22014' '12252' '22012' '12022' '12122'], soit: 7\n",
      "    ▶️ Region existant à train_test dataset, not irrigation: [], soit: 0\n",
      "    ▶️ Site existant à train_test dataset, not irrigation: ['Rabat'], soit: 1\n",
      "    ▶️ Variete existant à train_test dataset, not irrigation: [], soit: 0\n",
      "    ▶️ Famille existant à train_test dataset, not irrigation: [], soit: 0\n",
      "\n",
      "\n"
     ]
    }
   ],
   "source": [
    "unique_traca_df = df[~df['CodeTracabilite'].isin(df_irrig['CodeTracabilite'])]['CodeTracabilite'].unique()\n",
    "unique_parcelle_df = df[~df['Num Parcelle'].isin(df_irrig['Num Parcelle'])]['Num Parcelle'].unique()\n",
    "unique_region_df = df[~df['Region'].isin(df_irrig['Region'])]['Region'].unique()\n",
    "unique_site_df = df[~df['Site'].isin(df_irrig['Site'])]['Site'].unique()\n",
    "unique_variete_df = df[~df['Variete'].isin(df_irrig['Variete'])]['Variete'].unique()\n",
    "unique_famille_df = df[~df['Famille'].isin(df_irrig['Famille'])]['Famille'].unique()\n",
    "\n",
    "\n",
    "\n",
    "print(f'''\n",
    "    ▶️ Code tracabilité existant à train_test dataset, not irrigation: {unique_traca_df}, soit: {len(unique_traca_df)}\n",
    "    ▶️ Num Parcelle existant à train_test dataset, not irrigation: {unique_parcelle_df}, soit: {len(unique_parcelle_df)}\n",
    "    ▶️ Region existant à train_test dataset, not irrigation: {unique_region_df}, soit: {len(unique_region_df)}\n",
    "    ▶️ Site existant à train_test dataset, not irrigation: {unique_site_df}, soit: {len(unique_site_df)}\n",
    "    ▶️ Variete existant à train_test dataset, not irrigation: {unique_variete_df}, soit: {len(unique_variete_df)}\n",
    "    ▶️ Famille existant à train_test dataset, not irrigation: {unique_famille_df}, soit: {len(unique_famille_df)}\n",
    "\n",
    "''')"
   ]
  },
  {
   "cell_type": "code",
   "execution_count": 13,
   "metadata": {},
   "outputs": [
    {
     "data": {
      "text/plain": [
       "array(['GHARB', 'HAOUZ', 'SOUSS', 'TADLA', 'ORIENTAL'], dtype=object)"
      ]
     },
     "execution_count": 13,
     "metadata": {},
     "output_type": "execute_result"
    }
   ],
   "source": [
    "df['Region'].unique()"
   ]
  },
  {
   "cell_type": "code",
   "execution_count": 16,
   "metadata": {},
   "outputs": [],
   "source": [
    "def get_irrigation_qte(row):\n",
    "    # Filter the DataFrame based on all the conditions\n",
    "    irrigation_qte = df_irrig[\n",
    "        (df_irrig['Date'] <= row['Date']) &\n",
    "        (df_irrig['Campagne'] == row['Campagne']) &\n",
    "        (df_irrig['Region'] == row['Region']) &\n",
    "        (df_irrig['Site'] == row['Site']) &\n",
    "        (df_irrig['Famille'] == row['Famille']) &\n",
    "        (df_irrig['Variete'] == row['Variete']) &\n",
    "        (df_irrig['Num Parcelle'] == row['Num Parcelle']) &\n",
    "        (df_irrig['CodeTracabilite'] == row['CodeTracabilite'])\n",
    "    ][['Qté eau (m3)']]\n",
    "\n",
    "    irrigation_cumulee = irrigation_qte.sum().iloc[0]\n",
    "    irrigation_cumulee\n",
    "    # Use .iloc[0] for positional indexing\n",
    "    if irrigation_cumulee != 0:\n",
    "        return irrigation_cumulee\n",
    "    else:\n",
    "        # print(row)\n",
    "        # print(\"➖➖➖➖➖➖➖➖➖➖➖➖➖➖➖➖\")\n",
    "        return irrigation_cumulee"
   ]
  },
  {
   "cell_type": "code",
   "execution_count": 17,
   "metadata": {},
   "outputs": [],
   "source": [
    "# df[df['Num Parcelle'].astype(str).str.startswith('23010')]"
   ]
  },
  {
   "cell_type": "code",
   "execution_count": 18,
   "metadata": {},
   "outputs": [],
   "source": [
    "df['irrigation_cumulee'] = df.apply(get_irrigation_qte, axis=1)"
   ]
  },
  {
   "cell_type": "code",
   "execution_count": 19,
   "metadata": {},
   "outputs": [],
   "source": [
    "# r = len(df[df['Site'] == 'Rabat'])\n",
    "# codes = len(df[df['CodeTracabilite'].isin(['TR12251', 'TR12252', 'TR22012', 'TR22014', 'TR12022', 'TR12122'])])\n",
    "# nums = len(df[df['Num Parcelle'].isin(['40131', '10070', '13130', '11112', '11222', '12251', '12252', '20093', \n",
    "#                        '15070', '15040', '15080', '15090', '15100', '15120', '19999', '23000', \n",
    "#                        '22012', '22014', '12022', '12122'])])\n",
    "\n",
    "# print(f'''\n",
    "#     ▶️ df with site rabat: {r},\n",
    "#     ▶️ df with the CodeTraca that doesn't exist in irrigation: {codes},\n",
    "#     ▶️ df with the Num Parcelle that doesn't exist in irrigation: {nums},\n",
    "# ''')"
   ]
  },
  {
   "cell_type": "code",
   "execution_count": 20,
   "metadata": {},
   "outputs": [
    {
     "data": {
      "text/plain": [
       "(21, 0)"
      ]
     },
     "execution_count": 20,
     "metadata": {},
     "output_type": "execute_result"
    }
   ],
   "source": [
    "len(df[df['Site'] == 'Rabat']), len(df_irrig[df_irrig['Site'] == 'Rabat'])"
   ]
  },
  {
   "cell_type": "code",
   "execution_count": 21,
   "metadata": {},
   "outputs": [
    {
     "data": {
      "text/plain": [
       "248"
      ]
     },
     "execution_count": 21,
     "metadata": {},
     "output_type": "execute_result"
    }
   ],
   "source": [
    "len(df[(df['irrigation_cumulee'] == 0)])"
   ]
  },
  {
   "cell_type": "code",
   "execution_count": null,
   "metadata": {},
   "outputs": [],
   "source": [
    "# len(df[df['irrigation_cumulee'] == 0]) ====> 248"
   ]
  },
  {
   "cell_type": "code",
   "execution_count": null,
   "metadata": {},
   "outputs": [],
   "source": [
    "# get_irrigation_qte(test_row[0], test_row[1], test_row[2], test_row[3], test_row[4], test_row[5], test_row[6], test_row[7])"
   ]
  },
  {
   "cell_type": "code",
   "execution_count": null,
   "metadata": {},
   "outputs": [],
   "source": [
    "# # Iterate over df1 and sum irrigation for each period from the earliest available date to the end date\n",
    "# for index, row in df1.iterrows():\n",
    "#     mask = (\n",
    "#         (df2['Campagne'] == row['Campagne']) &\n",
    "#         (df2['Variete'] == row['Variete']) &\n",
    "#         (df2['Num Parcelle'] == row['Num Parcelle']) &\n",
    "#         (df2['CodeTracabilite'] == row['CodeTracabilite']) &\n",
    "#         (df2['Date'] <= row['Date'])  # Using row['Date'] as the end date\n",
    "#     )\n",
    "#     df1.at[index, 'Summed_Irrigation'] = df2.loc[mask, 'Qté eau (m3)'].sum()"
   ]
  },
  {
   "cell_type": "markdown",
   "metadata": {},
   "source": [
    "## Add NPK"
   ]
  },
  {
   "cell_type": "code",
   "execution_count": 25,
   "metadata": {},
   "outputs": [
    {
     "name": "stderr",
     "output_type": "stream",
     "text": [
      "C:\\Users\\Oussama.ENNAJJAR\\AppData\\Local\\Temp\\ipykernel_14692\\3181972718.py:1: DtypeWarning: Columns (5) have mixed types. Specify dtype option on import or set low_memory=False.\n",
      "  df_npk = pd.read_csv(\"../processing_1\\combined_Apports_NPK.csv\", index_col=False)\n",
      "C:\\Users\\Oussama.ENNAJJAR\\AppData\\Local\\Temp\\ipykernel_14692\\3181972718.py:13: UserWarning: Could not infer format, so each element will be parsed individually, falling back to `dateutil`. To ensure parsing is consistent and as-expected, please specify a format.\n",
      "  df_npk['Date'] = pd.to_datetime(df_npk['Date'], dayfirst=True)\n"
     ]
    }
   ],
   "source": [
    "df_npk = pd.read_csv(\"../processing_1\\combined_Apports_NPK.csv\", index_col=False)\n",
    "\n",
    "# Clean the 'Qté eau (m3)' column\n",
    "df_npk['N'] = df_npk['N'].str.replace(',', '.')\n",
    "df_npk['N'] = df_npk['N'].str.replace(r'[^\\d.-]', '', regex=True).astype(float)\n",
    "\n",
    "df_npk['P'] = df_npk['P'].str.replace(',', '.')\n",
    "df_npk['P'] = df_npk['P'].str.replace(r'[^\\d.-]', '', regex=True).astype(float)\n",
    "\n",
    "df_npk['K'] = df_npk['K'].str.replace(',', '.')\n",
    "df_npk['K'] = df_npk['K'].str.replace(r'[^\\d.-]', '', regex=True).astype(float)\n",
    "\n",
    "df_npk['Date'] = pd.to_datetime(df_npk['Date'], dayfirst=True)"
   ]
  },
  {
   "cell_type": "code",
   "execution_count": 26,
   "metadata": {},
   "outputs": [],
   "source": [
    "# Iterate over df1 and sum NPK for each period\n",
    "for index, row in df.iterrows():\n",
    "    mask = (\n",
    "        (df_npk['Campagne'] == row['Campagne']) &\n",
    "        (df_npk['Variete'] == row['Variete']) &\n",
    "        (df_npk['Num Parcelle'] == row['Num Parcelle']) &\n",
    "        (df_npk['CodeTracabilite'] == row['CodeTracabilite']) &\n",
    "        (df_npk['Date'] <= row['Date'])\n",
    "    )\n",
    "    df.at[index, 'N_cumulee'] = df_npk.loc[mask, 'N'].sum()\n",
    "    df.at[index, 'P_cumulee'] = df_npk.loc[mask, 'P'].sum()\n",
    "    df.at[index, 'K_cumulee'] = df_npk.loc[mask, 'K'].sum()"
   ]
  },
  {
   "cell_type": "code",
   "execution_count": 28,
   "metadata": {},
   "outputs": [
    {
     "ename": "NameError",
     "evalue": "name 'folder_path2' is not defined",
     "output_type": "error",
     "traceback": [
      "\u001b[1;31m---------------------------------------------------------------------------\u001b[0m",
      "\u001b[1;31mNameError\u001b[0m                                 Traceback (most recent call last)",
      "Cell \u001b[1;32mIn[28], line 3\u001b[0m\n\u001b[0;32m      1\u001b[0m \u001b[38;5;28;01mimport\u001b[39;00m \u001b[38;5;21;01mos\u001b[39;00m\n\u001b[0;32m      2\u001b[0m \u001b[38;5;66;03m# Ensure the folder exists\u001b[39;00m\n\u001b[1;32m----> 3\u001b[0m \u001b[38;5;28;01mif\u001b[39;00m \u001b[38;5;129;01mnot\u001b[39;00m os\u001b[38;5;241m.\u001b[39mpath\u001b[38;5;241m.\u001b[39mexists(\u001b[43mfolder_path2\u001b[49m):\n\u001b[0;32m      4\u001b[0m     os\u001b[38;5;241m.\u001b[39mmakedirs(folder_path2)\n\u001b[0;32m      6\u001b[0m \u001b[38;5;66;03m# Specify the full file path (folder path + file name)\u001b[39;00m\n",
      "\u001b[1;31mNameError\u001b[0m: name 'folder_path2' is not defined"
     ]
    }
   ],
   "source": [
    "import os\n",
    "# Ensure the folder exists\n",
    "if not os.path.exists(folder_path2):\n",
    "    os.makedirs(folder_path2)\n",
    "\n",
    "# Specify the full file path (folder path + file name)\n",
    "file_path = os.path.join(folder_path2, 'train_test_merged_new.csv')\n",
    "\n",
    "# Save the DataFrame to a CSV file\n",
    "df.to_csv(file_path, index=False)"
   ]
  }
 ],
 "metadata": {
  "kernelspec": {
   "display_name": "venvagrument",
   "language": "python",
   "name": "python3"
  },
  "language_info": {
   "codemirror_mode": {
    "name": "ipython",
    "version": 3
   },
   "file_extension": ".py",
   "mimetype": "text/x-python",
   "name": "python",
   "nbconvert_exporter": "python",
   "pygments_lexer": "ipython3",
   "version": "3.10.13"
  }
 },
 "nbformat": 4,
 "nbformat_minor": 2
}
